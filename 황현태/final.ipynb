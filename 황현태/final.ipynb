{
  "nbformat": 4,
  "nbformat_minor": 0,
  "metadata": {
    "colab": {
      "provenance": [],
      "authorship_tag": "ABX9TyO9OCtECMhF8s+0kHy0Cx1a",
      "include_colab_link": true
    },
    "kernelspec": {
      "name": "python3",
      "display_name": "Python 3"
    },
    "language_info": {
      "name": "python"
    },
    "accelerator": "GPU",
    "gpuClass": "standard"
  },
  "cells": [
    {
      "cell_type": "markdown",
      "metadata": {
        "id": "view-in-github",
        "colab_type": "text"
      },
      "source": [
        "<a href=\"https://colab.research.google.com/github/JJay1010/sw-team_project/blob/main/%ED%99%A9%ED%98%84%ED%83%9C/final.ipynb\" target=\"_parent\"><img src=\"https://colab.research.google.com/assets/colab-badge.svg\" alt=\"Open In Colab\"/></a>"
      ]
    },
    {
      "cell_type": "code",
      "execution_count": 1,
      "metadata": {
        "colab": {
          "base_uri": "https://localhost:8080/"
        },
        "id": "vJAj9U1lLx_L",
        "outputId": "05d6f93b-de03-43a1-8164-eb98fb4adf3e"
      },
      "outputs": [
        {
          "output_type": "stream",
          "name": "stdout",
          "text": [
            "Mounted at /content/drive\n"
          ]
        }
      ],
      "source": [
        "import glob\n",
        "import tensorflow as tf\n",
        "import numpy as np\n",
        "import matplotlib.pyplot as plt\n",
        "import cv2\n",
        "from sklearn.model_selection import train_test_split\n",
        "import imgaug.augmenters as iaa\n",
        "from tqdm import tqdm\n",
        "from PIL import Image\n",
        "\n",
        "\n",
        "from google.colab import drive\n",
        "drive.mount('/content/drive')"
      ]
    },
    {
      "cell_type": "code",
      "source": [
        "#%cd /content\n",
        "\n",
        "!unzip -qq '/content/drive/MyDrive/ai/dog/Mu02_M.zip'"
      ],
      "metadata": {
        "id": "Mics_7Q1Lzud"
      },
      "execution_count": 2,
      "outputs": []
    },
    {
      "cell_type": "code",
      "source": [
        "from keras.preprocessing.image import ImageDataGenerator\n",
        "\n",
        "train_datagen = ImageDataGenerator(rotation_range =10, #90,\n",
        "                                   width_shift_range=0.2,\n",
        "                                   height_shift_range=0.2,\n",
        "                                   shear_range=0.2,\n",
        "                                   zoom_range=0.2,\n",
        "                                   #horizontal_flip=True,\n",
        "                                   horizontal_flip=False,\n",
        "                                   fill_mode='nearest',\n",
        "                                   validation_split=0.2\n",
        "                                   )\n",
        "\n",
        "test_datagen = ImageDataGenerator(validation_split=0.2)"
      ],
      "metadata": {
        "id": "iLb7UyGKL3Cu"
      },
      "execution_count": 3,
      "outputs": []
    },
    {
      "cell_type": "code",
      "source": [
        "input_shape = 224\n",
        "batch_size = 32"
      ],
      "metadata": {
        "id": "NP43dti3L3Eu"
      },
      "execution_count": 4,
      "outputs": []
    },
    {
      "cell_type": "code",
      "source": [
        "'''\n",
        "data_dir = '/content/raw/Ch03'\n",
        "'''\n",
        "# f = data_dir + '/.ipynb_checkpoints'\n",
        "#!rmdir /content/drive/MyDrive/ai/dog/last/.ipynb_checkpoints\n",
        "\n",
        "\n"
      ],
      "metadata": {
        "colab": {
          "base_uri": "https://localhost:8080/",
          "height": 35
        },
        "id": "a0ISLydVL3G7",
        "outputId": "afb3bec8-186c-40d9-bbe7-5c58a7fd957b"
      },
      "execution_count": 5,
      "outputs": [
        {
          "output_type": "execute_result",
          "data": {
            "text/plain": [
              "\"\\ndata_dir = '/content/raw/Ch03'\\n\""
            ],
            "application/vnd.google.colaboratory.intrinsic+json": {
              "type": "string"
            }
          },
          "metadata": {},
          "execution_count": 5
        }
      ]
    },
    {
      "cell_type": "code",
      "source": [
        "#data_dir = '/content/drive/MyDrive/ai/dog/last'\n",
        "data_dir = '/content/Mu02_M'\n",
        "'''\n",
        "!mkdir '/content/drive/MyDrive/ai/dog/last/1'\n",
        "!mkdir '/content/drive/MyDrive/ai/dog/last/0'\n",
        "\n",
        "import shutil\n",
        "shutil.move('/content/drive/MyDrive/ai/dog/last/Mu02_A_x_data_ab_tr_1000.npy', '/content/drive/MyDrive/ai/dog/last/1' )\n",
        "shutil.move('/content/drive/MyDrive/ai/dog/last/Mu02_A_x_data_tr_1000.npy', '/content/drive/MyDrive/ai/dog/last/0' )\n",
        "'''"
      ],
      "metadata": {
        "colab": {
          "base_uri": "https://localhost:8080/",
          "height": 90
        },
        "id": "dwKtQ6V8S8a6",
        "outputId": "bc97b913-bb88-43a3-a18d-ced008be5625"
      },
      "execution_count": 6,
      "outputs": [
        {
          "output_type": "execute_result",
          "data": {
            "text/plain": [
              "\"\\n!mkdir '/content/drive/MyDrive/ai/dog/last/1'\\n!mkdir '/content/drive/MyDrive/ai/dog/last/0'\\n\\nimport shutil\\nshutil.move('/content/drive/MyDrive/ai/dog/last/Mu02_A_x_data_ab_tr_1000.npy', '/content/drive/MyDrive/ai/dog/last/1' )\\nshutil.move('/content/drive/MyDrive/ai/dog/last/Mu02_A_x_data_tr_1000.npy', '/content/drive/MyDrive/ai/dog/last/0' )\\n\""
            ],
            "application/vnd.google.colaboratory.intrinsic+json": {
              "type": "string"
            }
          },
          "metadata": {},
          "execution_count": 6
        }
      ]
    },
    {
      "cell_type": "code",
      "source": [
        "\n",
        "import os\n",
        "#/Mu02_A_x_data_ab_tr_1000.npy\n",
        "os.rename(data_dir + '/ABN', data_dir + '/1')\n",
        "os.rename(data_dir + '/NOR', data_dir + '/0')"
      ],
      "metadata": {
        "id": "mLtdldYXL3JS"
      },
      "execution_count": 7,
      "outputs": []
    },
    {
      "cell_type": "code",
      "source": [
        "\n",
        "train_generator = train_datagen.flow_from_directory(data_dir,\n",
        "                                                    target_size = (input_shape,input_shape),\n",
        "                                                    batch_size=batch_size,\n",
        "                                                    class_mode='sparse',\n",
        "                                                    seed=42,\n",
        "                                                    subset='training')\n",
        "\n",
        "test_generator = test_datagen.flow_from_directory(data_dir,\n",
        "                                                  target_size=(input_shape,input_shape),\n",
        "                                                  batch_size=batch_size,\n",
        "                                                  class_mode='sparse',\n",
        "                                                  seed=42,\n",
        "                                                  subset='validation')"
      ],
      "metadata": {
        "colab": {
          "base_uri": "https://localhost:8080/"
        },
        "id": "uipyq99JL3K_",
        "outputId": "f7edd346-594d-440c-feb7-b2fcb79c64fb"
      },
      "execution_count": 8,
      "outputs": [
        {
          "output_type": "stream",
          "name": "stdout",
          "text": [
            "Found 9799 images belonging to 2 classes.\n",
            "Found 2449 images belonging to 2 classes.\n"
          ]
        }
      ]
    },
    {
      "cell_type": "code",
      "source": [
        "labels = (train_generator.class_indices)\n",
        "n_classes = len(labels)\n",
        "labels"
      ],
      "metadata": {
        "colab": {
          "base_uri": "https://localhost:8080/"
        },
        "id": "7RuGR1zBL-UU",
        "outputId": "1fb727e4-9cee-4e80-fe1b-5a783cfdadbb"
      },
      "execution_count": 9,
      "outputs": [
        {
          "output_type": "execute_result",
          "data": {
            "text/plain": [
              "{'0': 0, '1': 1}"
            ]
          },
          "metadata": {},
          "execution_count": 9
        }
      ]
    },
    {
      "cell_type": "code",
      "source": [
        "import os\n",
        "num_0 = len(os.listdir(data_dir + '/0'))\n",
        "num_1 = len(os.listdir(data_dir + '/1'))\n",
        "rate_0 = num_0/(num_0 + num_1)\n",
        "rate_1 = num_1/(num_0 + num_1)\n",
        "rate_0, rate_1"
      ],
      "metadata": {
        "colab": {
          "base_uri": "https://localhost:8080/"
        },
        "id": "tTGbXg0nL-Wx",
        "outputId": "d76fdaa8-32e7-4c5e-c7dd-46138f9223a0"
      },
      "execution_count": 10,
      "outputs": [
        {
          "output_type": "execute_result",
          "data": {
            "text/plain": [
              "(0.9875898105813194, 0.012410189418680601)"
            ]
          },
          "metadata": {},
          "execution_count": 10
        }
      ]
    },
    {
      "cell_type": "code",
      "source": [
        "from keras.applications.densenet import DenseNet121\n",
        "from keras.layers import Dense, GlobalAveragePooling2D\n",
        "from keras.models import Model\n",
        "\n",
        "def chexnet(input_shape=(224,224,3)):\n",
        "    base_model = tf.keras.applications.densenet.DenseNet121(weights='imagenet',\n",
        "                                                    include_top=False,\n",
        "                                                    input_shape=input_shape)\n",
        "    x = base_model.output\n",
        "    x = tf.keras.layers.GlobalAveragePooling2D()(x)\n",
        "    x = tf.keras.layers.Dense(512, activation='relu')(x)\n",
        "    x = tf.keras.layers.Dropout(0.5)(x)\n",
        "    predictions = tf.keras.layers.Dense(1, activation='sigmoid')(x)\n",
        "    model = tf.keras.models.Model(inputs=base_model.input, outputs=predictions)\n",
        "    return model\n",
        "\n",
        "model = chexnet()\n",
        "#model.summary()"
      ],
      "metadata": {
        "colab": {
          "base_uri": "https://localhost:8080/"
        },
        "id": "2yHjQLtUL-Y5",
        "outputId": "3b39cd41-e802-4242-babb-6f03748d57d3"
      },
      "execution_count": 11,
      "outputs": [
        {
          "output_type": "stream",
          "name": "stdout",
          "text": [
            "Downloading data from https://storage.googleapis.com/tensorflow/keras-applications/densenet/densenet121_weights_tf_dim_ordering_tf_kernels_notop.h5\n",
            "29084464/29084464 [==============================] - 1s 0us/step\n"
          ]
        }
      ]
    },
    {
      "cell_type": "code",
      "source": [
        "# import tensorflow as tf\n",
        "\n",
        "class RecallAccuracyMetric(tf.keras.metrics.Metric):\n",
        "    def __init__(self, name='recall_accuracy', **kwargs):\n",
        "        super(RecallAccuracyMetric, self).__init__(name=name, **kwargs)\n",
        "        self.recall = tf.keras.metrics.Recall()\n",
        "        self.accuracy = tf.keras.metrics.BinaryAccuracy()\n",
        "        \n",
        "    def update_state(self, y_true, y_pred, sample_weight=None):\n",
        "        self.recall.update_state(y_true, y_pred, sample_weight)\n",
        "        self.accuracy.update_state(y_true, y_pred, sample_weight)\n",
        "        \n",
        "    def result(self):\n",
        "        recall = self.recall.result()\n",
        "        accuracy = self.accuracy.result()\n",
        "        return (0.5 * recall) + (0.5 * accuracy)\n",
        "    \n",
        "    def reset_states(self):\n",
        "        self.recall.reset_states()\n",
        "        self.accuracy.reset_states()\n"
      ],
      "metadata": {
        "id": "zPJNCKCJL-bG"
      },
      "execution_count": 12,
      "outputs": []
    },
    {
      "cell_type": "code",
      "source": [
        "model.compile(optimizer=tf.keras.optimizers.Adam(learning_rate=0.0001),\n",
        "               \n",
        "               loss='binary_crossentropy',\n",
        "               metrics=['binary_accuracy',tf.keras.metrics.Recall(),RecallAccuracyMetric()])\n",
        "\n",
        "#saved_model = '/content/drive/MyDrive/팀 프로젝트/흉부_xray/224/all/' + 'Ch03' + '_CheXNet_test1.h5'\n",
        "saved_model = '/content/drive/MyDrive/ai/dog/' + 'Mu02_M' + '_CheXNet_test1.h5'\n",
        "\n",
        "es = tf.keras.callbacks.EarlyStopping(monitor='val_loss', mode='min', verbose=1, patience=20,restore_best_weights=True)\n",
        "mc = tf.keras.callbacks.ModelCheckpoint(saved_model, monitor='val_recall_accuracy', mode='max', verbose=1, save_best_only=True)"
      ],
      "metadata": {
        "id": "NGgJxUWzL-dB"
      },
      "execution_count": 13,
      "outputs": []
    },
    {
      "cell_type": "code",
      "source": [
        "history = model.fit(train_generator,\n",
        "          epochs=1000,\n",
        "          validation_data=test_generator,\n",
        "        #   steps_per_epoch=len(train_generator),\n",
        "        #   validation_steps=len(test_generator),\n",
        "          callbacks=[es, mc],\n",
        "          class_weight={0:rate_1/rate_0, 1:1.}\n",
        "          )"
      ],
      "metadata": {
        "colab": {
          "base_uri": "https://localhost:8080/"
        },
        "id": "nQdKhRp2L-ep",
        "outputId": "7d10cc28-9304-48ab-d159-efad3f2f7e76"
      },
      "execution_count": null,
      "outputs": [
        {
          "output_type": "stream",
          "name": "stdout",
          "text": [
            "Epoch 1/1000\n"
          ]
        },
        {
          "output_type": "stream",
          "name": "stderr",
          "text": [
            "/usr/local/lib/python3.8/dist-packages/keras/engine/training.py:2416: UserWarning: Metric RecallAccuracyMetric implements a `reset_states()` method; rename it to `reset_state()` (without the final \"s\"). The name `reset_states()` has been deprecated to improve API consistency.\n",
            "  m.reset_state()\n"
          ]
        },
        {
          "output_type": "stream",
          "name": "stdout",
          "text": [
            "307/307 [==============================] - ETA: 0s - loss: 0.0053 - binary_accuracy: 0.8931 - recall: 0.9344 - recall_accuracy: 0.9137\n",
            "Epoch 1: val_recall_accuracy did not improve from 0.89965\n",
            "307/307 [==============================] - 221s 528ms/step - loss: 0.0053 - binary_accuracy: 0.8931 - recall: 0.9344 - recall_accuracy: 0.9137 - val_loss: 0.1154 - val_binary_accuracy: 0.9535 - val_recall: 0.8000 - val_recall_accuracy: 0.8767\n",
            "Epoch 2/1000\n",
            "307/307 [==============================] - ETA: 0s - loss: 0.0063 - binary_accuracy: 0.8870 - recall: 0.9262 - recall_accuracy: 0.9066\n",
            "Epoch 2: val_recall_accuracy did not improve from 0.89965\n",
            "307/307 [==============================] - 163s 529ms/step - loss: 0.0063 - binary_accuracy: 0.8870 - recall: 0.9262 - recall_accuracy: 0.9066 - val_loss: 0.0934 - val_binary_accuracy: 0.9624 - val_recall: 0.7667 - val_recall_accuracy: 0.8646\n",
            "Epoch 3/1000\n",
            "307/307 [==============================] - ETA: 0s - loss: 0.0044 - binary_accuracy: 0.9186 - recall: 0.9508 - recall_accuracy: 0.9347\n",
            "Epoch 3: val_recall_accuracy did not improve from 0.89965\n",
            "307/307 [==============================] - 162s 527ms/step - loss: 0.0044 - binary_accuracy: 0.9186 - recall: 0.9508 - recall_accuracy: 0.9347 - val_loss: 0.1637 - val_binary_accuracy: 0.9445 - val_recall: 0.7333 - val_recall_accuracy: 0.8389\n",
            "Epoch 4/1000\n",
            "307/307 [==============================] - ETA: 0s - loss: 0.0053 - binary_accuracy: 0.9178 - recall: 0.9426 - recall_accuracy: 0.9302\n",
            "Epoch 4: val_recall_accuracy did not improve from 0.89965\n",
            "307/307 [==============================] - 163s 531ms/step - loss: 0.0053 - binary_accuracy: 0.9178 - recall: 0.9426 - recall_accuracy: 0.9302 - val_loss: 0.4484 - val_binary_accuracy: 0.7893 - val_recall: 0.8333 - val_recall_accuracy: 0.8113\n",
            "Epoch 5/1000\n",
            "307/307 [==============================] - ETA: 0s - loss: 0.0046 - binary_accuracy: 0.9167 - recall: 0.9590 - recall_accuracy: 0.9379\n",
            "Epoch 5: val_recall_accuracy did not improve from 0.89965\n",
            "307/307 [==============================] - 163s 530ms/step - loss: 0.0046 - binary_accuracy: 0.9167 - recall: 0.9590 - recall_accuracy: 0.9379 - val_loss: 0.1239 - val_binary_accuracy: 0.9526 - val_recall: 0.6333 - val_recall_accuracy: 0.7930\n",
            "Epoch 6/1000\n",
            "307/307 [==============================] - ETA: 0s - loss: 0.0043 - binary_accuracy: 0.9249 - recall: 0.9508 - recall_accuracy: 0.9379\n",
            "Epoch 6: val_recall_accuracy did not improve from 0.89965\n",
            "307/307 [==============================] - 162s 527ms/step - loss: 0.0043 - binary_accuracy: 0.9249 - recall: 0.9508 - recall_accuracy: 0.9379 - val_loss: 0.0925 - val_binary_accuracy: 0.9661 - val_recall: 0.5000 - val_recall_accuracy: 0.7331\n",
            "Epoch 7/1000\n",
            "307/307 [==============================] - ETA: 0s - loss: 0.0044 - binary_accuracy: 0.9148 - recall: 0.9426 - recall_accuracy: 0.9287\n",
            "Epoch 7: val_recall_accuracy did not improve from 0.89965\n",
            "307/307 [==============================] - 162s 528ms/step - loss: 0.0044 - binary_accuracy: 0.9148 - recall: 0.9426 - recall_accuracy: 0.9287 - val_loss: 0.3462 - val_binary_accuracy: 0.8742 - val_recall: 0.7667 - val_recall_accuracy: 0.8205\n",
            "Epoch 8/1000\n",
            "307/307 [==============================] - ETA: 0s - loss: 0.0055 - binary_accuracy: 0.9147 - recall: 0.9016 - recall_accuracy: 0.9082\n",
            "Epoch 8: val_recall_accuracy did not improve from 0.89965\n",
            "307/307 [==============================] - 166s 541ms/step - loss: 0.0055 - binary_accuracy: 0.9147 - recall: 0.9016 - recall_accuracy: 0.9082 - val_loss: 0.2276 - val_binary_accuracy: 0.9130 - val_recall: 0.8000 - val_recall_accuracy: 0.8565\n",
            "Epoch 9/1000\n",
            "307/307 [==============================] - ETA: 0s - loss: 0.0044 - binary_accuracy: 0.9174 - recall: 0.9344 - recall_accuracy: 0.9259\n",
            "Epoch 9: val_recall_accuracy did not improve from 0.89965\n",
            "307/307 [==============================] - 168s 546ms/step - loss: 0.0044 - binary_accuracy: 0.9174 - recall: 0.9344 - recall_accuracy: 0.9259 - val_loss: 1.3937 - val_binary_accuracy: 0.5982 - val_recall: 0.9333 - val_recall_accuracy: 0.7658\n",
            "Epoch 10/1000\n",
            "307/307 [==============================] - ETA: 0s - loss: 0.0036 - binary_accuracy: 0.9285 - recall: 0.9590 - recall_accuracy: 0.9437\n",
            "Epoch 10: val_recall_accuracy did not improve from 0.89965\n",
            "307/307 [==============================] - 162s 526ms/step - loss: 0.0036 - binary_accuracy: 0.9285 - recall: 0.9590 - recall_accuracy: 0.9437 - val_loss: 0.0541 - val_binary_accuracy: 0.9857 - val_recall: 0.2667 - val_recall_accuracy: 0.6262\n",
            "Epoch 11/1000\n",
            "307/307 [==============================] - ETA: 0s - loss: 0.0023 - binary_accuracy: 0.9559 - recall: 0.9754 - recall_accuracy: 0.9657\n",
            "Epoch 11: val_recall_accuracy did not improve from 0.89965\n",
            "307/307 [==============================] - 163s 530ms/step - loss: 0.0023 - binary_accuracy: 0.9559 - recall: 0.9754 - recall_accuracy: 0.9657 - val_loss: 0.0806 - val_binary_accuracy: 0.9743 - val_recall: 0.5333 - val_recall_accuracy: 0.7538\n"
          ]
        }
      ]
    },
    {
      "cell_type": "code",
      "source": [
        "import matplotlib.pyplot as plt\n",
        "\n",
        "loss = history.history['loss']\n",
        "epochs = range(1, len(loss)+1)\n",
        "\n",
        "plt.figure(figsize=(12, 5))\n",
        "plt.subplot(1, 2, 1)\n",
        "plt.title('Loss')\n",
        "plt.plot(epochs, history.history['loss'], 'b', label='train_loss')\n",
        "plt.plot(epochs, history.history['val_loss'], 'g', label='val_loss')\n",
        "plt.ylim([0,1.0])\n",
        "plt.grid(True)\n",
        "plt.xlabel('Epoch')\n",
        "plt.ylabel('Loss')\n",
        "plt.legend(loc='best')\n",
        "\n",
        "plt.subplot(1, 2, 2)\n",
        "plt.title('Accuray')\n",
        "plt.plot(epochs, history.history['binary_accuracy'], 'b', label='train_accuracy')\n",
        "plt.plot(epochs, history.history['val_binary_accuracy'], 'g', label='val_accuracy')\n",
        "plt.ylim([0.7,1])\n",
        "plt.grid(True)\n",
        "plt.ylabel('Accuracy')\n",
        "plt.legend(loc='best')\n",
        "plt.show()"
      ],
      "metadata": {
        "id": "dzLd1498GKof",
        "colab": {
          "base_uri": "https://localhost:8080/",
          "height": 335
        },
        "outputId": "7ff320c0-4cd3-4843-a79a-46e0db714865"
      },
      "execution_count": 15,
      "outputs": [
        {
          "output_type": "display_data",
          "data": {
            "text/plain": [
              "<Figure size 864x360 with 2 Axes>"
            ],
            "image/png": "[encoded data removed]"
          },
          "metadata": {
            "needs_background": "light"
          }
        }
      ]
    },
    {
      "cell_type": "code",
      "source": [
        "x_valid = np.load('/content/drive/MyDrive/ai/dog/Mu02_M_x_data_val_1000.npy')\n",
        "y_valid = np.load('/content/drive/MyDrive/ai/dog/Mu02_M_y_data_val_1000.npy')"
      ],
      "metadata": {
        "id": "U3yvVR-RBZR8"
      },
      "execution_count": 16,
      "outputs": []
    },
    {
      "cell_type": "code",
      "source": [
        "import tensorflow as tf\n",
        "from tensorflow.keras.utils import custom_object_scope\n",
        "\n",
        "\n",
        "with custom_object_scope({'RecallAccuracyMetric': RecallAccuracyMetric}):\n",
        "    model = tf.keras.models.load_model(saved_model)"
      ],
      "metadata": {
        "id": "PuqDG6P5BZUR"
      },
      "execution_count": 18,
      "outputs": []
    },
    {
      "cell_type": "code",
      "source": [
        "y_out = model.predict(x_valid)\n",
        "y_predict = np.round(y_out)"
      ],
      "metadata": {
        "colab": {
          "base_uri": "https://localhost:8080/"
        },
        "id": "5yDd7p-dBiD4",
        "outputId": "acf0c981-a13e-4e6f-c3d5-07e50784e915"
      },
      "execution_count": 19,
      "outputs": [
        {
          "output_type": "stream",
          "name": "stdout",
          "text": [
            "42/42 [==============================] - 8s 143ms/step\n"
          ]
        }
      ]
    },
    {
      "cell_type": "code",
      "source": [
        "y_1 = []\n",
        "y_0 = []\n",
        "x_0 = []\n",
        "x_1 = []\n",
        "for idx, i in enumerate(y_valid):\n",
        "  if i == 1:\n",
        "    y_1.append(i)\n",
        "    x_1.append(x_valid[idx])\n",
        "  else:\n",
        "    y_0.append(i)\n",
        "    x_0.append(x_valid[idx])\n",
        "\n",
        "x_0 = np.array(x_0)\n",
        "y_0 = np.array(y_0)\n",
        "x_1 = np.array(x_1)\n",
        "y_1 = np.array(y_1)"
      ],
      "metadata": {
        "id": "WFXyJEJPBiGP"
      },
      "execution_count": 20,
      "outputs": []
    },
    {
      "cell_type": "code",
      "source": [
        "from sklearn.metrics import confusion_matrix\n",
        "import seaborn as sns\n",
        "import matplotlib.pyplot as plt\n",
        "# x_0은 label == 0인 데이터, x_1은 label == 1인 데이터만 모은 것\n",
        "cf_matrix = confusion_matrix(y_valid, y_predict) / np.array([x_0.shape[0], x_1.shape[0]]).reshape(-1,1)\n",
        "\n",
        "plt.figure(figsize = (12,7))\n",
        "sns.heatmap(cf_matrix, annot=True)\n",
        "plt.show"
      ],
      "metadata": {
        "colab": {
          "base_uri": "https://localhost:8080/",
          "height": 446
        },
        "id": "i3dWbCF3Bn9r",
        "outputId": "946f147c-1af0-4887-faa8-78010670e9c1"
      },
      "execution_count": 21,
      "outputs": [
        {
          "output_type": "execute_result",
          "data": {
            "text/plain": [
              "<function matplotlib.pyplot.show(*args, **kw)>"
            ]
          },
          "metadata": {},
          "execution_count": 21
        },
        {
          "output_type": "display_data",
          "data": {
            "text/plain": [
              "<Figure size 864x504 with 2 Axes>"
            ],
            "image/png": "[encoded data removed]"
          },
          "metadata": {
            "needs_background": "light"
          }
        }
      ]
    },
    {
      "cell_type": "code",
      "source": [],
      "metadata": {
        "id": "sxzLMtWPBn_K"
      },
      "execution_count": null,
      "outputs": []
    },
    {
      "cell_type": "code",
      "source": [],
      "metadata": {
        "id": "zt-UseWWBoAG"
      },
      "execution_count": null,
      "outputs": []
    },
    {
      "cell_type": "code",
      "source": [],
      "metadata": {
        "id": "Qf4vogIFBiId"
      },
      "execution_count": null,
      "outputs": []
    },
    {
      "cell_type": "code",
      "source": [
        "## 첫 트\n",
        "import matplotlib.pyplot as plt\n",
        "\n",
        "loss = history.history['loss']\n",
        "epochs = range(1, len(loss)+1)\n",
        "\n",
        "plt.figure(figsize=(12, 5))\n",
        "plt.subplot(1, 2, 1)\n",
        "plt.title('Loss')\n",
        "plt.plot(epochs, history.history['loss'], 'b', label='train_loss')\n",
        "plt.plot(epochs, history.history['val_loss'], 'g', label='val_loss')\n",
        "plt.ylim([0,1.0])\n",
        "plt.grid(True)\n",
        "plt.xlabel('Epoch')\n",
        "plt.ylabel('Loss')\n",
        "plt.legend(loc='best')\n",
        "\n",
        "plt.subplot(1, 2, 2)\n",
        "plt.title('Accuray')\n",
        "plt.plot(epochs, history.history['binary_accuracy'], 'b', label='train_accuracy')\n",
        "plt.plot(epochs, history.history['val_binary_accuracy'], 'g', label='val_accuracy')\n",
        "plt.ylim([0.7,1])\n",
        "plt.grid(True)\n",
        "plt.ylabel('Accuracy')\n",
        "plt.legend(loc='best')\n",
        "plt.show()"
      ],
      "metadata": {
        "colab": {
          "base_uri": "https://localhost:8080/",
          "height": 307
        },
        "id": "9aRYZfWmMF1R",
        "outputId": "1c9d18ba-d667-459a-9d9f-415b62a17c92"
      },
      "execution_count": null,
      "outputs": [
        {
          "output_type": "display_data",
          "data": {
            "text/plain": [
              "<Figure size 864x360 with 2 Axes>"
            ],
            "image/png": "[encoded data removed]"
          },
          "metadata": {
            "needs_background": "light"
          }
        }
      ]
    },
    {
      "cell_type": "code",
      "source": [],
      "metadata": {
        "id": "vOOWE8NLGKus"
      },
      "execution_count": null,
      "outputs": []
    },
    {
      "cell_type": "code",
      "source": [
        "x_valid = np.load('/content/drive/MyDrive/ai/dog/Mu02_A_x_data_val_1000.npy')\n",
        "y_valid = np.load('/content/drive/MyDrive/ai/dog/Mu02_A_y_data_val_1000.npy')"
      ],
      "metadata": {
        "id": "jkOoSZnjMF3a"
      },
      "execution_count": 17,
      "outputs": []
    },
    {
      "cell_type": "code",
      "source": [
        "import tensorflow as tf\n",
        "from tensorflow.keras.utils import custom_object_scope\n",
        "\n",
        "\n",
        "with custom_object_scope({'RecallAccuracyMetric': RecallAccuracyMetric}):\n",
        "    model = tf.keras.models.load_model(saved_model)"
      ],
      "metadata": {
        "id": "DrOszRt3MF4-"
      },
      "execution_count": 18,
      "outputs": []
    },
    {
      "cell_type": "code",
      "source": [
        "y_out = model.predict(x_valid)\n",
        "y_predict = np.round(y_out)"
      ],
      "metadata": {
        "id": "tBwnwg33MKdO",
        "colab": {
          "base_uri": "https://localhost:8080/"
        },
        "outputId": "8ac70ef2-1e73-432a-b53d-4b40f0e9f4b6"
      },
      "execution_count": 19,
      "outputs": [
        {
          "output_type": "stream",
          "name": "stdout",
          "text": [
            "41/41 [==============================] - 8s 131ms/step\n"
          ]
        }
      ]
    },
    {
      "cell_type": "code",
      "source": [
        "y_1 = []\n",
        "y_0 = []\n",
        "x_0 = []\n",
        "x_1 = []\n",
        "for idx, i in enumerate(y_valid):\n",
        "  if i == 1:\n",
        "    y_1.append(i)\n",
        "    x_1.append(x_valid[idx])\n",
        "  else:\n",
        "    y_0.append(i)\n",
        "    x_0.append(x_valid[idx])\n",
        "\n",
        "x_0 = np.array(x_0)\n",
        "y_0 = np.array(y_0)\n",
        "x_1 = np.array(x_1)\n",
        "y_1 = np.array(y_1)"
      ],
      "metadata": {
        "id": "cJ5k-7LjMKfC"
      },
      "execution_count": 20,
      "outputs": []
    },
    {
      "cell_type": "code",
      "source": [
        "from sklearn.metrics import confusion_matrix\n",
        "import seaborn as sns\n",
        "import matplotlib.pyplot as plt\n",
        "# x_0은 label == 0인 데이터, x_1은 label == 1인 데이터만 모은 것\n",
        "cf_matrix = confusion_matrix(y_valid, y_predict) / np.array([x_0.shape[0], x_1.shape[0]]).reshape(-1,1)\n",
        "\n",
        "plt.figure(figsize = (12,7))\n",
        "sns.heatmap(cf_matrix, annot=True)\n",
        "plt.show"
      ],
      "metadata": {
        "id": "wH1UV3CxMM79",
        "colab": {
          "base_uri": "https://localhost:8080/",
          "height": 446
        },
        "outputId": "892b5142-5d0b-4d8e-d3c7-d29c49e8d541"
      },
      "execution_count": 21,
      "outputs": [
        {
          "output_type": "execute_result",
          "data": {
            "text/plain": [
              "<function matplotlib.pyplot.show(*args, **kw)>"
            ]
          },
          "metadata": {},
          "execution_count": 21
        },
        {
          "output_type": "display_data",
          "data": {
            "text/plain": [
              "<Figure size 864x504 with 2 Axes>"
            ],
            "image/png": "[encoded data removed]"
          },
          "metadata": {
            "needs_background": "light"
          }
        }
      ]
    },
    {
      "cell_type": "code",
      "source": [
        "y_out"
      ],
      "metadata": {
        "id": "djD5KcqGMM-V"
      },
      "execution_count": null,
      "outputs": []
    },
    {
      "cell_type": "code",
      "source": [
        "np.mean(model.predict(x_1))"
      ],
      "metadata": {
        "id": "NyGsNEO9MNAb"
      },
      "execution_count": null,
      "outputs": []
    },
    {
      "cell_type": "code",
      "source": [
        "np.mean(model.predict(x_0))"
      ],
      "metadata": {
        "id": "xmvmD_8cMQ4m"
      },
      "execution_count": null,
      "outputs": []
    }
  ]
}