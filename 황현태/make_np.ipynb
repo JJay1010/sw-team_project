{
 "cells": [
  {
   "cell_type": "code",
   "execution_count": 1,
   "id": "55e3975b",
   "metadata": {},
   "outputs": [],
   "source": [
    "import glob \n",
    "import os\n",
    "from PIL import Image\n",
    "import matplotlib.pyplot as plt\n",
    "from PIL import ImageFile\n",
    "import numpy as np\n",
    "import json\n",
    "%matplotlib inline\n",
    "from tqdm import tqdm"
   ]
  },
  {
   "cell_type": "code",
   "execution_count": 2,
   "id": "7e594e47",
   "metadata": {},
   "outputs": [],
   "source": [
    "ImageFile.LOAD_TRUNCATED_IMAGES = True"
   ]
  },
  {
   "cell_type": "code",
   "execution_count": null,
   "id": "700f13c6",
   "metadata": {},
   "outputs": [],
   "source": [
    "di_class = ['Ab01','Ab02','Ab03','Ab04','Ab05','Ab06','Ab07','Ab08','Ab09','Ab10']"
   ]
  },
  {
   "cell_type": "code",
   "execution_count": 196,
   "id": "6756d325",
   "metadata": {},
   "outputs": [],
   "source": [
    "di = 'Mu01' \n",
    "img_dir_path = 'C:/Users/seonh/Downloads/062.반려동물 질병 진단을 위한 영상 데이터 (근골격계)/01.데이터/Training/원천데이터/' + di\n",
    "#img_dir_path = 'C:/Users/seonh/Downloads/062.반려동물 질병 진단을 위한 영상 데이터 (근골격계)/01.데이터/Validation/원천데이터/sep/' + di"
   ]
  },
  {
   "cell_type": "code",
   "execution_count": 197,
   "id": "6abdfc6f",
   "metadata": {},
   "outputs": [],
   "source": [
    "json_dir_path = 'C:/Users/seonh/Downloads/062.반려동물 질병 진단을 위한 영상 데이터 (근골격계)/01.데이터/Training/라벨링데이터/TL2_DOG'\n",
    "#json_dir_path = 'C:/Users/seonh/Downloads/062.반려동물 질병 진단을 위한 영상 데이터 (근골격계)/01.데이터/Validation/라벨링데이터/VL2_DOG'\n",
    "json_name_list = os.listdir(json_dir_path)  # 다 영어로..?"
   ]
  },
  {
   "cell_type": "code",
   "execution_count": 5,
   "id": "75b65c57",
   "metadata": {},
   "outputs": [
    {
     "name": "stdout",
     "output_type": "stream",
     "text": [
      "113725\n"
     ]
    }
   ],
   "source": [
    "print(len(json_name_list))"
   ]
  },
  {
   "cell_type": "code",
   "execution_count": 6,
   "id": "7431f744",
   "metadata": {},
   "outputs": [
    {
     "name": "stdout",
     "output_type": "stream",
     "text": [
      "['D_62_19980513_IF_0028_NOR_Mu01_20211216_0165.json', 'D_62_19980513_IF_0028_NOR_Mu01_20211216_0167.json', 'D_62_19980513_IF_0028_NOR_Mu01_20211216_0168.json', 'D_62_19980513_IF_0028_NOR_Mu01_20211216_0169.json', 'D_62_19980615_IF_0028_NOR_Mu07_20211216_0171.json', 'D_62_19980623_IM_0028_NOR_Mu01_20211216_0173.json', 'D_62_19980623_IM_0028_NOR_Mu01_20211216_0174.json', 'D_62_19980623_IM_0028_NOR_Mu01_20211216_0175.json', 'D_62_19980623_IM_0028_NOR_Mu01_20211216_0176.json', 'D_62_19980623_IM_0028_NOR_Mu01_20211216_0177.json']\n"
     ]
    }
   ],
   "source": [
    "print(json_name_list[:10])"
   ]
  },
  {
   "cell_type": "code",
   "execution_count": 141,
   "id": "ccf92f98",
   "metadata": {},
   "outputs": [],
   "source": [
    "def padding(img_path):\n",
    "    img = Image.open(img_path)\n",
    "    img = img.convert('RGB')\n",
    "    w, h = img.size\n",
    "    img = np.array(img)\n",
    "    \n",
    "    margin = [np.abs(w - h) // 2 , np.abs(w - h) // 2]\n",
    "    if w > h:\n",
    "        margin_list = [margin, [0,0]]\n",
    "    else:\n",
    "        margin_list = [[0,0], margin]\n",
    "        \n",
    "    if len(img.shape) == 3:\n",
    "        margin_list.append([0,0])\n",
    "        \n",
    "    output = np.pad(img, margin_list, mode='constant')\n",
    "    img = Image.fromarray(output)\n",
    "    # 이미지 크기\n",
    "    img = img.resize((224, 224))\n",
    "    #img = np.array(img)\n",
    "    return img"
   ]
  },
  {
   "cell_type": "code",
   "execution_count": 8,
   "id": "d4f0e0ca",
   "metadata": {},
   "outputs": [],
   "source": [
    "def status_to_int(status):\n",
    "    if status == 'NOR': #정상\n",
    "        int_status = 0\n",
    "    else:\n",
    "        int_status = 1\n",
    "    return int_status"
   ]
  },
  {
   "cell_type": "code",
   "execution_count": 9,
   "id": "34739f4c",
   "metadata": {},
   "outputs": [],
   "source": [
    "def json_name_to_img_path(json_name):\n",
    "    img_name = json_name.split('.')[0] +'.jpg'\n",
    "    img_path = img_dir_path + '/'+ img_name\n",
    "    return img_path"
   ]
  },
  {
   "cell_type": "code",
   "execution_count": 149,
   "id": "d973bbe6",
   "metadata": {},
   "outputs": [],
   "source": [
    "from random import randrange"
   ]
  },
  {
   "cell_type": "code",
   "execution_count": null,
   "id": "775d8eef",
   "metadata": {},
   "outputs": [
    {
     "name": "stderr",
     "output_type": "stream",
     "text": [
      "  9%|▊         | 9725/113725 [09:52<4:07:19,  7.01it/s] "
     ]
    }
   ],
   "source": [
    "err = 0\n",
    "abb = 0\n",
    "numb = 0\n",
    "x_data, y_data = [], []\n",
    "resize = 224\n",
    "drop_t = []\n",
    "\n",
    "rot = [-5, 5]\n",
    "trans = [[resize/10, 0], [-(resize/10), 0], [0,(resize/10)], [0,-(resize/10)] ]\n",
    "    \n",
    "for json_name  in tqdm(json_name_list):\n",
    "    if json_name.split('_')[6] == di:\n",
    "        json_path = json_dir_path + '/'+ json_name\n",
    "        try:\n",
    "            with open(json_path, 'r', encoding='utf-8') as f:\n",
    "                data = json.load(f)\n",
    "                status = data[\"metadata\"]['Disease']\n",
    "                int_status = status_to_int(status)\n",
    "                \n",
    "                #if int_status == 1:\n",
    "                    \n",
    "                y_data.append(int_status)\n",
    "                    \n",
    "            img_path = json_name_to_img_path(json_name)\n",
    "            img = padding(img_path)    \n",
    "            img_f = np.array(img)\n",
    "            x_data.append(img_f)\n",
    "            \n",
    "            numb +=1\n",
    "            \n",
    "            if y_data[-1] == 1:\n",
    "                abb +=1\n",
    "            else:\n",
    "                drop_t.append(numb)\n",
    "                \n",
    "                \n",
    "                for angle in rot:   #test_img = test_img.rotate(-5)\n",
    "                    ss = randrange(len(x_data)+1)\n",
    "                    y_data.insert(ss, y_data[-1])\n",
    "                    \n",
    "                    rot_img = img.rotate(angle)\n",
    "                    np_img = np.array(rot_img)\n",
    "                    x_data.insert(ss, np_img)\n",
    "                    #train_set.append(value)\n",
    "                    \n",
    "                for k in trans:\n",
    "                    ss = randrange(len(x_data)+1)\n",
    "                    y_data.insert(ss, y_data[-1])\n",
    "    \n",
    "                    tran_img = img.rotate(0, translate = k)\n",
    "                    np_img = np.array(tran_img)\n",
    "                    x_data.insert(ss, np_img)            \n",
    "                \n",
    "        except FileNotFoundError:\n",
    "            err +=1\n",
    "            print(json_path)\n",
    "\n",
    "print('ABS:', abb)\n",
    "print('err:', err)"
   ]
  },
  {
   "cell_type": "code",
   "execution_count": 189,
   "id": "40180dfc",
   "metadata": {
    "scrolled": true
   },
   "outputs": [
    {
     "name": "stdout",
     "output_type": "stream",
     "text": [
      "2194\n",
      "2194\n",
      "2187\n",
      "224\n",
      "2194\n",
      "0\n"
     ]
    }
   ],
   "source": [
    "print(len( x_data ))\n",
    "print(len( y_data ))\n",
    "print(len( drop_t ))\n",
    "print(len(x_data[-1]))\n",
    "print(len(y_data))\n",
    "print(y_data[1])"
   ]
  },
  {
   "cell_type": "code",
   "execution_count": 190,
   "id": "79339529",
   "metadata": {},
   "outputs": [],
   "source": [
    "import random\n",
    "remo = sorted(random.sample(drop_t,20000))\n",
    "\n",
    "for i in range(len(remo)):\n",
    "    del y_data[remo[-i-1]]\n",
    "    del x_data[remo[-i-1]]\n",
    "    \n",
    "    "
   ]
  },
  {
   "cell_type": "code",
   "execution_count": 47,
   "id": "3bd04c2e",
   "metadata": {},
   "outputs": [
    {
     "name": "stdout",
     "output_type": "stream",
     "text": [
      "<class 'list'>\n"
     ]
    }
   ],
   "source": [
    "print(type(x_data))\n",
    "import pickle\n",
    "with open('t_Mu03_x_data.pkl', 'wb') as f:\n",
    "    pickle.dump(x_data,f)"
   ]
  },
  {
   "cell_type": "code",
   "execution_count": 192,
   "id": "d6621041",
   "metadata": {},
   "outputs": [],
   "source": [
    "x_data = np.array(x_data)\n",
    "y_data = np.array(y_data)"
   ]
  },
  {
   "cell_type": "code",
   "execution_count": 193,
   "id": "46c99211",
   "metadata": {},
   "outputs": [
    {
     "data": {
      "text/plain": [
       "(694, 224, 224, 3)"
      ]
     },
     "execution_count": 193,
     "metadata": {},
     "output_type": "execute_result"
    }
   ],
   "source": [
    "x_data.shape"
   ]
  },
  {
   "cell_type": "code",
   "execution_count": 194,
   "id": "64cf000b",
   "metadata": {},
   "outputs": [
    {
     "data": {
      "text/plain": [
       "(694,)"
      ]
     },
     "execution_count": 194,
     "metadata": {},
     "output_type": "execute_result"
    }
   ],
   "source": [
    "y_data.shape"
   ]
  },
  {
   "cell_type": "code",
   "execution_count": 16,
   "id": "242d0c50",
   "metadata": {
    "scrolled": false
   },
   "outputs": [
    {
     "name": "stdout",
     "output_type": "stream",
     "text": [
      "[0 0 0 ... 0 0 0]\n"
     ]
    }
   ],
   "source": [
    "print(y_data)"
   ]
  },
  {
   "cell_type": "code",
   "execution_count": 195,
   "id": "01611f0a",
   "metadata": {},
   "outputs": [],
   "source": [
    "# a_path = \"C:/Users/seonh/Downloads/062.반려동물 질병 진단을 위한 영상 데이터 (근골격계)/01.데이터/Training/augment\"\n",
    "\n",
    "# np.save(a_path +'/'+di+'_x_data_tr_1000.npy', x_data)\n",
    "# np.save(a_path +'/'+di+'_y_data_tr_1000.npy', y_data)\n",
    "\n",
    "\n",
    "dir_path = \"C:/Users/seonh/Downloads/062.반려동물 질병 진단을 위한 영상 데이터 (근골격계)/01.데이터/Validation/numpy_save\"\n",
    "\n",
    "np.save(dir_path +'/'+di+'_x_data_val_1000.npy', x_data)\n",
    "np.save(dir_path +'/'+di+'_y_data_val_1000.npy', y_data)\n"
   ]
  },
  {
   "cell_type": "code",
   "execution_count": null,
   "id": "f7de936d",
   "metadata": {},
   "outputs": [],
   "source": []
  }
 ],
 "metadata": {
  "kernelspec": {
   "display_name": "Python 3 (ipykernel)",
   "language": "python",
   "name": "python3"
  },
  "language_info": {
   "codemirror_mode": {
    "name": "ipython",
    "version": 3
   },
   "file_extension": ".py",
   "mimetype": "text/x-python",
   "name": "python",
   "nbconvert_exporter": "python",
   "pygments_lexer": "ipython3",
   "version": "3.9.7"
  }
 },
 "nbformat": 4,
 "nbformat_minor": 5
}
