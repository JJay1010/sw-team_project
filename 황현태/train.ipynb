{
  "cells": [
    {
      "cell_type": "markdown",
      "metadata": {
        "id": "view-in-github",
        "colab_type": "text"
      },
      "source": [
        "<a href=\"https://colab.research.google.com/github/JJay1010/sw-team_project/blob/main/%ED%99%A9%ED%98%84%ED%83%9C/train.ipynb\" target=\"_parent\"><img src=\"https://colab.research.google.com/assets/colab-badge.svg\" alt=\"Open In Colab\"/></a>"
      ]
    },
    {
      "cell_type": "markdown",
      "metadata": {
        "id": "6Tj19zYro8v2"
      },
      "source": [
        "# load numpy"
      ]
    },
    {
      "cell_type": "code",
      "execution_count": 26,
      "metadata": {
        "colab": {
          "base_uri": "https://localhost:8080/"
        },
        "id": "aZxduk0Jo4yL",
        "outputId": "dd565046-ab56-4058-d695-b3d77885f55e"
      },
      "outputs": [
        {
          "output_type": "stream",
          "name": "stdout",
          "text": [
            "Drive already mounted at /content/drive; to attempt to forcibly remount, call drive.mount(\"/content/drive\", force_remount=True).\n"
          ]
        }
      ],
      "source": [
        "from google.colab import drive\n",
        "drive.mount('/content/drive')"
      ]
    },
    {
      "cell_type": "code",
      "execution_count": null,
      "metadata": {
        "id": "vIobJ9whpVoq"
      },
      "outputs": [],
      "source": [
        "train_dir = \"/content/drive/MyDrive/ai/dog/test/Mu01_rs.npy\"\n",
        "val_dir = \"/content/drive/MyDrive/ai/dog/val/val_Mu01.npy\"\n",
        "\n",
        "import numpy as np\n",
        "train_np = np.load(train_dir)\n",
        "val_np = np.load(val_dir)\n",
        "\n",
        "print(len(train_np))\n",
        "print(len(val_np))"
      ]
    },
    {
      "cell_type": "markdown",
      "metadata": {
        "id": "OEX5FL1H1nhh"
      },
      "source": [
        "# label extraction"
      ]
    },
    {
      "cell_type": "code",
      "execution_count": null,
      "metadata": {
        "id": "Mw1jImlj2RhI"
      },
      "outputs": [],
      "source": [
        "!mkdir skel\n",
        "!mkdir skel/train\n",
        "\n",
        "!cd '/content/skel/train'\n",
        "!unzip -qq \"/content/drive/MyDrive/ai/dog/TL2_DOG.zip\" -d '/content/skel/train' \n",
        "\n",
        "!mkdir skel/val\n",
        "!cd '/content/skel/val'\n",
        "!unzip -qq \"/content/drive/MyDrive/ai/dog/VL2_DOG.zip\" -d '/content/skel/val' "
      ]
    },
    {
      "cell_type": "code",
      "execution_count": null,
      "metadata": {
        "colab": {
          "base_uri": "https://localhost:8080/"
        },
        "id": "l8g-Qx881tew",
        "outputId": "15ed9fa9-bc89-44d4-a9f4-3280cbceb973"
      },
      "outputs": [
        {
          "name": "stdout",
          "output_type": "stream",
          "text": [
            "113725\n"
          ]
        }
      ],
      "source": [
        "import glob\n",
        "dir_ltrain = '/content/skel/train'\n",
        "dir_lval = '/content/skel/val'\n",
        "\n",
        "json_dir_path = dir_ltrain\n",
        "json_path_list = sorted(glob.glob(json_dir_path+'/*'))\n",
        "print(len(json_path_list))"
      ]
    },
    {
      "cell_type": "code",
      "execution_count": null,
      "metadata": {
        "id": "6onwHzkZrTvp"
      },
      "outputs": [],
      "source": [
        "import json\n",
        "\n",
        "#\n",
        "file_path_2 = json_path_list\n",
        "#\n",
        "\n",
        "file_name_t = []\n",
        "disease_t = []\n",
        "dis_name = []\n",
        "pose = []\n",
        "point_loc_t = []\n",
        "for name in file_path_2:\n",
        "  with open(name, 'r') as file:\n",
        "      data = json.load(file)\n",
        "      #print(type(data))\n",
        "      #print(data)\n",
        "      file_name_t.append(data[\"fileName\"][:-5])\n",
        "      disease_t.append(data['metadata'][\"Disease\"])\n",
        "      dis_name.append(data['metadata'][\"Disease-Name\"])\n",
        "      pose.append(data['metadata'][\"Position\"])\n",
        "      point_loc_t.append(data['annotations'][0]['points'])"
      ]
    },
    {
      "cell_type": "code",
      "execution_count": null,
      "metadata": {
        "id": "tVPHBtvm1-GE"
      },
      "outputs": [],
      "source": [
        "import pandas as pd\n",
        "\n",
        "data = {'disease':disease_t , 'disease-name' : dis_name, 'position' : pose}\n",
        "df = pd.DataFrame( data , index = file_name_t , columns = ['disease', 'disease-name', 'position'])"
      ]
    },
    {
      "cell_type": "code",
      "execution_count": null,
      "metadata": {
        "colab": {
          "base_uri": "https://localhost:8080/"
        },
        "id": "XIFOMsb_2Djq",
        "outputId": "f9d4c545-063a-49a3-c6fe-8dd99a2b6316"
      },
      "outputs": [
        {
          "name": "stdout",
          "output_type": "stream",
          "text": [
            "['ABN' 'NOR']\n"
          ]
        }
      ],
      "source": [
        "df[df['disease-name'] == 'Mu01']['disease'] == 'NOR'\n",
        "print(np.unique(df['disease']))"
      ]
    },
    {
      "cell_type": "code",
      "execution_count": null,
      "metadata": {
        "colab": {
          "base_uri": "https://localhost:8080/",
          "height": 424
        },
        "id": "5oInHGhJ6eHk",
        "outputId": "c3711fcf-ca69-4f2e-ec77-0958ce9a664f"
      },
      "outputs": [
        {
          "data": {
            "text/html": [
              "\n",
              "  <div id=\"df-c41cbbca-e7b0-496c-a95f-66c07bddf49f\">\n",
              "    <div class=\"colab-df-container\">\n",
              "      <div>\n",
              "<style scoped>\n",
              "    .dataframe tbody tr th:only-of-type {\n",
              "        vertical-align: middle;\n",
              "    }\n",
              "\n",
              "    .dataframe tbody tr th {\n",
              "        vertical-align: top;\n",
              "    }\n",
              "\n",
              "    .dataframe thead th {\n",
              "        text-align: right;\n",
              "    }\n",
              "</style>\n",
              "<table border=\"1\" class=\"dataframe\">\n",
              "  <thead>\n",
              "    <tr style=\"text-align: right;\">\n",
              "      <th></th>\n",
              "      <th>disease</th>\n",
              "      <th>disease-name</th>\n",
              "      <th>position</th>\n",
              "    </tr>\n",
              "  </thead>\n",
              "  <tbody>\n",
              "    <tr>\n",
              "      <th>D_62_20000105_SF_0029_ABN_Mu01_20060116_0016</th>\n",
              "      <td>ABN</td>\n",
              "      <td>Mu01</td>\n",
              "      <td>AP</td>\n",
              "    </tr>\n",
              "    <tr>\n",
              "      <th>D_62_20000114_IM_0029_ABN_Mu01_20070113_0033</th>\n",
              "      <td>ABN</td>\n",
              "      <td>Mu01</td>\n",
              "      <td>AP</td>\n",
              "    </tr>\n",
              "    <tr>\n",
              "      <th>D_62_20000122_SF_0029_ABN_Mu01_20040118_0007</th>\n",
              "      <td>ABN</td>\n",
              "      <td>Mu01</td>\n",
              "      <td>AP</td>\n",
              "    </tr>\n",
              "    <tr>\n",
              "      <th>D_62_20000126_CM_0029_ABN_Mu01_20050110_0003</th>\n",
              "      <td>ABN</td>\n",
              "      <td>Mu01</td>\n",
              "      <td>AP</td>\n",
              "    </tr>\n",
              "    <tr>\n",
              "      <th>D_62_20000301_SF_0029_ABN_Mu01_20040120_0002</th>\n",
              "      <td>ABN</td>\n",
              "      <td>Mu01</td>\n",
              "      <td>ML</td>\n",
              "    </tr>\n",
              "    <tr>\n",
              "      <th>...</th>\n",
              "      <td>...</td>\n",
              "      <td>...</td>\n",
              "      <td>...</td>\n",
              "    </tr>\n",
              "    <tr>\n",
              "      <th>D_62_20140408_IM_0013_ABN_Mu01_20211213_0053</th>\n",
              "      <td>ABN</td>\n",
              "      <td>Mu01</td>\n",
              "      <td>AP</td>\n",
              "    </tr>\n",
              "    <tr>\n",
              "      <th>D_62_20140430_IF_0011_ABN_Mu01_20211210_0255</th>\n",
              "      <td>ABN</td>\n",
              "      <td>Mu01</td>\n",
              "      <td>ML</td>\n",
              "    </tr>\n",
              "    <tr>\n",
              "      <th>D_62_20140617_IM_0014_ABN_Mu01_20210619_0003</th>\n",
              "      <td>ABN</td>\n",
              "      <td>Mu01</td>\n",
              "      <td>AP</td>\n",
              "    </tr>\n",
              "    <tr>\n",
              "      <th>D_62_20150416_CM_0020_ABN_Mu01_20210806_0001</th>\n",
              "      <td>ABN</td>\n",
              "      <td>Mu01</td>\n",
              "      <td>ML</td>\n",
              "    </tr>\n",
              "    <tr>\n",
              "      <th>D_62_20150419_CM_0020_ABN_Mu01_20200316_0001</th>\n",
              "      <td>ABN</td>\n",
              "      <td>Mu01</td>\n",
              "      <td>AP</td>\n",
              "    </tr>\n",
              "  </tbody>\n",
              "</table>\n",
              "<p>91 rows × 3 columns</p>\n",
              "</div>\n",
              "      <button class=\"colab-df-convert\" onclick=\"convertToInteractive('df-c41cbbca-e7b0-496c-a95f-66c07bddf49f')\"\n",
              "              title=\"Convert this dataframe to an interactive table.\"\n",
              "              style=\"display:none;\">\n",
              "        \n",
              "  <svg xmlns=\"http://www.w3.org/2000/svg\" height=\"24px\"viewBox=\"0 0 24 24\"\n",
              "       width=\"24px\">\n",
              "    <path d=\"M0 0h24v24H0V0z\" fill=\"none\"/>\n",
              "    <path d=\"M18.56 5.44l.94 2.06.94-2.06 2.06-.94-2.06-.94-.94-2.06-.94 2.06-2.06.94zm-11 1L8.5 8.5l.94-2.06 2.06-.94-2.06-.94L8.5 2.5l-.94 2.06-2.06.94zm10 10l.94 2.06.94-2.06 2.06-.94-2.06-.94-.94-2.06-.94 2.06-2.06.94z\"/><path d=\"M17.41 7.96l-1.37-1.37c-.4-.4-.92-.59-1.43-.59-.52 0-1.04.2-1.43.59L10.3 9.45l-7.72 7.72c-.78.78-.78 2.05 0 2.83L4 21.41c.39.39.9.59 1.41.59.51 0 1.02-.2 1.41-.59l7.78-7.78 2.81-2.81c.8-.78.8-2.07 0-2.86zM5.41 20L4 18.59l7.72-7.72 1.47 1.35L5.41 20z\"/>\n",
              "  </svg>\n",
              "      </button>\n",
              "      \n",
              "  <style>\n",
              "    .colab-df-container {\n",
              "      display:flex;\n",
              "      flex-wrap:wrap;\n",
              "      gap: 12px;\n",
              "    }\n",
              "\n",
              "    .colab-df-convert {\n",
              "      background-color: #E8F0FE;\n",
              "      border: none;\n",
              "      border-radius: 50%;\n",
              "      cursor: pointer;\n",
              "      display: none;\n",
              "      fill: #1967D2;\n",
              "      height: 32px;\n",
              "      padding: 0 0 0 0;\n",
              "      width: 32px;\n",
              "    }\n",
              "\n",
              "    .colab-df-convert:hover {\n",
              "      background-color: #E2EBFA;\n",
              "      box-shadow: 0px 1px 2px rgba(60, 64, 67, 0.3), 0px 1px 3px 1px rgba(60, 64, 67, 0.15);\n",
              "      fill: #174EA6;\n",
              "    }\n",
              "\n",
              "    [theme=dark] .colab-df-convert {\n",
              "      background-color: #3B4455;\n",
              "      fill: #D2E3FC;\n",
              "    }\n",
              "\n",
              "    [theme=dark] .colab-df-convert:hover {\n",
              "      background-color: #434B5C;\n",
              "      box-shadow: 0px 1px 3px 1px rgba(0, 0, 0, 0.15);\n",
              "      filter: drop-shadow(0px 1px 2px rgba(0, 0, 0, 0.3));\n",
              "      fill: #FFFFFF;\n",
              "    }\n",
              "  </style>\n",
              "\n",
              "      <script>\n",
              "        const buttonEl =\n",
              "          document.querySelector('#df-c41cbbca-e7b0-496c-a95f-66c07bddf49f button.colab-df-convert');\n",
              "        buttonEl.style.display =\n",
              "          google.colab.kernel.accessAllowed ? 'block' : 'none';\n",
              "\n",
              "        async function convertToInteractive(key) {\n",
              "          const element = document.querySelector('#df-c41cbbca-e7b0-496c-a95f-66c07bddf49f');\n",
              "          const dataTable =\n",
              "            await google.colab.kernel.invokeFunction('convertToInteractive',\n",
              "                                                     [key], {});\n",
              "          if (!dataTable) return;\n",
              "\n",
              "          const docLinkHtml = 'Like what you see? Visit the ' +\n",
              "            '<a target=\"_blank\" href=https://colab.research.google.com/notebooks/data_table.ipynb>data table notebook</a>'\n",
              "            + ' to learn more about interactive tables.';\n",
              "          element.innerHTML = '';\n",
              "          dataTable['output_type'] = 'display_data';\n",
              "          await google.colab.output.renderOutput(dataTable, element);\n",
              "          const docLink = document.createElement('div');\n",
              "          docLink.innerHTML = docLinkHtml;\n",
              "          element.appendChild(docLink);\n",
              "        }\n",
              "      </script>\n",
              "    </div>\n",
              "  </div>\n",
              "  "
            ],
            "text/plain": [
              "                                             disease disease-name position\n",
              "D_62_20000105_SF_0029_ABN_Mu01_20060116_0016     ABN         Mu01       AP\n",
              "D_62_20000114_IM_0029_ABN_Mu01_20070113_0033     ABN         Mu01       AP\n",
              "D_62_20000122_SF_0029_ABN_Mu01_20040118_0007     ABN         Mu01       AP\n",
              "D_62_20000126_CM_0029_ABN_Mu01_20050110_0003     ABN         Mu01       AP\n",
              "D_62_20000301_SF_0029_ABN_Mu01_20040120_0002     ABN         Mu01       ML\n",
              "...                                              ...          ...      ...\n",
              "D_62_20140408_IM_0013_ABN_Mu01_20211213_0053     ABN         Mu01       AP\n",
              "D_62_20140430_IF_0011_ABN_Mu01_20211210_0255     ABN         Mu01       ML\n",
              "D_62_20140617_IM_0014_ABN_Mu01_20210619_0003     ABN         Mu01       AP\n",
              "D_62_20150416_CM_0020_ABN_Mu01_20210806_0001     ABN         Mu01       ML\n",
              "D_62_20150419_CM_0020_ABN_Mu01_20200316_0001     ABN         Mu01       AP\n",
              "\n",
              "[91 rows x 3 columns]"
            ]
          },
          "execution_count": 10,
          "metadata": {},
          "output_type": "execute_result"
        }
      ],
      "source": [
        "df[(df['disease-name'] == 'Mu01') & (df['disease'] == 'ABN')]"
      ]
    },
    {
      "cell_type": "code",
      "execution_count": null,
      "metadata": {
        "colab": {
          "base_uri": "https://localhost:8080/"
        },
        "id": "oQO8NCAQ7Etq",
        "outputId": "1fca97b7-6798-42c3-badf-1c4a69d82e0a"
      },
      "outputs": [
        {
          "data": {
            "text/plain": [
              "Index(['D_62_19980513_IF_0028_NOR_Mu01_20211216_0165',\n",
              "       'D_62_19980513_IF_0028_NOR_Mu01_20211216_0167',\n",
              "       'D_62_19980513_IF_0028_NOR_Mu01_20211216_0168',\n",
              "       'D_62_19980513_IF_0028_NOR_Mu01_20211216_0169',\n",
              "       'D_62_19980623_IM_0028_NOR_Mu01_20211216_0173',\n",
              "       'D_62_19980623_IM_0028_NOR_Mu01_20211216_0174',\n",
              "       'D_62_19980623_IM_0028_NOR_Mu01_20211216_0175',\n",
              "       'D_62_19980623_IM_0028_NOR_Mu01_20211216_0176',\n",
              "       'D_62_19980623_IM_0028_NOR_Mu01_20211216_0177',\n",
              "       'D_62_19980710_IM_0028_NOR_Mu01_20211216_0179',\n",
              "       ...\n",
              "       'D_62_20171118_IF_0012_NOR_Mu01_20210518_0925',\n",
              "       'D_62_20171120_IF_0013_NOR_Mu01_20201120_0001',\n",
              "       'D_62_20171120_IF_0013_NOR_Mu01_20201120_0471',\n",
              "       'D_62_20171120_IF_0013_NOR_Mu01_20201120_0472',\n",
              "       'D_62_20171120_IF_0013_NOR_Mu01_20201120_0575',\n",
              "       'D_62_20171122_IF_0030_NOR_Mu01_20211214_2083',\n",
              "       'D_62_20171123_CM_0020_NOR_Mu01_20211213_0538',\n",
              "       'D_62_20171123_IF_0020_NOR_Mu01_20191123_0004',\n",
              "       'D_62_20171123_IF_0020_NOR_Mu01_20191123_0006',\n",
              "       'D_62_20171123_IF_0020_NOR_Mu01_20191123_0840'],\n",
              "      dtype='object', length=25072)"
            ]
          },
          "execution_count": 32,
          "metadata": {},
          "output_type": "execute_result"
        }
      ],
      "source": [
        "df[df['disease-name'] == 'Mu01'].index"
      ]
    },
    {
      "cell_type": "code",
      "execution_count": null,
      "metadata": {
        "colab": {
          "base_uri": "https://localhost:8080/"
        },
        "id": "AlVrlWriKlEe",
        "outputId": "65ca9f88-1c86-485a-f2aa-20fdc5cbe6b3"
      },
      "outputs": [
        {
          "name": "stdout",
          "output_type": "stream",
          "text": [
            "d\n"
          ]
        }
      ],
      "source": [
        "\n",
        "    print('d')"
      ]
    },
    {
      "cell_type": "code",
      "execution_count": null,
      "metadata": {
        "colab": {
          "background_save": true
        },
        "id": "UvRsNCRF2gs_"
      },
      "outputs": [],
      "source": [
        "NOR_list = []\n",
        "ABN_list = []\n",
        "for i in range(len(df[df['disease-name'] == 'Mu01'].index)):\n",
        "  check = df[df['disease-name'] == 'Mu01'].index[i]\n",
        "  if  df[(df['disease-name'] == 'Mu01') & (df['disease'] == 'ABN')].index.__contains__(df[df['disease-name'] == 'Mu01'].index[i]):\n",
        "    ABN_list.append(i)\n",
        "  else:\n",
        "    \n",
        "    NOR_list.append(i)\n",
        "\n",
        "  "
      ]
    },
    {
      "cell_type": "code",
      "execution_count": null,
      "metadata": {
        "colab": {
          "base_uri": "https://localhost:8080/"
        },
        "id": "5luDDAB686Bj",
        "outputId": "b89d5d9d-d9d6-4774-c0b5-c9d2ff8d482d"
      },
      "outputs": [
        {
          "name": "stdout",
          "output_type": "stream",
          "text": [
            "24981\n",
            "91\n"
          ]
        }
      ],
      "source": [
        "print(len(NOR_list))\n",
        "print(len(ABN_list))"
      ]
    },
    {
      "cell_type": "code",
      "execution_count": null,
      "metadata": {
        "id": "FGpTbmks9IGB"
      },
      "outputs": [],
      "source": [
        "train_set = []\n",
        "\n",
        "for j in range(len(train_np)):\n",
        "  value = []\n",
        "  label = 0    # 0=NOR\n",
        "  if j in NOR_list:\n",
        "    value.append(label)\n",
        "    value.append(train_np[j])\n",
        "  else:\n",
        "    label = 0\n",
        "    value.append(label)\n",
        "    value.append(train_np[j])\n",
        "  train_set.append(value) "
      ]
    },
    {
      "cell_type": "markdown",
      "metadata": {
        "id": "LxYNZjCqu6iK"
      },
      "source": [
        "#train\n"
      ]
    },
    {
      "cell_type": "code",
      "source": [
        "#train_dir = \"/content/drive/MyDrive/ai/dog/test/Mu01_rs.npy\"\n",
        "#val_dir = \"/content/drive/MyDrive/ai/dog/val/val_Mu01.npy\"\n",
        "Mu01_t_x = '/content/drive/MyDrive/ai/dog/test/Mu01_t_x.npy'\n",
        "Mu01_t_y = '/content/drive/MyDrive/ai/dog/test/Mu01_t_y.npy'\n",
        "\n",
        "import numpy as np\n",
        "Mu01_t_x = np.load(Mu01_t_x)\n",
        "Mu01_t_y = np.load(Mu01_t_y)\n",
        "\n",
        "print(len(Mu01_t_x))"
      ],
      "metadata": {
        "colab": {
          "base_uri": "https://localhost:8080/"
        },
        "id": "Js3T_OAhYxrb",
        "outputId": "67397381-142f-4843-b4c9-14f6257df72f"
      },
      "execution_count": 1,
      "outputs": [
        {
          "output_type": "stream",
          "name": "stdout",
          "text": [
            "25072\n"
          ]
        }
      ]
    },
    {
      "cell_type": "code",
      "source": [
        "#Mu01_t_y.value_counts()\n",
        "print(Mu01_t_x.shape)"
      ],
      "metadata": {
        "colab": {
          "base_uri": "https://localhost:8080/"
        },
        "id": "Z3bhWVxnbCJT",
        "outputId": "a78b88b0-6958-4665-e7ec-318a7e9fe2b8"
      },
      "execution_count": 10,
      "outputs": [
        {
          "output_type": "stream",
          "name": "stdout",
          "text": [
            "(25072, 224, 224, 3)\n"
          ]
        }
      ]
    },
    {
      "cell_type": "code",
      "source": [
        "from sklearn.model_selection import train_test_split\n",
        "x_train, x_test, y_train, y_test = train_test_split(Mu01_t_x, Mu01_t_y, test_size = 0.3)\n",
        "x_train, x_test = x_train/255.0, x_test/255.0\n",
        "\n",
        "print(x_train.shape)\n",
        "print(y_train.shape)\n",
        "print(x_test.shape)\n",
        "print(y_test.shape)"
      ],
      "metadata": {
        "id": "Lc1OtWLCehYR"
      },
      "execution_count": null,
      "outputs": []
    },
    {
      "cell_type": "code",
      "execution_count": null,
      "metadata": {
        "id": "kwTVtEgp_eX-"
      },
      "outputs": [],
      "source": []
    },
    {
      "cell_type": "code",
      "execution_count": null,
      "metadata": {
        "id": "PW0lcVdy_h-k"
      },
      "outputs": [],
      "source": [
        "y_train[:50]"
      ]
    },
    {
      "cell_type": "markdown",
      "source": [
        "#efficientNet"
      ],
      "metadata": {
        "id": "dTfD4uGEdIwM"
      }
    },
    {
      "cell_type": "code",
      "source": [
        "from google.colab import drive\n",
        "drive.mount('/content/drive')"
      ],
      "metadata": {
        "colab": {
          "base_uri": "https://localhost:8080/"
        },
        "id": "8Aj0dBCQd3tU",
        "outputId": "1a103e5a-344e-4976-9b31-b78c528255f4"
      },
      "execution_count": 2,
      "outputs": [
        {
          "output_type": "stream",
          "name": "stdout",
          "text": [
            "Drive already mounted at /content/drive; to attempt to forcibly remount, call drive.mount(\"/content/drive\", force_remount=True).\n"
          ]
        }
      ]
    },
    {
      "cell_type": "code",
      "source": [
        "from tensorflow.keras import applications\n",
        "from tensorflow.keras import layers\n",
        "import tensorflow as tf\n",
        "\n",
        "def efficientNet_all_frz_model():\n",
        "  base_model = tf.keras.applications.efficientnet.EfficientNetB0(include_top=False, weights = 'imagenet')\n",
        "  base_model.trainable = False\n",
        "\n",
        "  #base_model.summary()\n",
        "  # pretrained model의 category와 유사하지 않다고 생각하여 전체 레이어를 동결 후 학습\n",
        "  # top <- false 이기 때문에 concatenate까지 하고 모델은 종료\n",
        "  # flatten 대신 GlobalAveragePooling2D()\n",
        "\n",
        "  flat_layer = layers.GlobalAveragePooling2D()(base_model.output)\n",
        "  output = layers.Dense(1, activation = 'sigmoid')(flat_layer)\n",
        "\n",
        "  model = tf.keras.models.Model(base_model.input, output)\n",
        "  return model\n",
        "\n",
        "#model.summary()"
      ],
      "metadata": {
        "id": "8HYuEcwtcl9F"
      },
      "execution_count": 1,
      "outputs": []
    },
    {
      "cell_type": "code",
      "source": [
        "model = efficientNet_all_frz_model()\n",
        "#model.summary()"
      ],
      "metadata": {
        "id": "opR8vXLAdS7d"
      },
      "execution_count": 2,
      "outputs": []
    },
    {
      "cell_type": "code",
      "source": [
        "train_dir = \"/content/drive/MyDrive/ai/dog/test\"\n",
        "\n",
        "Mu01_t_x = train_dir + '/' + 'Mu01_x_data_dv_1000.npy'\n",
        "Mu01_t_y = train_dir + '/' + 'Mu01_y_data_dv_1000.npy'\n",
        "#Mu01_v_x = train_dir + '/' + 'Mu01_x_data_val_1000.npy'\n",
        "#Mu01_v_y = train_dir + '/' + 'Mu01_y_data_val_1000.npy'"
      ],
      "metadata": {
        "id": "-OLBPJsaa3ii"
      },
      "execution_count": 3,
      "outputs": []
    },
    {
      "cell_type": "code",
      "source": [
        "import numpy as np\n",
        "x_set = np.load(Mu01_t_x)\n",
        "y_set = np.load(Mu01_t_y)"
      ],
      "metadata": {
        "id": "C74ui67Wb10i"
      },
      "execution_count": 4,
      "outputs": []
    },
    {
      "cell_type": "code",
      "source": [
        "#x_set = x_set / 255.0\n",
        "from sklearn.model_selection import train_test_split\n",
        "x_train, x_test, y_train, y_test = train_test_split(x_set, y_set, test_size = 0.3)\n",
        "\n",
        "print(x_train.shape)\n",
        "print(y_train.shape)\n",
        "print(x_test.shape)\n",
        "print(y_test.shape)\n",
        "\n",
        "del(x_set)\n",
        "del(y_set)"
      ],
      "metadata": {
        "colab": {
          "base_uri": "https://localhost:8080/"
        },
        "id": "XoXUJPfRcXK6",
        "outputId": "ba44d69f-418f-4b1f-9abb-86d610e4369c"
      },
      "execution_count": 5,
      "outputs": [
        {
          "output_type": "stream",
          "name": "stdout",
          "text": [
            "(17550, 224, 224, 3)\n",
            "(17550,)\n",
            "(7522, 224, 224, 3)\n",
            "(7522,)\n"
          ]
        }
      ]
    },
    {
      "cell_type": "code",
      "source": [
        "custom_adam = tf.keras.optimizers.Adam(learning_rate=0.001)\n",
        "\n",
        "#fine tuning fit \n",
        "\n",
        "model.compile(optimizer=custom_adam, loss='mse', metrics=['mae'])\n",
        "\n",
        "history = model.fit(x_train, y_train, validation_data = (x_test, y_test), epochs = 30, batch_size = 32) # 32-4까지"
      ],
      "metadata": {
        "colab": {
          "base_uri": "https://localhost:8080/"
        },
        "id": "-tJggtG_dZC_",
        "outputId": "fa0dd79c-3e0b-4f3d-838b-1ce55b4dd658"
      },
      "execution_count": 17,
      "outputs": [
        {
          "output_type": "stream",
          "name": "stdout",
          "text": [
            "Epoch 1/30\n",
            "445/445 [==============================] - 49s 93ms/step - loss: 0.0151 - mae: 0.0164 - val_loss: 0.0173 - val_mae: 0.0248\n",
            "Epoch 2/30\n",
            "445/445 [==============================] - 38s 86ms/step - loss: 0.0141 - mae: 0.0181 - val_loss: 0.0163 - val_mae: 0.0183\n",
            "Epoch 3/30\n",
            "445/445 [==============================] - 38s 87ms/step - loss: 0.0132 - mae: 0.0171 - val_loss: 0.0158 - val_mae: 0.0192\n",
            "Epoch 4/30\n",
            "445/445 [==============================] - 48s 108ms/step - loss: 0.0129 - mae: 0.0170 - val_loss: 0.0155 - val_mae: 0.0190\n",
            "Epoch 5/30\n",
            "445/445 [==============================] - 39s 87ms/step - loss: 0.0125 - mae: 0.0167 - val_loss: 0.0154 - val_mae: 0.0179\n",
            "Epoch 6/30\n",
            "445/445 [==============================] - 38s 86ms/step - loss: 0.0123 - mae: 0.0168 - val_loss: 0.0151 - val_mae: 0.0186\n",
            "Epoch 7/30\n",
            "445/445 [==============================] - 38s 86ms/step - loss: 0.0120 - mae: 0.0169 - val_loss: 0.0150 - val_mae: 0.0179\n",
            "Epoch 8/30\n",
            "445/445 [==============================] - 39s 87ms/step - loss: 0.0120 - mae: 0.0164 - val_loss: 0.0150 - val_mae: 0.0200\n",
            "Epoch 9/30\n",
            "445/445 [==============================] - 38s 86ms/step - loss: 0.0118 - mae: 0.0163 - val_loss: 0.0148 - val_mae: 0.0187\n",
            "Epoch 10/30\n",
            "445/445 [==============================] - 48s 108ms/step - loss: 0.0117 - mae: 0.0163 - val_loss: 0.0149 - val_mae: 0.0204\n",
            "Epoch 11/30\n",
            "445/445 [==============================] - 39s 87ms/step - loss: 0.0117 - mae: 0.0160 - val_loss: 0.0147 - val_mae: 0.0191\n",
            "Epoch 12/30\n",
            "445/445 [==============================] - 38s 87ms/step - loss: 0.0117 - mae: 0.0163 - val_loss: 0.0147 - val_mae: 0.0196\n",
            "Epoch 13/30\n",
            "445/445 [==============================] - 38s 86ms/step - loss: 0.0113 - mae: 0.0162 - val_loss: 0.0146 - val_mae: 0.0188\n",
            "Epoch 14/30\n",
            "445/445 [==============================] - 38s 86ms/step - loss: 0.0112 - mae: 0.0162 - val_loss: 0.0152 - val_mae: 0.0228\n",
            "Epoch 15/30\n",
            "445/445 [==============================] - 38s 86ms/step - loss: 0.0112 - mae: 0.0159 - val_loss: 0.0147 - val_mae: 0.0177\n",
            "Epoch 16/30\n",
            "445/445 [==============================] - 38s 86ms/step - loss: 0.0110 - mae: 0.0157 - val_loss: 0.0145 - val_mae: 0.0197\n",
            "Epoch 17/30\n",
            "445/445 [==============================] - 48s 108ms/step - loss: 0.0110 - mae: 0.0163 - val_loss: 0.0146 - val_mae: 0.0187\n",
            "Epoch 18/30\n",
            "445/445 [==============================] - 39s 87ms/step - loss: 0.0107 - mae: 0.0162 - val_loss: 0.0145 - val_mae: 0.0195\n",
            "Epoch 19/30\n",
            "445/445 [==============================] - 38s 86ms/step - loss: 0.0106 - mae: 0.0166 - val_loss: 0.0143 - val_mae: 0.0200\n",
            "Epoch 20/30\n",
            "445/445 [==============================] - 38s 86ms/step - loss: 0.0107 - mae: 0.0165 - val_loss: 0.0143 - val_mae: 0.0184\n",
            "Epoch 21/30\n",
            "445/445 [==============================] - 38s 86ms/step - loss: 0.0105 - mae: 0.0162 - val_loss: 0.0142 - val_mae: 0.0205\n",
            "Epoch 22/30\n",
            "445/445 [==============================] - 38s 86ms/step - loss: 0.0106 - mae: 0.0165 - val_loss: 0.0142 - val_mae: 0.0204\n",
            "Epoch 23/30\n",
            "445/445 [==============================] - 39s 87ms/step - loss: 0.0103 - mae: 0.0163 - val_loss: 0.0140 - val_mae: 0.0184\n",
            "Epoch 24/30\n",
            "445/445 [==============================] - 48s 108ms/step - loss: 0.0101 - mae: 0.0163 - val_loss: 0.0141 - val_mae: 0.0181\n",
            "Epoch 25/30\n",
            "445/445 [==============================] - 39s 87ms/step - loss: 0.0101 - mae: 0.0159 - val_loss: 0.0139 - val_mae: 0.0196\n",
            "Epoch 26/30\n",
            "445/445 [==============================] - 38s 86ms/step - loss: 0.0101 - mae: 0.0166 - val_loss: 0.0138 - val_mae: 0.0192\n",
            "Epoch 27/30\n",
            "445/445 [==============================] - 39s 87ms/step - loss: 0.0098 - mae: 0.0158 - val_loss: 0.0140 - val_mae: 0.0182\n",
            "Epoch 28/30\n",
            "445/445 [==============================] - 48s 108ms/step - loss: 0.0097 - mae: 0.0160 - val_loss: 0.0141 - val_mae: 0.0220\n",
            "Epoch 29/30\n",
            "445/445 [==============================] - 48s 108ms/step - loss: 0.0098 - mae: 0.0157 - val_loss: 0.0140 - val_mae: 0.0216\n",
            "Epoch 30/30\n",
            "445/445 [==============================] - 48s 108ms/step - loss: 0.0096 - mae: 0.0156 - val_loss: 0.0139 - val_mae: 0.0200\n"
          ]
        }
      ]
    },
    {
      "cell_type": "code",
      "source": [
        "custom_adam = tf.keras.optimizers.Adam(learning_rate=0.001)\n",
        "model.compile(optimizer=custom_adam, loss='mse', metrics=['mae'])\n",
        "\n",
        "history = model.fit(x_train, y_train, epochs = 30, batch_size = 32) # 32-4까지"
      ],
      "metadata": {
        "colab": {
          "base_uri": "https://localhost:8080/"
        },
        "id": "vyA5FCQEOxPo",
        "outputId": "8edf465d-79a9-409c-bc25-4e81c65cd2c0"
      },
      "execution_count": 6,
      "outputs": [
        {
          "output_type": "stream",
          "name": "stdout",
          "text": [
            "Epoch 1/30\n",
            "549/549 [==============================] - 51s 67ms/step - loss: 0.0058 - mae: 0.0229\n",
            "Epoch 2/30\n",
            "549/549 [==============================] - 35s 63ms/step - loss: 0.0039 - mae: 0.0101\n",
            "Epoch 3/30\n",
            "549/549 [==============================] - 34s 62ms/step - loss: 0.0038 - mae: 0.0089\n",
            "Epoch 4/30\n",
            "549/549 [==============================] - 34s 62ms/step - loss: 0.0038 - mae: 0.0098\n",
            "Epoch 5/30\n",
            "549/549 [==============================] - 35s 63ms/step - loss: 0.0035 - mae: 0.0100\n",
            "Epoch 6/30\n",
            "549/549 [==============================] - 34s 63ms/step - loss: 0.0032 - mae: 0.0087\n",
            "Epoch 7/30\n",
            "549/549 [==============================] - 34s 62ms/step - loss: 0.0031 - mae: 0.0080\n",
            "Epoch 8/30\n",
            "549/549 [==============================] - 34s 63ms/step - loss: 0.0030 - mae: 0.0067\n",
            "Epoch 9/30\n",
            "549/549 [==============================] - 34s 62ms/step - loss: 0.0030 - mae: 0.0069\n",
            "Epoch 10/30\n",
            "549/549 [==============================] - 34s 62ms/step - loss: 0.0027 - mae: 0.0069\n",
            "Epoch 11/30\n",
            "549/549 [==============================] - 34s 62ms/step - loss: 0.0025 - mae: 0.0062\n",
            "Epoch 12/30\n",
            "549/549 [==============================] - 34s 63ms/step - loss: 0.0025 - mae: 0.0056\n",
            "Epoch 13/30\n",
            "549/549 [==============================] - 34s 62ms/step - loss: 0.0023 - mae: 0.0055\n",
            "Epoch 14/30\n",
            "549/549 [==============================] - 34s 62ms/step - loss: 0.0024 - mae: 0.0052\n",
            "Epoch 15/30\n",
            "549/549 [==============================] - 34s 62ms/step - loss: 0.0023 - mae: 0.0049\n",
            "Epoch 16/30\n",
            "549/549 [==============================] - 34s 62ms/step - loss: 0.0022 - mae: 0.0046\n",
            "Epoch 17/30\n",
            "549/549 [==============================] - 34s 62ms/step - loss: 0.0022 - mae: 0.0042\n",
            "Epoch 18/30\n",
            "549/549 [==============================] - 34s 62ms/step - loss: 0.0022 - mae: 0.0047\n",
            "Epoch 19/30\n",
            "549/549 [==============================] - 34s 62ms/step - loss: 0.0021 - mae: 0.0044\n",
            "Epoch 20/30\n",
            "549/549 [==============================] - 34s 62ms/step - loss: 0.0022 - mae: 0.0047\n",
            "Epoch 21/30\n",
            "549/549 [==============================] - 34s 62ms/step - loss: 0.0021 - mae: 0.0043\n",
            "Epoch 22/30\n",
            "549/549 [==============================] - 34s 62ms/step - loss: 0.0020 - mae: 0.0045\n",
            "Epoch 23/30\n",
            "549/549 [==============================] - 34s 62ms/step - loss: 0.0021 - mae: 0.0038\n",
            "Epoch 24/30\n",
            "549/549 [==============================] - 34s 62ms/step - loss: 0.0020 - mae: 0.0037\n",
            "Epoch 25/30\n",
            "549/549 [==============================] - 34s 62ms/step - loss: 0.0020 - mae: 0.0040\n",
            "Epoch 26/30\n",
            "549/549 [==============================] - 34s 62ms/step - loss: 0.0020 - mae: 0.0040\n",
            "Epoch 27/30\n",
            "549/549 [==============================] - 34s 62ms/step - loss: 0.0019 - mae: 0.0039\n",
            "Epoch 28/30\n",
            "549/549 [==============================] - 34s 62ms/step - loss: 0.0021 - mae: 0.0038\n",
            "Epoch 29/30\n",
            "549/549 [==============================] - 34s 62ms/step - loss: 0.0020 - mae: 0.0039\n",
            "Epoch 30/30\n",
            "549/549 [==============================] - 34s 62ms/step - loss: 0.0020 - mae: 0.0038\n"
          ]
        }
      ]
    },
    {
      "cell_type": "code",
      "source": [
        "from sklearn.metrics import confusion_matrix\n",
        "import seaborn as sns\n",
        "import matplotlib.pyplot as plt\n",
        "\n",
        "\n",
        "# Evaluate the model on the validation data\n",
        "y_pred = model.predict(x_test)\n",
        "#print('Training set score: {:.4f}'.format(model.score(x_train, y_train)))\n",
        "#print('Test set score: {:.4f}'.format(model.score(x_test, y_test)))\n",
        "\n",
        "y_pred_discrete = np.round(y_pred)\n",
        "# Calculate the confusion matrix\n",
        "conf_mat = confusion_matrix(y_test, y_pred_discrete)  # y_val이 ground truth\n",
        "\n",
        "# Normalize the confusion matrix to get the ratios\n",
        "conf_mat_norm = conf_mat / conf_mat.sum(axis=1, keepdims=True)\n",
        "\n",
        "# Plot the normalized confusion matrix using Seaborn\n",
        "sns.heatmap(conf_mat_norm, annot=True, fmt='.2f', cmap='Reds', cbar=False)\n",
        "plt.xlabel('Predicted Label')\n",
        "plt.ylabel('True Label')\n",
        "plt.title('Confusion Matrix')\n",
        "plt.show()"
      ],
      "metadata": {
        "colab": {
          "base_uri": "https://localhost:8080/",
          "height": 313
        },
        "id": "K0Cp3q9sC_vW",
        "outputId": "7371fb98-1e02-4c13-aa2d-0f1f2519e9ce"
      },
      "execution_count": 9,
      "outputs": [
        {
          "output_type": "stream",
          "name": "stdout",
          "text": [
            "236/236 [==============================] - 15s 63ms/step\n"
          ]
        },
        {
          "output_type": "display_data",
          "data": {
            "text/plain": [
              "<Figure size 432x288 with 1 Axes>"
            ],
            "image/png": "[encoded data removed]"
          },
          "metadata": {
            "needs_background": "light"
          }
        }
      ]
    },
    {
      "cell_type": "code",
      "source": [
        "from sklearn.metrics import classification_report\n",
        "matrix = classification_report(y_test,y_pred_discrete )\n",
        "print(matrix)"
      ],
      "metadata": {
        "colab": {
          "base_uri": "https://localhost:8080/"
        },
        "id": "atwkX_rafT4x",
        "outputId": "47d45bce-7d2c-4eca-a9e3-cbc4dc8f44ad"
      },
      "execution_count": 25,
      "outputs": [
        {
          "output_type": "stream",
          "name": "stdout",
          "text": [
            "              precision    recall  f1-score   support\n",
            "\n",
            "           0       1.00      1.00      1.00      7499\n",
            "           1       0.83      0.22      0.34        23\n",
            "\n",
            "    accuracy                           1.00      7522\n",
            "   macro avg       0.92      0.61      0.67      7522\n",
            "weighted avg       1.00      1.00      1.00      7522\n",
            "\n"
          ]
        }
      ]
    },
    {
      "cell_type": "code",
      "source": [
        "# f1 score\n",
        "beta = 2\n",
        "TN = conf_mat_norm[0][0]\n",
        "FP = conf_mat_norm[0][1]\n",
        "FN = conf_mat_norm[1][0]\n",
        "TP = conf_mat_norm[1][1]\n",
        "Precision = TP/(TP+FP)\n",
        "Recall = TP/(TP+FN)\n",
        "\n",
        "print(\"Pricision\", Precision)\n",
        "print('Recall', Recall)\n",
        "print(\"F1\", (1+beta**2)*(Precision*Recall)/((beta**2*Precision)+Recall))"
      ],
      "metadata": {
        "colab": {
          "base_uri": "https://localhost:8080/"
        },
        "id": "IF_B-gWOc4_R",
        "outputId": "73c69260-7e14-4433-ad30-3088c5b5a65e"
      },
      "execution_count": 21,
      "outputs": [
        {
          "output_type": "stream",
          "name": "stdout",
          "text": [
            "Pricision 0.9993869609254225\n",
            "Recall 0.21739130434782608\n",
            "F1 0.25772380970710423\n"
          ]
        }
      ]
    },
    {
      "cell_type": "code",
      "source": [
        "#x_train, x_test, y_train, y_test\n",
        "del(x_train)\n",
        "del(x_test)\n",
        "del(y_train)\n",
        "del(y_test)"
      ],
      "metadata": {
        "id": "fyoho7Ncs-iL"
      },
      "execution_count": 18,
      "outputs": []
    },
    {
      "cell_type": "code",
      "source": [
        "import matplotlib.pyplot as plt\n",
        "\n",
        "plt.plot(history.history['mae'], label = 'train_mae')\n",
        "plt.plot(history.history['val_mae'], label = 'val_mae')\n",
        "plt.legend()"
      ],
      "metadata": {
        "colab": {
          "base_uri": "https://localhost:8080/",
          "height": 283
        },
        "id": "JO7K8xehdcsl",
        "outputId": "874703ea-067e-4cda-a95e-1eea5f53569c"
      },
      "execution_count": 19,
      "outputs": [
        {
          "output_type": "execute_result",
          "data": {
            "text/plain": [
              "<matplotlib.legend.Legend at 0x7f5ea72ba400>"
            ]
          },
          "metadata": {},
          "execution_count": 19
        },
        {
          "output_type": "display_data",
          "data": {
            "text/plain": [
              "<Figure size 432x288 with 1 Axes>"
            ],
            "image/png": "[encoded data removed]"
          },
          "metadata": {
            "needs_background": "light"
          }
        }
      ]
    },
    {
      "cell_type": "code",
      "source": [
        "plt.plot(history.history['loss'], label = 'train_loss')\n",
        "plt.plot(history.history['val_loss'], label = 'val_loss')\n",
        "plt.legend()\n",
        "     "
      ],
      "metadata": {
        "colab": {
          "base_uri": "https://localhost:8080/",
          "height": 283
        },
        "id": "VlV1wNcKdcmI",
        "outputId": "768b5fd6-5a85-4b37-af68-47cac534dbbc"
      },
      "execution_count": 20,
      "outputs": [
        {
          "output_type": "execute_result",
          "data": {
            "text/plain": [
              "<matplotlib.legend.Legend at 0x7f5d99fb58b0>"
            ]
          },
          "metadata": {},
          "execution_count": 20
        },
        {
          "output_type": "display_data",
          "data": {
            "text/plain": [
              "<Figure size 432x288 with 1 Axes>"
            ],
            "image/png": "[encoded data removed]"
          },
          "metadata": {
            "needs_background": "light"
          }
        }
      ]
    },
    {
      "cell_type": "code",
      "source": [
        "!mkdir /content/drive/MyDrive/ai/dog/Mu02"
      ],
      "metadata": {
        "id": "cJ5S-Xx_qQZk"
      },
      "execution_count": 21,
      "outputs": []
    },
    {
      "cell_type": "code",
      "source": [
        "model.save('/content/drive/MyDrive/ai/dog/Mu02')"
      ],
      "metadata": {
        "colab": {
          "base_uri": "https://localhost:8080/"
        },
        "id": "Pvs5f949pSs0",
        "outputId": "a721dea7-9eb1-4f98-cc89-c7a98eda06fb"
      },
      "execution_count": 22,
      "outputs": [
        {
          "output_type": "stream",
          "name": "stderr",
          "text": [
            "WARNING:absl:Found untraced functions such as _jit_compiled_convolution_op, _jit_compiled_convolution_op, _jit_compiled_convolution_op, _jit_compiled_convolution_op, _jit_compiled_convolution_op while saving (showing 5 of 81). These functions will not be directly callable after loading.\n"
          ]
        }
      ]
    },
    {
      "cell_type": "markdown",
      "source": [
        "# data 크기 줄이기\n",
        "- 비정상 횟수에 맞게 줄이기\n",
        "- 측면만 사용"
      ],
      "metadata": {
        "id": "gX1cNIh6hUvA"
      }
    },
    {
      "cell_type": "code",
      "source": [
        "# 2시 팀미팅"
      ],
      "metadata": {
        "id": "cuvE3dMEjIGi"
      },
      "execution_count": null,
      "outputs": []
    }
  ],
  "metadata": {
    "colab": {
      "provenance": [],
      "authorship_tag": "ABX9TyMJ/HPuWIdk1ui51fUnLcjA",
      "include_colab_link": true
    },
    "kernelspec": {
      "display_name": "Python 3",
      "name": "python3"
    },
    "language_info": {
      "name": "python"
    },
    "accelerator": "GPU",
    "gpuClass": "standard"
  },
  "nbformat": 4,
  "nbformat_minor": 0
}