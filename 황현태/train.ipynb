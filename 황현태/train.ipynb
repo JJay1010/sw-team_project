{
  "cells": [
    {
      "cell_type": "markdown",
      "metadata": {
        "id": "view-in-github",
        "colab_type": "text"
      },
      "source": [
        "<a href=\"https://colab.research.google.com/github/JJay1010/sw-team_project/blob/main/%ED%99%A9%ED%98%84%ED%83%9C/train.ipynb\" target=\"_parent\"><img src=\"https://colab.research.google.com/assets/colab-badge.svg\" alt=\"Open In Colab\"/></a>"
      ]
    },
    {
      "cell_type": "code",
      "source": [
        "try_1 =[1,2,3,4]\n",
        "from random import randrange\n",
        "print(try_1)\n",
        "try_1.insert(3,9)\n",
        "print(try_1)\n",
        "try_1.insert(randrange(len(try_1)+1), 7)\n",
        "print(try_1)"
      ],
      "metadata": {
        "colab": {
          "base_uri": "https://localhost:8080/"
        },
        "id": "O6CBzm-4b6J7",
        "outputId": "0a533731-d192-4287-e383-61e27a9023ef"
      },
      "execution_count": null,
      "outputs": [
        {
          "output_type": "stream",
          "name": "stdout",
          "text": [
            "[1, 2, 3, 4]\n",
            "[1, 2, 3, 9, 4]\n",
            "[1, 7, 2, 3, 9, 4]\n"
          ]
        }
      ]
    },
    {
      "cell_type": "code",
      "source": [
        "print(len(try_1))\n",
        "ss= randrange(len(try_1)+1)\n",
        "print(ss)\n"
      ],
      "metadata": {
        "colab": {
          "base_uri": "https://localhost:8080/"
        },
        "id": "1ZjODqQEcN4y",
        "outputId": "9a8f46ff-2d0c-4706-de8d-1c5b4dd8b682"
      },
      "execution_count": null,
      "outputs": [
        {
          "output_type": "stream",
          "name": "stdout",
          "text": [
            "6\n",
            "4\n"
          ]
        }
      ]
    },
    {
      "cell_type": "markdown",
      "metadata": {
        "id": "6Tj19zYro8v2"
      },
      "source": [
        "# load numpy"
      ]
    },
    {
      "cell_type": "code",
      "execution_count": null,
      "metadata": {
        "colab": {
          "base_uri": "https://localhost:8080/"
        },
        "id": "aZxduk0Jo4yL",
        "outputId": "ae749463-8b4d-4184-a1c2-aa205a4a479d"
      },
      "outputs": [
        {
          "output_type": "stream",
          "name": "stdout",
          "text": [
            "Mounted at /content/drive\n"
          ]
        }
      ],
      "source": [
        "from google.colab import drive\n",
        "drive.mount('/content/drive')"
      ]
    },
    {
      "cell_type": "code",
      "execution_count": null,
      "metadata": {
        "id": "vIobJ9whpVoq"
      },
      "outputs": [],
      "source": [
        "train_dir = \"/content/drive/MyDrive/ai/dog/test/Mu01_rs.npy\"\n",
        "val_dir = \"/content/drive/MyDrive/ai/dog/val/val_Mu01.npy\"\n",
        "\n",
        "import numpy as np\n",
        "train_np = np.load(train_dir)\n",
        "val_np = np.load(val_dir)\n",
        "\n",
        "print(len(train_np))\n",
        "print(len(val_np))"
      ]
    },
    {
      "cell_type": "markdown",
      "metadata": {
        "id": "OEX5FL1H1nhh"
      },
      "source": [
        "# label extraction"
      ]
    },
    {
      "cell_type": "code",
      "execution_count": null,
      "metadata": {
        "id": "Mw1jImlj2RhI"
      },
      "outputs": [],
      "source": [
        "!mkdir skel\n",
        "!mkdir skel/train\n",
        "\n",
        "!cd '/content/skel/train'\n",
        "!unzip -qq \"/content/drive/MyDrive/ai/dog/TL2_DOG.zip\" -d '/content/skel/train' \n",
        "\n",
        "!mkdir skel/val\n",
        "!cd '/content/skel/val'\n",
        "!unzip -qq \"/content/drive/MyDrive/ai/dog/VL2_DOG.zip\" -d '/content/skel/val' "
      ]
    },
    {
      "cell_type": "code",
      "execution_count": null,
      "metadata": {
        "colab": {
          "base_uri": "https://localhost:8080/"
        },
        "id": "l8g-Qx881tew",
        "outputId": "15ed9fa9-bc89-44d4-a9f4-3280cbceb973"
      },
      "outputs": [
        {
          "name": "stdout",
          "output_type": "stream",
          "text": [
            "113725\n"
          ]
        }
      ],
      "source": [
        "import glob\n",
        "dir_ltrain = '/content/skel/train'\n",
        "dir_lval = '/content/skel/val'\n",
        "\n",
        "json_dir_path = dir_ltrain\n",
        "json_path_list = sorted(glob.glob(json_dir_path+'/*'))\n",
        "print(len(json_path_list))"
      ]
    },
    {
      "cell_type": "code",
      "execution_count": null,
      "metadata": {
        "id": "6onwHzkZrTvp"
      },
      "outputs": [],
      "source": [
        "import json\n",
        "\n",
        "#\n",
        "file_path_2 = json_path_list\n",
        "#\n",
        "\n",
        "file_name_t = []\n",
        "disease_t = []\n",
        "dis_name = []\n",
        "pose = []\n",
        "point_loc_t = []\n",
        "for name in file_path_2:\n",
        "  with open(name, 'r') as file:\n",
        "      data = json.load(file)\n",
        "      #print(type(data))\n",
        "      #print(data)\n",
        "      file_name_t.append(data[\"fileName\"][:-5])\n",
        "      disease_t.append(data['metadata'][\"Disease\"])\n",
        "      dis_name.append(data['metadata'][\"Disease-Name\"])\n",
        "      pose.append(data['metadata'][\"Position\"])\n",
        "      point_loc_t.append(data['annotations'][0]['points'])"
      ]
    },
    {
      "cell_type": "code",
      "execution_count": null,
      "metadata": {
        "id": "tVPHBtvm1-GE"
      },
      "outputs": [],
      "source": [
        "import pandas as pd\n",
        "\n",
        "data = {'disease':disease_t , 'disease-name' : dis_name, 'position' : pose}\n",
        "df = pd.DataFrame( data , index = file_name_t , columns = ['disease', 'disease-name', 'position'])"
      ]
    },
    {
      "cell_type": "code",
      "execution_count": null,
      "metadata": {
        "colab": {
          "base_uri": "https://localhost:8080/"
        },
        "id": "XIFOMsb_2Djq",
        "outputId": "f9d4c545-063a-49a3-c6fe-8dd99a2b6316"
      },
      "outputs": [
        {
          "name": "stdout",
          "output_type": "stream",
          "text": [
            "['ABN' 'NOR']\n"
          ]
        }
      ],
      "source": [
        "df[df['disease-name'] == 'Mu01']['disease'] == 'NOR'\n",
        "print(np.unique(df['disease']))"
      ]
    },
    {
      "cell_type": "code",
      "execution_count": null,
      "metadata": {
        "colab": {
          "base_uri": "https://localhost:8080/",
          "height": 424
        },
        "id": "5oInHGhJ6eHk",
        "outputId": "c3711fcf-ca69-4f2e-ec77-0958ce9a664f"
      },
      "outputs": [
        {
          "data": {
            "text/html": [
              "\n",
              "  <div id=\"df-c41cbbca-e7b0-496c-a95f-66c07bddf49f\">\n",
              "    <div class=\"colab-df-container\">\n",
              "      <div>\n",
              "<style scoped>\n",
              "    .dataframe tbody tr th:only-of-type {\n",
              "        vertical-align: middle;\n",
              "    }\n",
              "\n",
              "    .dataframe tbody tr th {\n",
              "        vertical-align: top;\n",
              "    }\n",
              "\n",
              "    .dataframe thead th {\n",
              "        text-align: right;\n",
              "    }\n",
              "</style>\n",
              "<table border=\"1\" class=\"dataframe\">\n",
              "  <thead>\n",
              "    <tr style=\"text-align: right;\">\n",
              "      <th></th>\n",
              "      <th>disease</th>\n",
              "      <th>disease-name</th>\n",
              "      <th>position</th>\n",
              "    </tr>\n",
              "  </thead>\n",
              "  <tbody>\n",
              "    <tr>\n",
              "      <th>D_62_20000105_SF_0029_ABN_Mu01_20060116_0016</th>\n",
              "      <td>ABN</td>\n",
              "      <td>Mu01</td>\n",
              "      <td>AP</td>\n",
              "    </tr>\n",
              "    <tr>\n",
              "      <th>D_62_20000114_IM_0029_ABN_Mu01_20070113_0033</th>\n",
              "      <td>ABN</td>\n",
              "      <td>Mu01</td>\n",
              "      <td>AP</td>\n",
              "    </tr>\n",
              "    <tr>\n",
              "      <th>D_62_20000122_SF_0029_ABN_Mu01_20040118_0007</th>\n",
              "      <td>ABN</td>\n",
              "      <td>Mu01</td>\n",
              "      <td>AP</td>\n",
              "    </tr>\n",
              "    <tr>\n",
              "      <th>D_62_20000126_CM_0029_ABN_Mu01_20050110_0003</th>\n",
              "      <td>ABN</td>\n",
              "      <td>Mu01</td>\n",
              "      <td>AP</td>\n",
              "    </tr>\n",
              "    <tr>\n",
              "      <th>D_62_20000301_SF_0029_ABN_Mu01_20040120_0002</th>\n",
              "      <td>ABN</td>\n",
              "      <td>Mu01</td>\n",
              "      <td>ML</td>\n",
              "    </tr>\n",
              "    <tr>\n",
              "      <th>...</th>\n",
              "      <td>...</td>\n",
              "      <td>...</td>\n",
              "      <td>...</td>\n",
              "    </tr>\n",
              "    <tr>\n",
              "      <th>D_62_20140408_IM_0013_ABN_Mu01_20211213_0053</th>\n",
              "      <td>ABN</td>\n",
              "      <td>Mu01</td>\n",
              "      <td>AP</td>\n",
              "    </tr>\n",
              "    <tr>\n",
              "      <th>D_62_20140430_IF_0011_ABN_Mu01_20211210_0255</th>\n",
              "      <td>ABN</td>\n",
              "      <td>Mu01</td>\n",
              "      <td>ML</td>\n",
              "    </tr>\n",
              "    <tr>\n",
              "      <th>D_62_20140617_IM_0014_ABN_Mu01_20210619_0003</th>\n",
              "      <td>ABN</td>\n",
              "      <td>Mu01</td>\n",
              "      <td>AP</td>\n",
              "    </tr>\n",
              "    <tr>\n",
              "      <th>D_62_20150416_CM_0020_ABN_Mu01_20210806_0001</th>\n",
              "      <td>ABN</td>\n",
              "      <td>Mu01</td>\n",
              "      <td>ML</td>\n",
              "    </tr>\n",
              "    <tr>\n",
              "      <th>D_62_20150419_CM_0020_ABN_Mu01_20200316_0001</th>\n",
              "      <td>ABN</td>\n",
              "      <td>Mu01</td>\n",
              "      <td>AP</td>\n",
              "    </tr>\n",
              "  </tbody>\n",
              "</table>\n",
              "<p>91 rows × 3 columns</p>\n",
              "</div>\n",
              "      <button class=\"colab-df-convert\" onclick=\"convertToInteractive('df-c41cbbca-e7b0-496c-a95f-66c07bddf49f')\"\n",
              "              title=\"Convert this dataframe to an interactive table.\"\n",
              "              style=\"display:none;\">\n",
              "        \n",
              "  <svg xmlns=\"http://www.w3.org/2000/svg\" height=\"24px\"viewBox=\"0 0 24 24\"\n",
              "       width=\"24px\">\n",
              "    <path d=\"M0 0h24v24H0V0z\" fill=\"none\"/>\n",
              "    <path d=\"M18.56 5.44l.94 2.06.94-2.06 2.06-.94-2.06-.94-.94-2.06-.94 2.06-2.06.94zm-11 1L8.5 8.5l.94-2.06 2.06-.94-2.06-.94L8.5 2.5l-.94 2.06-2.06.94zm10 10l.94 2.06.94-2.06 2.06-.94-2.06-.94-.94-2.06-.94 2.06-2.06.94z\"/><path d=\"M17.41 7.96l-1.37-1.37c-.4-.4-.92-.59-1.43-.59-.52 0-1.04.2-1.43.59L10.3 9.45l-7.72 7.72c-.78.78-.78 2.05 0 2.83L4 21.41c.39.39.9.59 1.41.59.51 0 1.02-.2 1.41-.59l7.78-7.78 2.81-2.81c.8-.78.8-2.07 0-2.86zM5.41 20L4 18.59l7.72-7.72 1.47 1.35L5.41 20z\"/>\n",
              "  </svg>\n",
              "      </button>\n",
              "      \n",
              "  <style>\n",
              "    .colab-df-container {\n",
              "      display:flex;\n",
              "      flex-wrap:wrap;\n",
              "      gap: 12px;\n",
              "    }\n",
              "\n",
              "    .colab-df-convert {\n",
              "      background-color: #E8F0FE;\n",
              "      border: none;\n",
              "      border-radius: 50%;\n",
              "      cursor: pointer;\n",
              "      display: none;\n",
              "      fill: #1967D2;\n",
              "      height: 32px;\n",
              "      padding: 0 0 0 0;\n",
              "      width: 32px;\n",
              "    }\n",
              "\n",
              "    .colab-df-convert:hover {\n",
              "      background-color: #E2EBFA;\n",
              "      box-shadow: 0px 1px 2px rgba(60, 64, 67, 0.3), 0px 1px 3px 1px rgba(60, 64, 67, 0.15);\n",
              "      fill: #174EA6;\n",
              "    }\n",
              "\n",
              "    [theme=dark] .colab-df-convert {\n",
              "      background-color: #3B4455;\n",
              "      fill: #D2E3FC;\n",
              "    }\n",
              "\n",
              "    [theme=dark] .colab-df-convert:hover {\n",
              "      background-color: #434B5C;\n",
              "      box-shadow: 0px 1px 3px 1px rgba(0, 0, 0, 0.15);\n",
              "      filter: drop-shadow(0px 1px 2px rgba(0, 0, 0, 0.3));\n",
              "      fill: #FFFFFF;\n",
              "    }\n",
              "  </style>\n",
              "\n",
              "      <script>\n",
              "        const buttonEl =\n",
              "          document.querySelector('#df-c41cbbca-e7b0-496c-a95f-66c07bddf49f button.colab-df-convert');\n",
              "        buttonEl.style.display =\n",
              "          google.colab.kernel.accessAllowed ? 'block' : 'none';\n",
              "\n",
              "        async function convertToInteractive(key) {\n",
              "          const element = document.querySelector('#df-c41cbbca-e7b0-496c-a95f-66c07bddf49f');\n",
              "          const dataTable =\n",
              "            await google.colab.kernel.invokeFunction('convertToInteractive',\n",
              "                                                     [key], {});\n",
              "          if (!dataTable) return;\n",
              "\n",
              "          const docLinkHtml = 'Like what you see? Visit the ' +\n",
              "            '<a target=\"_blank\" href=https://colab.research.google.com/notebooks/data_table.ipynb>data table notebook</a>'\n",
              "            + ' to learn more about interactive tables.';\n",
              "          element.innerHTML = '';\n",
              "          dataTable['output_type'] = 'display_data';\n",
              "          await google.colab.output.renderOutput(dataTable, element);\n",
              "          const docLink = document.createElement('div');\n",
              "          docLink.innerHTML = docLinkHtml;\n",
              "          element.appendChild(docLink);\n",
              "        }\n",
              "      </script>\n",
              "    </div>\n",
              "  </div>\n",
              "  "
            ],
            "text/plain": [
              "                                             disease disease-name position\n",
              "D_62_20000105_SF_0029_ABN_Mu01_20060116_0016     ABN         Mu01       AP\n",
              "D_62_20000114_IM_0029_ABN_Mu01_20070113_0033     ABN         Mu01       AP\n",
              "D_62_20000122_SF_0029_ABN_Mu01_20040118_0007     ABN         Mu01       AP\n",
              "D_62_20000126_CM_0029_ABN_Mu01_20050110_0003     ABN         Mu01       AP\n",
              "D_62_20000301_SF_0029_ABN_Mu01_20040120_0002     ABN         Mu01       ML\n",
              "...                                              ...          ...      ...\n",
              "D_62_20140408_IM_0013_ABN_Mu01_20211213_0053     ABN         Mu01       AP\n",
              "D_62_20140430_IF_0011_ABN_Mu01_20211210_0255     ABN         Mu01       ML\n",
              "D_62_20140617_IM_0014_ABN_Mu01_20210619_0003     ABN         Mu01       AP\n",
              "D_62_20150416_CM_0020_ABN_Mu01_20210806_0001     ABN         Mu01       ML\n",
              "D_62_20150419_CM_0020_ABN_Mu01_20200316_0001     ABN         Mu01       AP\n",
              "\n",
              "[91 rows x 3 columns]"
            ]
          },
          "execution_count": 10,
          "metadata": {},
          "output_type": "execute_result"
        }
      ],
      "source": [
        "df[(df['disease-name'] == 'Mu01') & (df['disease'] == 'ABN')]"
      ]
    },
    {
      "cell_type": "code",
      "execution_count": null,
      "metadata": {
        "colab": {
          "base_uri": "https://localhost:8080/"
        },
        "id": "oQO8NCAQ7Etq",
        "outputId": "1fca97b7-6798-42c3-badf-1c4a69d82e0a"
      },
      "outputs": [
        {
          "data": {
            "text/plain": [
              "Index(['D_62_19980513_IF_0028_NOR_Mu01_20211216_0165',\n",
              "       'D_62_19980513_IF_0028_NOR_Mu01_20211216_0167',\n",
              "       'D_62_19980513_IF_0028_NOR_Mu01_20211216_0168',\n",
              "       'D_62_19980513_IF_0028_NOR_Mu01_20211216_0169',\n",
              "       'D_62_19980623_IM_0028_NOR_Mu01_20211216_0173',\n",
              "       'D_62_19980623_IM_0028_NOR_Mu01_20211216_0174',\n",
              "       'D_62_19980623_IM_0028_NOR_Mu01_20211216_0175',\n",
              "       'D_62_19980623_IM_0028_NOR_Mu01_20211216_0176',\n",
              "       'D_62_19980623_IM_0028_NOR_Mu01_20211216_0177',\n",
              "       'D_62_19980710_IM_0028_NOR_Mu01_20211216_0179',\n",
              "       ...\n",
              "       'D_62_20171118_IF_0012_NOR_Mu01_20210518_0925',\n",
              "       'D_62_20171120_IF_0013_NOR_Mu01_20201120_0001',\n",
              "       'D_62_20171120_IF_0013_NOR_Mu01_20201120_0471',\n",
              "       'D_62_20171120_IF_0013_NOR_Mu01_20201120_0472',\n",
              "       'D_62_20171120_IF_0013_NOR_Mu01_20201120_0575',\n",
              "       'D_62_20171122_IF_0030_NOR_Mu01_20211214_2083',\n",
              "       'D_62_20171123_CM_0020_NOR_Mu01_20211213_0538',\n",
              "       'D_62_20171123_IF_0020_NOR_Mu01_20191123_0004',\n",
              "       'D_62_20171123_IF_0020_NOR_Mu01_20191123_0006',\n",
              "       'D_62_20171123_IF_0020_NOR_Mu01_20191123_0840'],\n",
              "      dtype='object', length=25072)"
            ]
          },
          "execution_count": 32,
          "metadata": {},
          "output_type": "execute_result"
        }
      ],
      "source": [
        "df[df['disease-name'] == 'Mu01'].index"
      ]
    },
    {
      "cell_type": "code",
      "execution_count": null,
      "metadata": {
        "colab": {
          "base_uri": "https://localhost:8080/"
        },
        "id": "AlVrlWriKlEe",
        "outputId": "65ca9f88-1c86-485a-f2aa-20fdc5cbe6b3"
      },
      "outputs": [
        {
          "name": "stdout",
          "output_type": "stream",
          "text": [
            "d\n"
          ]
        }
      ],
      "source": [
        "\n",
        "    print('d')"
      ]
    },
    {
      "cell_type": "code",
      "execution_count": null,
      "metadata": {
        "colab": {
          "background_save": true
        },
        "id": "UvRsNCRF2gs_"
      },
      "outputs": [],
      "source": [
        "NOR_list = []\n",
        "ABN_list = []\n",
        "for i in range(len(df[df['disease-name'] == 'Mu01'].index)):\n",
        "  check = df[df['disease-name'] == 'Mu01'].index[i]\n",
        "  if  df[(df['disease-name'] == 'Mu01') & (df['disease'] == 'ABN')].index.__contains__(df[df['disease-name'] == 'Mu01'].index[i]):\n",
        "    ABN_list.append(i)\n",
        "  else:\n",
        "    \n",
        "    NOR_list.append(i)\n",
        "\n",
        "  "
      ]
    },
    {
      "cell_type": "code",
      "execution_count": null,
      "metadata": {
        "colab": {
          "base_uri": "https://localhost:8080/"
        },
        "id": "5luDDAB686Bj",
        "outputId": "b89d5d9d-d9d6-4774-c0b5-c9d2ff8d482d"
      },
      "outputs": [
        {
          "name": "stdout",
          "output_type": "stream",
          "text": [
            "24981\n",
            "91\n"
          ]
        }
      ],
      "source": [
        "print(len(NOR_list))\n",
        "print(len(ABN_list))"
      ]
    },
    {
      "cell_type": "code",
      "execution_count": null,
      "metadata": {
        "id": "FGpTbmks9IGB"
      },
      "outputs": [],
      "source": [
        "train_set = []\n",
        "\n",
        "for j in range(len(train_np)):\n",
        "  value = []\n",
        "  label = 0    # 0=NOR\n",
        "  if j in NOR_list:\n",
        "    value.append(label)\n",
        "    value.append(train_np[j])\n",
        "  else:\n",
        "    label = 0\n",
        "    value.append(label)\n",
        "    value.append(train_np[j])\n",
        "  train_set.append(value) "
      ]
    },
    {
      "cell_type": "markdown",
      "metadata": {
        "id": "LxYNZjCqu6iK"
      },
      "source": [
        "#train\n"
      ]
    },
    {
      "cell_type": "code",
      "source": [
        "#train_dir = \"/content/drive/MyDrive/ai/dog/test/Mu01_rs.npy\"\n",
        "#val_dir = \"/content/drive/MyDrive/ai/dog/val/val_Mu01.npy\"\n",
        "Mu01_t_x = '/content/drive/MyDrive/ai/dog/test/Mu01_t_x.npy'\n",
        "Mu01_t_y = '/content/drive/MyDrive/ai/dog/test/Mu01_t_y.npy'\n",
        "\n",
        "import numpy as np\n",
        "Mu01_t_x = np.load(Mu01_t_x)\n",
        "Mu01_t_y = np.load(Mu01_t_y)\n",
        "\n",
        "print(len(Mu01_t_x))"
      ],
      "metadata": {
        "colab": {
          "base_uri": "https://localhost:8080/"
        },
        "id": "Js3T_OAhYxrb",
        "outputId": "67397381-142f-4843-b4c9-14f6257df72f"
      },
      "execution_count": null,
      "outputs": [
        {
          "output_type": "stream",
          "name": "stdout",
          "text": [
            "25072\n"
          ]
        }
      ]
    },
    {
      "cell_type": "code",
      "source": [
        "#Mu01_t_y.value_counts()\n",
        "print(Mu01_t_x.shape)"
      ],
      "metadata": {
        "colab": {
          "base_uri": "https://localhost:8080/"
        },
        "id": "Z3bhWVxnbCJT",
        "outputId": "a78b88b0-6958-4665-e7ec-318a7e9fe2b8"
      },
      "execution_count": null,
      "outputs": [
        {
          "output_type": "stream",
          "name": "stdout",
          "text": [
            "(25072, 224, 224, 3)\n"
          ]
        }
      ]
    },
    {
      "cell_type": "code",
      "source": [
        "from sklearn.model_selection import train_test_split\n",
        "x_train, x_test, y_train, y_test = train_test_split(Mu01_t_x, Mu01_t_y, test_size = 0.3)\n",
        "x_train, x_test = x_train/255.0, x_test/255.0\n",
        "\n",
        "print(x_train.shape)\n",
        "print(y_train.shape)\n",
        "print(x_test.shape)\n",
        "print(y_test.shape)"
      ],
      "metadata": {
        "id": "Lc1OtWLCehYR"
      },
      "execution_count": null,
      "outputs": []
    },
    {
      "cell_type": "code",
      "execution_count": null,
      "metadata": {
        "id": "kwTVtEgp_eX-"
      },
      "outputs": [],
      "source": []
    },
    {
      "cell_type": "code",
      "execution_count": null,
      "metadata": {
        "id": "PW0lcVdy_h-k"
      },
      "outputs": [],
      "source": [
        "y_train[:50]"
      ]
    },
    {
      "cell_type": "markdown",
      "source": [
        "#efficientNet"
      ],
      "metadata": {
        "id": "dTfD4uGEdIwM"
      }
    },
    {
      "cell_type": "code",
      "source": [
        "from google.colab import drive\n",
        "drive.mount('/content/drive')"
      ],
      "metadata": {
        "colab": {
          "base_uri": "https://localhost:8080/"
        },
        "id": "8Aj0dBCQd3tU",
        "outputId": "024fb02a-6c12-4dfa-9100-2ba995b23a68"
      },
      "execution_count": 5,
      "outputs": [
        {
          "output_type": "stream",
          "name": "stdout",
          "text": [
            "Mounted at /content/drive\n"
          ]
        }
      ]
    },
    {
      "cell_type": "code",
      "source": [
        "from tensorflow.keras import applications\n",
        "from tensorflow.keras import layers\n",
        "import tensorflow as tf\n",
        "\n",
        "def efficientNet_all_frz_model():\n",
        "  base_model = tf.keras.applications.efficientnet.EfficientNetB0(include_top=False, weights = 'imagenet')\n",
        "  base_model.trainable = False\n",
        "\n",
        "  #base_model.summary()\n",
        "  # pretrained model의 category와 유사하지 않다고 생각하여 전체 레이어를 동결 후 학습\n",
        "  # top <- false 이기 때문에 concatenate까지 하고 모델은 종료\n",
        "  # flatten 대신 GlobalAveragePooling2D()\n",
        "\n",
        "  flat_layer = layers.GlobalAveragePooling2D()(base_model.output)\n",
        "  output = layers.Dense(1, activation = 'sigmoid')(flat_layer)\n",
        "\n",
        "  model = tf.keras.models.Model(base_model.input, output)\n",
        "  return model\n",
        "\n",
        "#model.summary()\n",
        "\n",
        "# def dense_model():\n",
        "#   base_model = tf.keras.applications.DenseNet169(include_top = False, weights = 'imagenet')  # category 유사도 떨어져 layer 동결\n",
        "#   # top <- false 이기 때문에 concatenate까지 하고 모델은 종료\n",
        "#   base_model.trainable = False\n",
        "\n",
        "#   flat_layer = layers.GlobalAveragePooling2D()(base_model.output)\n",
        "#   output = layers.Dense(1, activation = 'sigmoid')(flat_layer)\n",
        "#   model = tf.keras.models.Model(base_model.input, output)\n",
        "#   return model\n",
        "\n",
        "\n",
        "\n"
      ],
      "metadata": {
        "id": "8HYuEcwtcl9F"
      },
      "execution_count": 1,
      "outputs": []
    },
    {
      "cell_type": "code",
      "source": [
        "model = efficientNet_all_frz_model()\n",
        "#model.summary()"
      ],
      "metadata": {
        "id": "opR8vXLAdS7d"
      },
      "execution_count": 7,
      "outputs": []
    },
    {
      "cell_type": "code",
      "source": [
        "model = dense_model()"
      ],
      "metadata": {
        "id": "Ye4DYojMIe7M"
      },
      "execution_count": 2,
      "outputs": []
    },
    {
      "cell_type": "code",
      "source": [
        "train_dir = \"/content/drive/MyDrive/ai/dog/test\" + \"/light_aug\"\n",
        "\n",
        "Mu01_t_x = train_dir + '/' + 'Mu05_x_data_tr_ch_1000.npy'\n",
        "Mu01_t_y = train_dir + '/' + 'Mu05_y_data_tr_ch_1000.npy'\n",
        "#Mu01_v_x = train_dir + '/' + 'Mu01_x_data_val_1000.npy'\n",
        "#Mu01_v_y = train_dir + '/' + 'Mu01_y_data_val_1000.npy'"
      ],
      "metadata": {
        "id": "-OLBPJsaa3ii"
      },
      "execution_count": 3,
      "outputs": []
    },
    {
      "cell_type": "code",
      "source": [
        "import numpy as np\n",
        "x_set = np.load(Mu01_t_x)\n",
        "y_set = np.load(Mu01_t_y)"
      ],
      "metadata": {
        "id": "C74ui67Wb10i"
      },
      "execution_count": 6,
      "outputs": []
    },
    {
      "cell_type": "code",
      "source": [
        "#x_set = x_set / 255.0\n",
        "from sklearn.model_selection import train_test_split\n",
        "x_train, x_test, y_train, y_test = train_test_split(x_set, y_set, test_size = 0.3)\n",
        "\n",
        "print(x_train.shape)\n",
        "print(y_train.shape)\n",
        "print(x_test.shape)\n",
        "print(y_test.shape)\n",
        "\n",
        "del(x_set)\n",
        "del(y_set)"
      ],
      "metadata": {
        "id": "XoXUJPfRcXK6"
      },
      "execution_count": null,
      "outputs": []
    },
    {
      "cell_type": "code",
      "source": [
        "custom_adam = tf.keras.optimizers.Adam(learning_rate=0.001)\n",
        "\n",
        "#fine tuning fit \n",
        "\n",
        "model.compile(optimizer=custom_adam, loss='mse', metrics=['mae'])\n",
        "\n",
        "history = model.fit(x_train, y_train, validation_data = (x_test, y_test), epochs = 30, batch_size = 32) # 32-4까지"
      ],
      "metadata": {
        "id": "-tJggtG_dZC_"
      },
      "execution_count": null,
      "outputs": []
    },
    {
      "cell_type": "code",
      "source": [
        "custom_adam = tf.keras.optimizers.Adam(learning_rate=0.0001)\n",
        "model.compile(optimizer=custom_adam, loss='mse', metrics=['mae'])\n",
        "\n",
        "history = model.fit(x_train, y_train, epochs = 30, batch_size = 32) # 32-4까지"
      ],
      "metadata": {
        "id": "vyA5FCQEOxPo"
      },
      "execution_count": null,
      "outputs": []
    },
    {
      "cell_type": "code",
      "source": [
        "custom_adam = tf.keras.optimizers.Adam(learning_rate=0.0001)  #0.0001\n",
        "model.compile(optimizer=custom_adam, loss='mse', metrics=['mae'])\n",
        "##model.compile(optimizer=custom_adam, loss='binary_crossentropy', metrics=['mae'])\n",
        "\n",
        "history = model.fit(x_set, y_set, epochs = 30, batch_size = 32) # 32-4까지    32, 16"
      ],
      "metadata": {
        "colab": {
          "base_uri": "https://localhost:8080/",
          "height": 400
        },
        "id": "JMIPYCZbvJL1",
        "outputId": "5bfcb177-277e-4d90-ae31-4613417a0771"
      },
      "execution_count": 8,
      "outputs": [
        {
          "output_type": "stream",
          "name": "stdout",
          "text": [
            "Epoch 1/30\n",
            "149/393 [==========>...................] - ETA: 11:27 - loss: 0.2494 - mae: 0.4858"
          ]
        },
        {
          "output_type": "error",
          "ename": "KeyboardInterrupt",
          "evalue": "ignored",
          "traceback": [
            "\u001b[0;31m---------------------------------------------------------------------------\u001b[0m",
            "\u001b[0;31mKeyboardInterrupt\u001b[0m                         Traceback (most recent call last)",
            "\u001b[0;32m<ipython-input-8-80eec1aff95e>\u001b[0m in \u001b[0;36m<module>\u001b[0;34m\u001b[0m\n\u001b[1;32m      3\u001b[0m \u001b[0;31m##model.compile(optimizer=custom_adam, loss='binary_crossentropy', metrics=['mae'])\u001b[0m\u001b[0;34m\u001b[0m\u001b[0;34m\u001b[0m\u001b[0;34m\u001b[0m\u001b[0m\n\u001b[1;32m      4\u001b[0m \u001b[0;34m\u001b[0m\u001b[0m\n\u001b[0;32m----> 5\u001b[0;31m \u001b[0mhistory\u001b[0m \u001b[0;34m=\u001b[0m \u001b[0mmodel\u001b[0m\u001b[0;34m.\u001b[0m\u001b[0mfit\u001b[0m\u001b[0;34m(\u001b[0m\u001b[0mx_set\u001b[0m\u001b[0;34m,\u001b[0m \u001b[0my_set\u001b[0m\u001b[0;34m,\u001b[0m \u001b[0mepochs\u001b[0m \u001b[0;34m=\u001b[0m \u001b[0;36m30\u001b[0m\u001b[0;34m,\u001b[0m \u001b[0mbatch_size\u001b[0m \u001b[0;34m=\u001b[0m \u001b[0;36m32\u001b[0m\u001b[0;34m)\u001b[0m \u001b[0;31m# 32-4까지    32, 16\u001b[0m\u001b[0;34m\u001b[0m\u001b[0;34m\u001b[0m\u001b[0m\n\u001b[0m",
            "\u001b[0;32m/usr/local/lib/python3.8/dist-packages/keras/utils/traceback_utils.py\u001b[0m in \u001b[0;36merror_handler\u001b[0;34m(*args, **kwargs)\u001b[0m\n\u001b[1;32m     62\u001b[0m     \u001b[0mfiltered_tb\u001b[0m \u001b[0;34m=\u001b[0m \u001b[0;32mNone\u001b[0m\u001b[0;34m\u001b[0m\u001b[0;34m\u001b[0m\u001b[0m\n\u001b[1;32m     63\u001b[0m     \u001b[0;32mtry\u001b[0m\u001b[0;34m:\u001b[0m\u001b[0;34m\u001b[0m\u001b[0;34m\u001b[0m\u001b[0m\n\u001b[0;32m---> 64\u001b[0;31m       \u001b[0;32mreturn\u001b[0m \u001b[0mfn\u001b[0m\u001b[0;34m(\u001b[0m\u001b[0;34m*\u001b[0m\u001b[0margs\u001b[0m\u001b[0;34m,\u001b[0m \u001b[0;34m**\u001b[0m\u001b[0mkwargs\u001b[0m\u001b[0;34m)\u001b[0m\u001b[0;34m\u001b[0m\u001b[0;34m\u001b[0m\u001b[0m\n\u001b[0m\u001b[1;32m     65\u001b[0m     \u001b[0;32mexcept\u001b[0m \u001b[0mException\u001b[0m \u001b[0;32mas\u001b[0m \u001b[0me\u001b[0m\u001b[0;34m:\u001b[0m  \u001b[0;31m# pylint: disable=broad-except\u001b[0m\u001b[0;34m\u001b[0m\u001b[0;34m\u001b[0m\u001b[0m\n\u001b[1;32m     66\u001b[0m       \u001b[0mfiltered_tb\u001b[0m \u001b[0;34m=\u001b[0m \u001b[0m_process_traceback_frames\u001b[0m\u001b[0;34m(\u001b[0m\u001b[0me\u001b[0m\u001b[0;34m.\u001b[0m\u001b[0m__traceback__\u001b[0m\u001b[0;34m)\u001b[0m\u001b[0;34m\u001b[0m\u001b[0;34m\u001b[0m\u001b[0m\n",
            "\u001b[0;32m/usr/local/lib/python3.8/dist-packages/keras/engine/training.py\u001b[0m in \u001b[0;36mfit\u001b[0;34m(self, x, y, batch_size, epochs, verbose, callbacks, validation_split, validation_data, shuffle, class_weight, sample_weight, initial_epoch, steps_per_epoch, validation_steps, validation_batch_size, validation_freq, max_queue_size, workers, use_multiprocessing)\u001b[0m\n\u001b[1;32m   1407\u001b[0m                 _r=1):\n\u001b[1;32m   1408\u001b[0m               \u001b[0mcallbacks\u001b[0m\u001b[0;34m.\u001b[0m\u001b[0mon_train_batch_begin\u001b[0m\u001b[0;34m(\u001b[0m\u001b[0mstep\u001b[0m\u001b[0;34m)\u001b[0m\u001b[0;34m\u001b[0m\u001b[0;34m\u001b[0m\u001b[0m\n\u001b[0;32m-> 1409\u001b[0;31m               \u001b[0mtmp_logs\u001b[0m \u001b[0;34m=\u001b[0m \u001b[0mself\u001b[0m\u001b[0;34m.\u001b[0m\u001b[0mtrain_function\u001b[0m\u001b[0;34m(\u001b[0m\u001b[0miterator\u001b[0m\u001b[0;34m)\u001b[0m\u001b[0;34m\u001b[0m\u001b[0;34m\u001b[0m\u001b[0m\n\u001b[0m\u001b[1;32m   1410\u001b[0m               \u001b[0;32mif\u001b[0m \u001b[0mdata_handler\u001b[0m\u001b[0;34m.\u001b[0m\u001b[0mshould_sync\u001b[0m\u001b[0;34m:\u001b[0m\u001b[0;34m\u001b[0m\u001b[0;34m\u001b[0m\u001b[0m\n\u001b[1;32m   1411\u001b[0m                 \u001b[0mcontext\u001b[0m\u001b[0;34m.\u001b[0m\u001b[0masync_wait\u001b[0m\u001b[0;34m(\u001b[0m\u001b[0;34m)\u001b[0m\u001b[0;34m\u001b[0m\u001b[0;34m\u001b[0m\u001b[0m\n",
            "\u001b[0;32m/usr/local/lib/python3.8/dist-packages/tensorflow/python/util/traceback_utils.py\u001b[0m in \u001b[0;36merror_handler\u001b[0;34m(*args, **kwargs)\u001b[0m\n\u001b[1;32m    148\u001b[0m     \u001b[0mfiltered_tb\u001b[0m \u001b[0;34m=\u001b[0m \u001b[0;32mNone\u001b[0m\u001b[0;34m\u001b[0m\u001b[0;34m\u001b[0m\u001b[0m\n\u001b[1;32m    149\u001b[0m     \u001b[0;32mtry\u001b[0m\u001b[0;34m:\u001b[0m\u001b[0;34m\u001b[0m\u001b[0;34m\u001b[0m\u001b[0m\n\u001b[0;32m--> 150\u001b[0;31m       \u001b[0;32mreturn\u001b[0m \u001b[0mfn\u001b[0m\u001b[0;34m(\u001b[0m\u001b[0;34m*\u001b[0m\u001b[0margs\u001b[0m\u001b[0;34m,\u001b[0m \u001b[0;34m**\u001b[0m\u001b[0mkwargs\u001b[0m\u001b[0;34m)\u001b[0m\u001b[0;34m\u001b[0m\u001b[0;34m\u001b[0m\u001b[0m\n\u001b[0m\u001b[1;32m    151\u001b[0m     \u001b[0;32mexcept\u001b[0m \u001b[0mException\u001b[0m \u001b[0;32mas\u001b[0m \u001b[0me\u001b[0m\u001b[0;34m:\u001b[0m\u001b[0;34m\u001b[0m\u001b[0;34m\u001b[0m\u001b[0m\n\u001b[1;32m    152\u001b[0m       \u001b[0mfiltered_tb\u001b[0m \u001b[0;34m=\u001b[0m \u001b[0m_process_traceback_frames\u001b[0m\u001b[0;34m(\u001b[0m\u001b[0me\u001b[0m\u001b[0;34m.\u001b[0m\u001b[0m__traceback__\u001b[0m\u001b[0;34m)\u001b[0m\u001b[0;34m\u001b[0m\u001b[0;34m\u001b[0m\u001b[0m\n",
            "\u001b[0;32m/usr/local/lib/python3.8/dist-packages/tensorflow/python/eager/def_function.py\u001b[0m in \u001b[0;36m__call__\u001b[0;34m(self, *args, **kwds)\u001b[0m\n\u001b[1;32m    913\u001b[0m \u001b[0;34m\u001b[0m\u001b[0m\n\u001b[1;32m    914\u001b[0m       \u001b[0;32mwith\u001b[0m \u001b[0mOptionalXlaContext\u001b[0m\u001b[0;34m(\u001b[0m\u001b[0mself\u001b[0m\u001b[0;34m.\u001b[0m\u001b[0m_jit_compile\u001b[0m\u001b[0;34m)\u001b[0m\u001b[0;34m:\u001b[0m\u001b[0;34m\u001b[0m\u001b[0;34m\u001b[0m\u001b[0m\n\u001b[0;32m--> 915\u001b[0;31m         \u001b[0mresult\u001b[0m \u001b[0;34m=\u001b[0m \u001b[0mself\u001b[0m\u001b[0;34m.\u001b[0m\u001b[0m_call\u001b[0m\u001b[0;34m(\u001b[0m\u001b[0;34m*\u001b[0m\u001b[0margs\u001b[0m\u001b[0;34m,\u001b[0m \u001b[0;34m**\u001b[0m\u001b[0mkwds\u001b[0m\u001b[0;34m)\u001b[0m\u001b[0;34m\u001b[0m\u001b[0;34m\u001b[0m\u001b[0m\n\u001b[0m\u001b[1;32m    916\u001b[0m \u001b[0;34m\u001b[0m\u001b[0m\n\u001b[1;32m    917\u001b[0m       \u001b[0mnew_tracing_count\u001b[0m \u001b[0;34m=\u001b[0m \u001b[0mself\u001b[0m\u001b[0;34m.\u001b[0m\u001b[0mexperimental_get_tracing_count\u001b[0m\u001b[0;34m(\u001b[0m\u001b[0;34m)\u001b[0m\u001b[0;34m\u001b[0m\u001b[0;34m\u001b[0m\u001b[0m\n",
            "\u001b[0;32m/usr/local/lib/python3.8/dist-packages/tensorflow/python/eager/def_function.py\u001b[0m in \u001b[0;36m_call\u001b[0;34m(self, *args, **kwds)\u001b[0m\n\u001b[1;32m    945\u001b[0m       \u001b[0;31m# In this case we have created variables on the first call, so we run the\u001b[0m\u001b[0;34m\u001b[0m\u001b[0;34m\u001b[0m\u001b[0;34m\u001b[0m\u001b[0m\n\u001b[1;32m    946\u001b[0m       \u001b[0;31m# defunned version which is guaranteed to never create variables.\u001b[0m\u001b[0;34m\u001b[0m\u001b[0;34m\u001b[0m\u001b[0;34m\u001b[0m\u001b[0m\n\u001b[0;32m--> 947\u001b[0;31m       \u001b[0;32mreturn\u001b[0m \u001b[0mself\u001b[0m\u001b[0;34m.\u001b[0m\u001b[0m_stateless_fn\u001b[0m\u001b[0;34m(\u001b[0m\u001b[0;34m*\u001b[0m\u001b[0margs\u001b[0m\u001b[0;34m,\u001b[0m \u001b[0;34m**\u001b[0m\u001b[0mkwds\u001b[0m\u001b[0;34m)\u001b[0m  \u001b[0;31m# pylint: disable=not-callable\u001b[0m\u001b[0;34m\u001b[0m\u001b[0;34m\u001b[0m\u001b[0m\n\u001b[0m\u001b[1;32m    948\u001b[0m     \u001b[0;32melif\u001b[0m \u001b[0mself\u001b[0m\u001b[0;34m.\u001b[0m\u001b[0m_stateful_fn\u001b[0m \u001b[0;32mis\u001b[0m \u001b[0;32mnot\u001b[0m \u001b[0;32mNone\u001b[0m\u001b[0;34m:\u001b[0m\u001b[0;34m\u001b[0m\u001b[0;34m\u001b[0m\u001b[0m\n\u001b[1;32m    949\u001b[0m       \u001b[0;31m# Release the lock early so that multiple threads can perform the call\u001b[0m\u001b[0;34m\u001b[0m\u001b[0;34m\u001b[0m\u001b[0;34m\u001b[0m\u001b[0m\n",
            "\u001b[0;32m/usr/local/lib/python3.8/dist-packages/tensorflow/python/eager/function.py\u001b[0m in \u001b[0;36m__call__\u001b[0;34m(self, *args, **kwargs)\u001b[0m\n\u001b[1;32m   2451\u001b[0m       (graph_function,\n\u001b[1;32m   2452\u001b[0m        filtered_flat_args) = self._maybe_define_function(args, kwargs)\n\u001b[0;32m-> 2453\u001b[0;31m     return graph_function._call_flat(\n\u001b[0m\u001b[1;32m   2454\u001b[0m         filtered_flat_args, captured_inputs=graph_function.captured_inputs)  # pylint: disable=protected-access\n\u001b[1;32m   2455\u001b[0m \u001b[0;34m\u001b[0m\u001b[0m\n",
            "\u001b[0;32m/usr/local/lib/python3.8/dist-packages/tensorflow/python/eager/function.py\u001b[0m in \u001b[0;36m_call_flat\u001b[0;34m(self, args, captured_inputs, cancellation_manager)\u001b[0m\n\u001b[1;32m   1858\u001b[0m         and executing_eagerly):\n\u001b[1;32m   1859\u001b[0m       \u001b[0;31m# No tape is watching; skip to running the function.\u001b[0m\u001b[0;34m\u001b[0m\u001b[0;34m\u001b[0m\u001b[0;34m\u001b[0m\u001b[0m\n\u001b[0;32m-> 1860\u001b[0;31m       return self._build_call_outputs(self._inference_function.call(\n\u001b[0m\u001b[1;32m   1861\u001b[0m           ctx, args, cancellation_manager=cancellation_manager))\n\u001b[1;32m   1862\u001b[0m     forward_backward = self._select_forward_and_backward_functions(\n",
            "\u001b[0;32m/usr/local/lib/python3.8/dist-packages/tensorflow/python/eager/function.py\u001b[0m in \u001b[0;36mcall\u001b[0;34m(self, ctx, args, cancellation_manager)\u001b[0m\n\u001b[1;32m    495\u001b[0m       \u001b[0;32mwith\u001b[0m \u001b[0m_InterpolateFunctionError\u001b[0m\u001b[0;34m(\u001b[0m\u001b[0mself\u001b[0m\u001b[0;34m)\u001b[0m\u001b[0;34m:\u001b[0m\u001b[0;34m\u001b[0m\u001b[0;34m\u001b[0m\u001b[0m\n\u001b[1;32m    496\u001b[0m         \u001b[0;32mif\u001b[0m \u001b[0mcancellation_manager\u001b[0m \u001b[0;32mis\u001b[0m \u001b[0;32mNone\u001b[0m\u001b[0;34m:\u001b[0m\u001b[0;34m\u001b[0m\u001b[0;34m\u001b[0m\u001b[0m\n\u001b[0;32m--> 497\u001b[0;31m           outputs = execute.execute(\n\u001b[0m\u001b[1;32m    498\u001b[0m               \u001b[0mstr\u001b[0m\u001b[0;34m(\u001b[0m\u001b[0mself\u001b[0m\u001b[0;34m.\u001b[0m\u001b[0msignature\u001b[0m\u001b[0;34m.\u001b[0m\u001b[0mname\u001b[0m\u001b[0;34m)\u001b[0m\u001b[0;34m,\u001b[0m\u001b[0;34m\u001b[0m\u001b[0;34m\u001b[0m\u001b[0m\n\u001b[1;32m    499\u001b[0m               \u001b[0mnum_outputs\u001b[0m\u001b[0;34m=\u001b[0m\u001b[0mself\u001b[0m\u001b[0;34m.\u001b[0m\u001b[0m_num_outputs\u001b[0m\u001b[0;34m,\u001b[0m\u001b[0;34m\u001b[0m\u001b[0;34m\u001b[0m\u001b[0m\n",
            "\u001b[0;32m/usr/local/lib/python3.8/dist-packages/tensorflow/python/eager/execute.py\u001b[0m in \u001b[0;36mquick_execute\u001b[0;34m(op_name, num_outputs, inputs, attrs, ctx, name)\u001b[0m\n\u001b[1;32m     52\u001b[0m   \u001b[0;32mtry\u001b[0m\u001b[0;34m:\u001b[0m\u001b[0;34m\u001b[0m\u001b[0;34m\u001b[0m\u001b[0m\n\u001b[1;32m     53\u001b[0m     \u001b[0mctx\u001b[0m\u001b[0;34m.\u001b[0m\u001b[0mensure_initialized\u001b[0m\u001b[0;34m(\u001b[0m\u001b[0;34m)\u001b[0m\u001b[0;34m\u001b[0m\u001b[0;34m\u001b[0m\u001b[0m\n\u001b[0;32m---> 54\u001b[0;31m     tensors = pywrap_tfe.TFE_Py_Execute(ctx._handle, device_name, op_name,\n\u001b[0m\u001b[1;32m     55\u001b[0m                                         inputs, attrs, num_outputs)\n\u001b[1;32m     56\u001b[0m   \u001b[0;32mexcept\u001b[0m \u001b[0mcore\u001b[0m\u001b[0;34m.\u001b[0m\u001b[0m_NotOkStatusException\u001b[0m \u001b[0;32mas\u001b[0m \u001b[0me\u001b[0m\u001b[0;34m:\u001b[0m\u001b[0;34m\u001b[0m\u001b[0;34m\u001b[0m\u001b[0m\n",
            "\u001b[0;31mKeyboardInterrupt\u001b[0m: "
          ]
        }
      ]
    },
    {
      "cell_type": "code",
      "source": [
        "del(x_set)\n",
        "del(y_set)"
      ],
      "metadata": {
        "id": "ShA9bixxdTZm"
      },
      "execution_count": 6,
      "outputs": []
    },
    {
      "cell_type": "code",
      "source": [
        "#del(x_set)\n",
        "#del(y_set)\n",
        "\n",
        "train_dir = \"/content/drive/MyDrive/ai/dog/test\"\n",
        "\n",
        "Mu01_t_x = train_dir + '/' + 'Mu05_x_data_val_1000.npy'\n",
        "Mu01_t_y = train_dir + '/' + 'Mu05_y_data_val_1000.npy'\n",
        "\n",
        "x_test = np.load(Mu01_t_x)\n",
        "\n",
        "y_test = np.load(Mu01_t_y)"
      ],
      "metadata": {
        "id": "LfU-RP7nwI82"
      },
      "execution_count": 7,
      "outputs": []
    },
    {
      "cell_type": "code",
      "source": [
        "from sklearn.metrics import confusion_matrix\n",
        "import seaborn as sns\n",
        "import matplotlib.pyplot as plt\n",
        "\n",
        "\n",
        "# Evaluate the model on the validation data\n",
        "y_pred = model.predict(x_test)\n",
        "\n",
        "y_pred_discrete = np.round(y_pred)\n",
        "# Calculate the confusion matrix\n",
        "conf_mat = confusion_matrix(y_test, y_pred_discrete)  # y_val이 ground truth\n",
        "\n",
        "# Normalize the confusion matrix to get the ratios\n",
        "conf_mat_norm = conf_mat / conf_mat.sum(axis=1, keepdims=True)\n",
        "\n",
        "# Plot the normalized confusion matrix using Seaborn\n",
        "sns.heatmap(conf_mat_norm, annot=True, fmt='.2f', cmap='Reds', cbar=False)\n",
        "plt.xlabel('Predicted Label')\n",
        "plt.ylabel('True Label')\n",
        "plt.title('Confusion Matrix')\n",
        "plt.show()"
      ],
      "metadata": {
        "colab": {
          "base_uri": "https://localhost:8080/",
          "height": 313
        },
        "id": "K0Cp3q9sC_vW",
        "outputId": "336bed8a-5a80-45f7-bf84-c001590735db"
      },
      "execution_count": 9,
      "outputs": [
        {
          "output_type": "stream",
          "name": "stdout",
          "text": [
            "78/78 [==============================] - 4s 55ms/step\n"
          ]
        },
        {
          "output_type": "display_data",
          "data": {
            "text/plain": [
              "<Figure size 432x288 with 1 Axes>"
            ],
            "image/png": "[encoded data removed]"
          },
          "metadata": {
            "needs_background": "light"
          }
        }
      ]
    },
    {
      "cell_type": "code",
      "source": [
        "aa=[0, 1, 2, 3]\n",
        "for i in range(4):\n",
        "  \n",
        "  if aa[i]==1:\n",
        "    continue\n",
        "  print(i)\n",
        "  \n",
        "  if aa[0]==0:\n",
        "    print('sss')\n",
        "    "
      ],
      "metadata": {
        "colab": {
          "base_uri": "https://localhost:8080/"
        },
        "id": "FZShpBNspQFD",
        "outputId": "3941be63-1211-42da-d1eb-25c0f9ce0243"
      },
      "execution_count": null,
      "outputs": [
        {
          "output_type": "stream",
          "name": "stdout",
          "text": [
            "0\n",
            "sss\n",
            "2\n",
            "sss\n",
            "3\n",
            "sss\n"
          ]
        }
      ]
    },
    {
      "cell_type": "code",
      "source": [
        "from sklearn.metrics import classification_report\n",
        "matrix = classification_report(y_test,y_pred_discrete )\n",
        "print(matrix)"
      ],
      "metadata": {
        "id": "atwkX_rafT4x"
      },
      "execution_count": null,
      "outputs": []
    },
    {
      "cell_type": "code",
      "source": [
        "import random\n",
        "drop_t = [2,3,4, 6, 8]\n",
        "try_1 = [[1], [2],[5],[7],[15],[26],[37],[48],[59]]\n",
        "#remo = sorted(random.sample(try_1,5))\n",
        "y_d = [1, 2, 3, 4, 5, 6, 7, 8, 9, 0]\n",
        "\n",
        "for i in range(len(drop_t)):\n",
        "    #aa= (drop_t[-i-1])\n",
        "    #try_1[aa].clear()\n",
        "    del try_1[drop_t[-i-1]]\n",
        "    del y_d[drop_t[-i-1]]\n",
        "    \n",
        "    #del try_1[remo[-i-1]]\n",
        "\n",
        "print(try_1)\n",
        "print(y_d)"
      ],
      "metadata": {
        "colab": {
          "base_uri": "https://localhost:8080/"
        },
        "id": "61Jb5unmDvM0",
        "outputId": "c090142a-8eb1-4999-9acb-153e87ed7d2f"
      },
      "execution_count": null,
      "outputs": [
        {
          "output_type": "stream",
          "name": "stdout",
          "text": [
            "[[1], [2], [26], [48]]\n",
            "[1, 2, 6, 8, 0]\n"
          ]
        }
      ]
    },
    {
      "cell_type": "code",
      "source": [
        "# f1 score\n",
        "beta = 2\n",
        "TN = conf_mat_norm[0][0]\n",
        "FP = conf_mat_norm[0][1]\n",
        "FN = conf_mat_norm[1][0]\n",
        "TP = conf_mat_norm[1][1]\n",
        "Precision = TP/(TP+FP)\n",
        "Recall = TP/(TP+FN)\n",
        "\n",
        "print(\"Pricision\", Precision)\n",
        "print('Recall', Recall)\n",
        "print(\"F1\", (1+beta**2)*(Precision*Recall)/((beta**2*Precision)+Recall))"
      ],
      "metadata": {
        "colab": {
          "base_uri": "https://localhost:8080/"
        },
        "id": "IF_B-gWOc4_R",
        "outputId": "73c69260-7e14-4433-ad30-3088c5b5a65e"
      },
      "execution_count": null,
      "outputs": [
        {
          "output_type": "stream",
          "name": "stdout",
          "text": [
            "Pricision 0.9993869609254225\n",
            "Recall 0.21739130434782608\n",
            "F1 0.25772380970710423\n"
          ]
        }
      ]
    },
    {
      "cell_type": "code",
      "source": [
        "#x_train, x_test, y_train, y_test\n",
        "del(x_train)\n",
        "del(x_test)\n",
        "del(y_train)\n",
        "del(y_test)"
      ],
      "metadata": {
        "id": "fyoho7Ncs-iL"
      },
      "execution_count": null,
      "outputs": []
    },
    {
      "cell_type": "code",
      "source": [
        "import matplotlib.pyplot as plt\n",
        "\n",
        "plt.plot(history.history['mae'], label = 'train_mae')\n",
        "plt.plot(history.history['val_mae'], label = 'val_mae')\n",
        "plt.legend()"
      ],
      "metadata": {
        "colab": {
          "base_uri": "https://localhost:8080/",
          "height": 283
        },
        "id": "JO7K8xehdcsl",
        "outputId": "874703ea-067e-4cda-a95e-1eea5f53569c"
      },
      "execution_count": null,
      "outputs": [
        {
          "output_type": "execute_result",
          "data": {
            "text/plain": [
              "<matplotlib.legend.Legend at 0x7f5ea72ba400>"
            ]
          },
          "metadata": {},
          "execution_count": 19
        },
        {
          "output_type": "display_data",
          "data": {
            "text/plain": [
              "<Figure size 432x288 with 1 Axes>"
            ],
            "image/png": "[encoded data removed]"
          },
          "metadata": {
            "needs_background": "light"
          }
        }
      ]
    },
    {
      "cell_type": "code",
      "source": [
        "plt.plot(history.history['loss'], label = 'train_loss')\n",
        "plt.plot(history.history['val_loss'], label = 'val_loss')\n",
        "plt.legend()\n",
        "     "
      ],
      "metadata": {
        "colab": {
          "base_uri": "https://localhost:8080/",
          "height": 283
        },
        "id": "VlV1wNcKdcmI",
        "outputId": "768b5fd6-5a85-4b37-af68-47cac534dbbc"
      },
      "execution_count": null,
      "outputs": [
        {
          "output_type": "execute_result",
          "data": {
            "text/plain": [
              "<matplotlib.legend.Legend at 0x7f5d99fb58b0>"
            ]
          },
          "metadata": {},
          "execution_count": 20
        },
        {
          "output_type": "display_data",
          "data": {
            "text/plain": [
              "<Figure size 432x288 with 1 Axes>"
            ],
            "image/png": "[encoded data removed]"
          },
          "metadata": {
            "needs_background": "light"
          }
        }
      ]
    },
    {
      "cell_type": "code",
      "source": [
        "!mkdir /content/drive/MyDrive/ai/dog/Mu05"
      ],
      "metadata": {
        "id": "cJ5S-Xx_qQZk"
      },
      "execution_count": null,
      "outputs": []
    },
    {
      "cell_type": "code",
      "source": [
        "model.save('/content/drive/MyDrive/ai/dog/Mu05')"
      ],
      "metadata": {
        "colab": {
          "base_uri": "https://localhost:8080/"
        },
        "id": "Pvs5f949pSs0",
        "outputId": "0eb33aba-83fb-435a-89d1-026f33d6d7c6"
      },
      "execution_count": null,
      "outputs": [
        {
          "output_type": "stream",
          "name": "stderr",
          "text": [
            "WARNING:absl:Found untraced functions such as _jit_compiled_convolution_op, _jit_compiled_convolution_op, _jit_compiled_convolution_op, _jit_compiled_convolution_op, _jit_compiled_convolution_op while saving (showing 5 of 81). These functions will not be directly callable after loading.\n"
          ]
        }
      ]
    },
    {
      "cell_type": "markdown",
      "source": [
        "# data 크기 줄이기\n",
        "- 비정상 횟수에 맞게 줄이기\n",
        "- 측면만 사용"
      ],
      "metadata": {
        "id": "gX1cNIh6hUvA"
      }
    },
    {
      "cell_type": "code",
      "source": [
        "# 2시 팀미팅"
      ],
      "metadata": {
        "id": "cuvE3dMEjIGi"
      },
      "execution_count": null,
      "outputs": []
    },
    {
      "cell_type": "markdown",
      "source": [
        "#DenseNet161"
      ],
      "metadata": {
        "id": "syMpJvzy_dTq"
      }
    },
    {
      "cell_type": "code",
      "source": [
        "import os                \n",
        "import torch\n",
        "import torchvision\n",
        "import numpy as np\n",
        "import torch.nn as nn\n",
        "import torch.optim as optim\n",
        "import matplotlib.pyplot as plt\n",
        "import torchvision.models as models\n",
        "import torchvision.transforms as transforms\n",
        " \n",
        "from PIL import Image\n",
        "from pathlib import Path\n",
        "from PIL import ImageFile\n",
        "from torchvision import datasets\n",
        "\n",
        "batch_size = 128\n",
        "IMAGE_SIZE = 224\n",
        " \n",
        "MEANS = [0.485, 0.456, 0.406]\n",
        "DEVIATIONS = [0.229, 0.224, 0.225]"
      ],
      "metadata": {
        "id": "5eVpMxGuAOiu"
      },
      "execution_count": null,
      "outputs": []
    },
    {
      "cell_type": "code",
      "source": [
        "# transforms\n",
        "train_transform = transforms.Compose([transforms.RandomRotation(30), # 이미지를 랜덤으로 30도 각도로 회전\n",
        "                                      transforms.RandomResizedCrop(IMAGE_SIZE, scale=(0.08, 1.0), ratio=(0.75, 1.33)), # 이미지 사이즈 변경\n",
        "                                      transforms.ToTensor(), # 데이터 타입을 Tensor 형태로 변경\n",
        "                                      transforms.Normalize(MEANS, DEVIATIONS) # 데이터 정규화\n",
        "                                      ])\n",
        " \n",
        "test_transform = transforms.Compose([transforms.Resize(IMAGE_SIZE), # IMAGE_SIZE로 이미지 사이즈 변경\n",
        "                                      transforms.CenterCrop(IMAGE_SIZE), # 이미지를 square하게 변경\n",
        "                                      transforms.ToTensor(), # 데이터 타입을 Tensor 형태로 변경\n",
        "                                      transforms.Normalize(MEANS, DEVIATIONS) # 데이터 정규화\n",
        "                                      ])\n",
        " \n",
        "# Image folder\n",
        "training = datasets.ImageFolder(\"./train\", transform=train_transform) # ImageFolder를 사용해 dataset 생성\n",
        "testing = datasets.ImageFolder(\"./test\", transform=test_transform) # ImageFolder를 사용해 dataset 생성\n",
        " \n",
        "# DataLoader\n",
        "train_batches = torch.utils.data.DataLoader(training, batch_size=batch_size, shuffle=True) # train_loader 생성\n",
        "test_batches = torch.utils.data.DataLoader(testing, batch_size=batch_size) # test 데이터는 batch사이즈 맞춰 그대로\n",
        " \n",
        "model_transfer = models.densenet161(pretrained=True).cuda()\n",
        " \n",
        "for param in model_transfer.parameters():\n",
        "  param.requires_grad = False # requires_grad를 사용해 parameter 동결\n",
        " \n",
        "model_transfer.classifier = nn.Linear(model_transfer.classifier.in_features, 20) # 마지막 layer을 BREEDS개의 class로 분류하도록 재정의\n",
        "# 이 때, requires_grad 옵션은 True\n",
        " \n",
        "nn.init.kaiming_normal_(model_transfer.classifier.weight, nonlinearity='relu') # 재정의한 layer의 weight를 initialize\n",
        " \n",
        "print(model_transfer.classifier)\n",
        " \n",
        "use_cuda = torch.cuda.is_available()\n",
        "if use_cuda:\n",
        "    model_transfer = model_transfer.cuda()\n",
        " \n",
        "criterion_transfer = nn.CrossEntropyLoss() \n",
        "optimizer_transfer = optim.Adam(model_transfer.parameters(), lr=0.001, betas=[0.9, 0.999])\n",
        " \n",
        "def train(n_epochs, train_loader, model, optimizer, criterion, use_cuda):  \n",
        "    train_losses = []\n",
        "    train_loss_min = np.Inf\n",
        " \n",
        "    for epoch in range(1, n_epochs+1): # epoch만큼 반복\n",
        "        # traing_loss와 valid_loss를 저장하기 위한 변수 선언\n",
        "        train_loss = 0.0\n",
        " \n",
        "        model.train() # 모델 training \n",
        "        for data, target in train_loader:\n",
        "            if use_cuda:\n",
        "                data, target = data.cuda(), target.cuda() # gpu에서 연산을 수행하기 위해\n",
        " \n",
        "            optimizer.zero_grad() # 모든 model의 gradient 값을 0으로 설정\n",
        "            output = model(data) # 모델을 forward pass해 결과값 저장 \n",
        "            loss = criterion(output, target) # output과 target의 loss 계산\n",
        "            loss.backward() # backward 함수를 호출해 gradient 계산\n",
        "            optimizer.step() # 모델의 학습 파라미터 갱신\n",
        "            train_loss += loss.item() * data.size(0) # loss값을 train에 더함 (나중에 loss의 평균을 구하기 위해 data.size를 곱함)\n",
        "        \n",
        "        train_loss = train_loss/len(train_loader.dataset) # 전체 train loader의 크기로 나눔\n",
        "        train_losses.append(train_loss) # 결과를 plot할때 사용하기 위해 list에 값을 append\n",
        "        \n",
        "        print('Epoch: {} \\tTraining Loss: {:.6f}'.format(\n",
        "            epoch, train_loss))     \n",
        "        \n",
        "        if train_loss <= train_loss_min: # 더 좋은 결과가 나온 경우\n",
        "            print('Train loss decreased {:.6f} --> {:.6f}. Saving model ...'.format(train_loss_min, train_loss))\n",
        "            torch.save(model.state_dict(), 'model_transfer.pth')\n",
        "            train_loss_min = train_loss # 최저 loss를 갱신함\n",
        "        \n",
        "    return model, train_losses\n",
        " \n",
        "epochs = 300\n",
        " \n",
        "model_transfer, train_losses = train(epochs, train_batches, model_transfer, optimizer_transfer, criterion_transfer, use_cuda)\n",
        " \n",
        "model_transfer.load_state_dict((torch.load('model_transfer.pth'))) # test결과가 가장 좋았던 model을 불러와 저장\n",
        " \n",
        "# loss값 그래프 출력\n",
        "plt.plot(train_losses, label=\"Training loss\")\n",
        "plt.legend(frameon=False)\n",
        "plt.grid(True)\n",
        " \n",
        "def test(test_loader, model, criterion, use_cuda):\n",
        "    class_correct = 0.\n",
        "    class_total = 0.\n",
        "    test_loss = 0.\n",
        " \n",
        "    model.eval()\n",
        "    for data, target in test_loader:\n",
        "        if use_cuda:\n",
        "          data, target = data.cuda(), target.cuda()\n",
        "        output = model(data)  # 모델을 forward pass해 결과값 저장 \n",
        "        loss = criterion(output, target) # output과 target의 loss 계산\n",
        "        test_loss += loss.item() * data.size(0) # loss값을 test_loss에 더함 \n",
        "        _, pred = torch.max(output, 1) # 출력이 분류 각각에 대한 값으로 나타나기 때문에, 가장 높은 값을 갖는 인덱스를 추출\n",
        "        correct_tensor = pred.eq(target.data.view_as(pred)) # pred.eq를 사용해서 예측값과 실제값이 같은지 비교\n",
        "         # gpu tensor는 numpy로 계산할 수 없기 때문에, 조건문을 사용해 cpu에서 계산되도록 함\n",
        "        class_correct += np.sum(np.squeeze(correct_tensor.numpy())) if not use_cuda else np.sum(np.squeeze(correct_tensor.cpu().numpy()))\n",
        "        class_total += data.size(0) # 전체 클래스 개수 \n",
        " \n",
        "    test_loss = test_loss/len(test_loader.dataset) # test loss의 평균 계산\n",
        " \n",
        "    # 결과 출력\n",
        "    print('Test Loss: {:.6f}\\n'.format(test_loss))\n",
        "    print('\\nTest Accuracy: %2d%% (%2d/%2d)' % (\n",
        "        100. * class_correct / class_total, class_correct, class_total))\n",
        " \n",
        "test(test_batches, model_transfer, criterion_transfer, use_cuda) # test메소드 사용\n",
        " \n",
        "class_names = [item[0:].replace(\"_\", \" \") for item in train_batches.dataset.classes] # class 목록 list를 저장\n",
        " \n",
        "train_batches.dataset.classes[:6] # class 목록 출력\n",
        " \n",
        "def image_loader(img_path, transform, use_cuda):\n",
        "    image = Image.open(img_path).convert('RGB')\n",
        "    img = transform(image)[:3,:,:].unsqueeze(0)\n",
        "    if use_cuda:\n",
        "        img = img.cuda()\n",
        "    return img\n",
        " \n",
        "def predict_food_transfer(model, class_names, img_path):\n",
        "    logit = model_transfer(image_loader(img_path, test_transform, True))\n",
        "    idx = torch.max(logit,1)[1].item()\n",
        " \n",
        "    return class_names[idx]\n",
        " \n",
        "dirs = os.listdir('myimg')\n",
        " \n",
        "for img_file in dirs:\n",
        "    img_path = os.path.join('myimg', img_file)\n",
        "    predition = predict_food_transfer(model_transfer, class_names, img_path)    \n",
        "    print(\"image_file_name = {0}, \\t predition food: {1}\" .format(img_path, predition))\n",
        "    img = Image.open(img_path).convert(\"RGB\")\n",
        "    plt.imshow(img)\n",
        "    plt.show()\n"
      ],
      "metadata": {
        "id": "ukGXUMTp_f-H"
      },
      "execution_count": null,
      "outputs": []
    }
  ],
  "metadata": {
    "colab": {
      "provenance": [],
      "authorship_tag": "ABX9TyPUz8AF8QiCNuNHFSnxtzBq",
      "include_colab_link": true
    },
    "kernelspec": {
      "display_name": "Python 3",
      "name": "python3"
    },
    "language_info": {
      "name": "python"
    },
    "accelerator": "GPU",
    "gpuClass": "standard"
  },
  "nbformat": 4,
  "nbformat_minor": 0
}