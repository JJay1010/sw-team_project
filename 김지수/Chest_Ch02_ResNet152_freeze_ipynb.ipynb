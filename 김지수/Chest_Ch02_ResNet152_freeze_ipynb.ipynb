{
  "nbformat": 4,
  "nbformat_minor": 0,
  "metadata": {
    "colab": {
      "provenance": [],
      "machine_shape": "hm",
      "include_colab_link": true
    },
    "kernelspec": {
      "name": "python3",
      "display_name": "Python 3"
    },
    "language_info": {
      "name": "python"
    },
    "accelerator": "GPU",
    "gpuClass": "standard"
  },
  "cells": [
    {
      "cell_type": "markdown",
      "metadata": {
        "id": "view-in-github",
        "colab_type": "text"
      },
      "source": [
        "<a href=\"https://colab.research.google.com/github/JJay1010/sw-team_project/blob/main/%EA%B9%80%EC%A7%80%EC%88%98/Chest_Ch02_ResNet152_freeze_ipynb.ipynb\" target=\"_parent\"><img src=\"https://colab.research.google.com/assets/colab-badge.svg\" alt=\"Open In Colab\"/></a>"
      ]
    },
    {
      "cell_type": "code",
      "source": [
        "from google.colab import drive\n",
        "drive.mount('/content/drive')"
      ],
      "metadata": {
        "colab": {
          "base_uri": "https://localhost:8080/"
        },
        "id": "hs9c32dow4ik",
        "outputId": "fdea225d-c214-45c6-b9e7-6fb52fc4b80a"
      },
      "execution_count": null,
      "outputs": [
        {
          "output_type": "stream",
          "name": "stdout",
          "text": [
            "Drive already mounted at /content/drive; to attempt to forcibly remount, call drive.mount(\"/content/drive\", force_remount=True).\n"
          ]
        }
      ]
    },
    {
      "cell_type": "code",
      "source": [
        "import numpy as np\n",
        "\n",
        "x_train = np.load('/content/drive/MyDrive/팀 프로젝트/흉부_xray/Ch02_x_train_augmented.npy')\n",
        "y_train = np.load('/content/drive/MyDrive/팀 프로젝트/흉부_xray/Ch02_y_train_augmented.npy')\n",
        "x_data = np.load('/content/drive/MyDrive/팀 프로젝트/흉부_xray/Ch02_x.npy')\n",
        "y_data = np.load('/content/drive/MyDrive/팀 프로젝트/흉부_xray/Ch02_y.npy')"
      ],
      "metadata": {
        "id": "S9NDiV-Qu-Ks"
      },
      "execution_count": null,
      "outputs": []
    },
    {
      "cell_type": "code",
      "source": [
        "ratio = 1 - np.count_nonzero(y_data)/y_data.shape[0]\n",
        "print(ratio)"
      ],
      "metadata": {
        "id": "ns28UGAhhKEp",
        "colab": {
          "base_uri": "https://localhost:8080/"
        },
        "outputId": "a0fee490-8d51-4efd-938c-460f65261e6b"
      },
      "execution_count": null,
      "outputs": [
        {
          "output_type": "stream",
          "name": "stdout",
          "text": [
            "0.831916702082448\n"
          ]
        }
      ]
    },
    {
      "cell_type": "code",
      "source": [
        "# train/test 8:2 나누기\n",
        "\n",
        "from sklearn.model_selection import train_test_split\n",
        "\n",
        "# x_train, x_test,y_train, y_test = train_test_split(x_data, y_data, test_size = 0.1, random_state=123)\n",
        "_, x_test,_, y_test = train_test_split(x_data, y_data, test_size = 0.1, random_state=123)\n",
        "# x_test, x_valid, y_test, y_valid = train_test_split(x_temp, y_temp, test_size = 0.5, random_state=42)\n",
        "del x_data\n",
        "del y_data"
      ],
      "metadata": {
        "id": "36cI59QSu_5m"
      },
      "execution_count": null,
      "outputs": []
    },
    {
      "cell_type": "code",
      "source": [
        "# import imgaug.augmenters as iaa\n",
        "# seq = iaa.Sequential([\n",
        "#     iaa.Fliplr(0.5), # horizontally flip 50% of the images\n",
        "#     iaa.Affine(rotate=(-45, 45)), # rotate images between -45 and 45 degrees\n",
        "#     iaa.AdditiveGaussianNoise(scale=(0, 0.05*255)), # add gaussian noise with a scale between 0 and 0.05 times the maximum pixel value\n",
        "#     iaa.SaltAndPepper(0.05) # add 5% of salt and pepper noise\n",
        "# ])\n",
        "# x_train_aug = seq.augment_images(x_train)\n",
        "# x_train_augmented = np.concatenate((x_train, x_train_aug))\n",
        "# y_train_augmented = np.concatenate((y_train, y_train))"
      ],
      "metadata": {
        "id": "UcFeOJ99DFYL"
      },
      "execution_count": null,
      "outputs": []
    },
    {
      "cell_type": "code",
      "source": [
        "import tensorflow as tf\n",
        "\n",
        "saved_model = '/content/drive/MyDrive/팀 프로젝트/흉부_xray/Ch01_ResNet152_aug_freeze.h5'\n",
        "es = tf.keras.callbacks.EarlyStopping(monitor='val_loss', mode='min', verbose=1, patience=20,restore_best_weights=True)\n",
        "mc = tf.keras.callbacks.ModelCheckpoint(saved_model, monitor='val_accuracy', mode='max', verbose=1, save_best_only=True)"
      ],
      "metadata": {
        "id": "z9_YlBnn015g"
      },
      "execution_count": null,
      "outputs": []
    },
    {
      "cell_type": "code",
      "source": [
        "\n",
        "\n",
        "# Load the ResNet50 model without the top layers (include_top=False)\n",
        "model = tf.keras.applications.ResNet152(weights='imagenet', include_top=False, input_shape=(224,224,3))\n",
        "\n",
        "# Freeze the layers of the ResNet50 model\n",
        "for layer in model.layers:\n",
        "    layer.trainable = False\n",
        "\n",
        "# Add the new top layers to the ResNet50 model\n",
        "x = model.output\n",
        "x = tf.keras.layers.GlobalAveragePooling2D()(x)\n",
        "x = tf.keras.layers.Dense(1024, activation='relu')(x)\n",
        "x = tf.keras.layers.Dense(512, activation='relu')(x)\n",
        "predictions = tf.keras.layers.Dense(1, activation='sigmoid')(x)\n",
        "\n",
        "# Build the final model\n",
        "final_model = tf.keras.Model(inputs=model.input, outputs=predictions)\n",
        "\n",
        "# Compile the model\n",
        "custom_adam = tf.keras.optimizers.Adam(learning_rate=0.0001)\n",
        "\n",
        "#fine tuning fit \n",
        "# metric, loss 를 binary에 맞게 바꿔주자.\n",
        "final_model.compile(optimizer=custom_adam, loss='binary_crossentropy', metrics=['accuracy'])\n",
        "\n",
        "# Train the model\n",
        "history = final_model.fit(x_train, y_train, validation_data = (x_test, y_test), callbacks=[es, mc], epochs = 1000, batch_size = 128)\n"
      ],
      "metadata": {
        "colab": {
          "base_uri": "https://localhost:8080/"
        },
        "id": "7CGojOHOUMkb",
        "outputId": "773ddec2-65d6-43bd-ac2c-046045cb8551"
      },
      "execution_count": 14,
      "outputs": [
        {
          "output_type": "stream",
          "name": "stdout",
          "text": [
            "Downloading data from https://storage.googleapis.com/tensorflow/keras-applications/resnet/resnet152_weights_tf_dim_ordering_tf_kernels_notop.h5\n",
            "234698864/234698864 [==============================] - 11s 0us/step\n",
            "Epoch 1/1000\n",
            "133/133 [==============================] - ETA: 0s - loss: 0.4043 - accuracy: 0.8414\n",
            "Epoch 1: val_accuracy improved from -inf to 0.87261, saving model to /content/drive/MyDrive/팀 프로젝트/흉부_xray/Ch01_ResNet152_aug_freeze.h5\n",
            "133/133 [==============================] - 163s 1s/step - loss: 0.4043 - accuracy: 0.8414 - val_loss: 0.3305 - val_accuracy: 0.8726\n",
            "Epoch 2/1000\n",
            "133/133 [==============================] - ETA: 0s - loss: 0.3402 - accuracy: 0.8653\n",
            "Epoch 2: val_accuracy improved from 0.87261 to 0.88004, saving model to /content/drive/MyDrive/팀 프로젝트/흉부_xray/Ch01_ResNet152_aug_freeze.h5\n",
            "133/133 [==============================] - 140s 1s/step - loss: 0.3402 - accuracy: 0.8653 - val_loss: 0.3115 - val_accuracy: 0.8800\n",
            "Epoch 3/1000\n",
            "133/133 [==============================] - ETA: 0s - loss: 0.3244 - accuracy: 0.8718\n",
            "Epoch 3: val_accuracy improved from 0.88004 to 0.88535, saving model to /content/drive/MyDrive/팀 프로젝트/흉부_xray/Ch01_ResNet152_aug_freeze.h5\n",
            "133/133 [==============================] - 139s 1s/step - loss: 0.3244 - accuracy: 0.8718 - val_loss: 0.2938 - val_accuracy: 0.8854\n",
            "Epoch 4/1000\n",
            "133/133 [==============================] - ETA: 0s - loss: 0.2963 - accuracy: 0.8844\n",
            "Epoch 4: val_accuracy improved from 0.88535 to 0.88747, saving model to /content/drive/MyDrive/팀 프로젝트/흉부_xray/Ch01_ResNet152_aug_freeze.h5\n",
            "133/133 [==============================] - 139s 1s/step - loss: 0.2963 - accuracy: 0.8844 - val_loss: 0.2890 - val_accuracy: 0.8875\n",
            "Epoch 5/1000\n",
            "133/133 [==============================] - ETA: 0s - loss: 0.2729 - accuracy: 0.8951\n",
            "Epoch 5: val_accuracy improved from 0.88747 to 0.89915, saving model to /content/drive/MyDrive/팀 프로젝트/흉부_xray/Ch01_ResNet152_aug_freeze.h5\n",
            "133/133 [==============================] - 140s 1s/step - loss: 0.2729 - accuracy: 0.8951 - val_loss: 0.2621 - val_accuracy: 0.8992\n",
            "Epoch 6/1000\n",
            "133/133 [==============================] - ETA: 0s - loss: 0.2633 - accuracy: 0.8972\n",
            "Epoch 6: val_accuracy did not improve from 0.89915\n",
            "133/133 [==============================] - 135s 1s/step - loss: 0.2633 - accuracy: 0.8972 - val_loss: 0.2602 - val_accuracy: 0.8981\n",
            "Epoch 7/1000\n",
            "133/133 [==============================] - ETA: 0s - loss: 0.2458 - accuracy: 0.9052\n",
            "Epoch 7: val_accuracy improved from 0.89915 to 0.90764, saving model to /content/drive/MyDrive/팀 프로젝트/흉부_xray/Ch01_ResNet152_aug_freeze.h5\n",
            "133/133 [==============================] - 139s 1s/step - loss: 0.2458 - accuracy: 0.9052 - val_loss: 0.2461 - val_accuracy: 0.9076\n",
            "Epoch 8/1000\n",
            "133/133 [==============================] - ETA: 0s - loss: 0.2302 - accuracy: 0.9114\n",
            "Epoch 8: val_accuracy did not improve from 0.90764\n",
            "133/133 [==============================] - 135s 1s/step - loss: 0.2302 - accuracy: 0.9114 - val_loss: 0.2429 - val_accuracy: 0.9076\n",
            "Epoch 9/1000\n",
            "133/133 [==============================] - ETA: 0s - loss: 0.2085 - accuracy: 0.9199\n",
            "Epoch 9: val_accuracy did not improve from 0.90764\n",
            "133/133 [==============================] - 135s 1s/step - loss: 0.2085 - accuracy: 0.9199 - val_loss: 0.2736 - val_accuracy: 0.8854\n",
            "Epoch 10/1000\n",
            "133/133 [==============================] - ETA: 0s - loss: 0.1984 - accuracy: 0.9240\n",
            "Epoch 10: val_accuracy did not improve from 0.90764\n",
            "133/133 [==============================] - 135s 1s/step - loss: 0.1984 - accuracy: 0.9240 - val_loss: 0.2568 - val_accuracy: 0.9066\n",
            "Epoch 11/1000\n",
            "133/133 [==============================] - ETA: 0s - loss: 0.1829 - accuracy: 0.9316\n",
            "Epoch 11: val_accuracy did not improve from 0.90764\n",
            "133/133 [==============================] - 135s 1s/step - loss: 0.1829 - accuracy: 0.9316 - val_loss: 0.2550 - val_accuracy: 0.9055\n",
            "Epoch 12/1000\n",
            "133/133 [==============================] - ETA: 0s - loss: 0.1637 - accuracy: 0.9387\n",
            "Epoch 12: val_accuracy improved from 0.90764 to 0.91083, saving model to /content/drive/MyDrive/팀 프로젝트/흉부_xray/Ch01_ResNet152_aug_freeze.h5\n",
            "133/133 [==============================] - 139s 1s/step - loss: 0.1637 - accuracy: 0.9387 - val_loss: 0.2405 - val_accuracy: 0.9108\n",
            "Epoch 13/1000\n",
            "133/133 [==============================] - ETA: 0s - loss: 0.1490 - accuracy: 0.9452\n",
            "Epoch 13: val_accuracy did not improve from 0.91083\n",
            "133/133 [==============================] - 135s 1s/step - loss: 0.1490 - accuracy: 0.9452 - val_loss: 0.4134 - val_accuracy: 0.8917\n",
            "Epoch 14/1000\n",
            "133/133 [==============================] - ETA: 0s - loss: 0.1472 - accuracy: 0.9446\n",
            "Epoch 14: val_accuracy improved from 0.91083 to 0.92781, saving model to /content/drive/MyDrive/팀 프로젝트/흉부_xray/Ch01_ResNet152_aug_freeze.h5\n",
            "133/133 [==============================] - 141s 1s/step - loss: 0.1472 - accuracy: 0.9446 - val_loss: 0.2329 - val_accuracy: 0.9278\n",
            "Epoch 15/1000\n",
            "133/133 [==============================] - ETA: 0s - loss: 0.1265 - accuracy: 0.9537\n",
            "Epoch 15: val_accuracy did not improve from 0.92781\n",
            "133/133 [==============================] - 135s 1s/step - loss: 0.1265 - accuracy: 0.9537 - val_loss: 0.2467 - val_accuracy: 0.9225\n",
            "Epoch 16/1000\n",
            "133/133 [==============================] - ETA: 0s - loss: 0.1105 - accuracy: 0.9620\n",
            "Epoch 16: val_accuracy did not improve from 0.92781\n",
            "133/133 [==============================] - 135s 1s/step - loss: 0.1105 - accuracy: 0.9620 - val_loss: 0.2621 - val_accuracy: 0.9225\n",
            "Epoch 17/1000\n",
            "133/133 [==============================] - ETA: 0s - loss: 0.0976 - accuracy: 0.9663\n",
            "Epoch 17: val_accuracy did not improve from 0.92781\n",
            "133/133 [==============================] - 135s 1s/step - loss: 0.0976 - accuracy: 0.9663 - val_loss: 0.2621 - val_accuracy: 0.9066\n",
            "Epoch 18/1000\n",
            "133/133 [==============================] - ETA: 0s - loss: 0.0939 - accuracy: 0.9677\n",
            "Epoch 18: val_accuracy did not improve from 0.92781\n",
            "133/133 [==============================] - 136s 1s/step - loss: 0.0939 - accuracy: 0.9677 - val_loss: 0.3829 - val_accuracy: 0.9034\n",
            "Epoch 19/1000\n",
            "133/133 [==============================] - ETA: 0s - loss: 0.0872 - accuracy: 0.9702\n",
            "Epoch 19: val_accuracy did not improve from 0.92781\n",
            "133/133 [==============================] - 135s 1s/step - loss: 0.0872 - accuracy: 0.9702 - val_loss: 0.3471 - val_accuracy: 0.9172\n",
            "Epoch 20/1000\n",
            "133/133 [==============================] - ETA: 0s - loss: 0.0763 - accuracy: 0.9737\n",
            "Epoch 20: val_accuracy did not improve from 0.92781\n",
            "133/133 [==============================] - 135s 1s/step - loss: 0.0763 - accuracy: 0.9737 - val_loss: 0.2589 - val_accuracy: 0.9204\n",
            "Epoch 21/1000\n",
            "133/133 [==============================] - ETA: 0s - loss: 0.0629 - accuracy: 0.9802\n",
            "Epoch 21: val_accuracy did not improve from 0.92781\n",
            "133/133 [==============================] - 136s 1s/step - loss: 0.0629 - accuracy: 0.9802 - val_loss: 0.2870 - val_accuracy: 0.9151\n",
            "Epoch 22/1000\n",
            "133/133 [==============================] - ETA: 0s - loss: 0.0643 - accuracy: 0.9787\n",
            "Epoch 22: val_accuracy did not improve from 0.92781\n",
            "133/133 [==============================] - 135s 1s/step - loss: 0.0643 - accuracy: 0.9787 - val_loss: 0.2867 - val_accuracy: 0.9151\n",
            "Epoch 23/1000\n",
            "133/133 [==============================] - ETA: 0s - loss: 0.0490 - accuracy: 0.9860\n",
            "Epoch 23: val_accuracy did not improve from 0.92781\n",
            "133/133 [==============================] - 135s 1s/step - loss: 0.0490 - accuracy: 0.9860 - val_loss: 0.3082 - val_accuracy: 0.9119\n",
            "Epoch 24/1000\n",
            "133/133 [==============================] - ETA: 0s - loss: 0.0462 - accuracy: 0.9858\n",
            "Epoch 24: val_accuracy did not improve from 0.92781\n",
            "133/133 [==============================] - 135s 1s/step - loss: 0.0462 - accuracy: 0.9858 - val_loss: 0.3142 - val_accuracy: 0.9172\n",
            "Epoch 25/1000\n",
            "133/133 [==============================] - ETA: 0s - loss: 0.0450 - accuracy: 0.9875\n",
            "Epoch 25: val_accuracy did not improve from 0.92781\n",
            "133/133 [==============================] - 135s 1s/step - loss: 0.0450 - accuracy: 0.9875 - val_loss: 0.4358 - val_accuracy: 0.9119\n",
            "Epoch 26/1000\n",
            "133/133 [==============================] - ETA: 0s - loss: 0.0401 - accuracy: 0.9890\n",
            "Epoch 26: val_accuracy did not improve from 0.92781\n",
            "133/133 [==============================] - 136s 1s/step - loss: 0.0401 - accuracy: 0.9890 - val_loss: 0.4432 - val_accuracy: 0.8631\n",
            "Epoch 27/1000\n",
            "133/133 [==============================] - ETA: 0s - loss: 0.0417 - accuracy: 0.9885\n",
            "Epoch 27: val_accuracy did not improve from 0.92781\n",
            "133/133 [==============================] - 135s 1s/step - loss: 0.0417 - accuracy: 0.9885 - val_loss: 0.4729 - val_accuracy: 0.9108\n",
            "Epoch 28/1000\n",
            "133/133 [==============================] - ETA: 0s - loss: 0.0305 - accuracy: 0.9929\n",
            "Epoch 28: val_accuracy did not improve from 0.92781\n",
            "133/133 [==============================] - 136s 1s/step - loss: 0.0305 - accuracy: 0.9929 - val_loss: 0.3685 - val_accuracy: 0.8960\n",
            "Epoch 29/1000\n",
            "133/133 [==============================] - ETA: 0s - loss: 0.0336 - accuracy: 0.9907\n",
            "Epoch 29: val_accuracy did not improve from 0.92781\n",
            "133/133 [==============================] - 135s 1s/step - loss: 0.0336 - accuracy: 0.9907 - val_loss: 0.3422 - val_accuracy: 0.9119\n",
            "Epoch 30/1000\n",
            "133/133 [==============================] - ETA: 0s - loss: 0.0241 - accuracy: 0.9946\n",
            "Epoch 30: val_accuracy did not improve from 0.92781\n",
            "133/133 [==============================] - 135s 1s/step - loss: 0.0241 - accuracy: 0.9946 - val_loss: 0.3532 - val_accuracy: 0.9055\n",
            "Epoch 31/1000\n",
            "133/133 [==============================] - ETA: 0s - loss: 0.0251 - accuracy: 0.9943\n",
            "Epoch 31: val_accuracy did not improve from 0.92781\n",
            "133/133 [==============================] - 136s 1s/step - loss: 0.0251 - accuracy: 0.9943 - val_loss: 0.4173 - val_accuracy: 0.9108\n",
            "Epoch 32/1000\n",
            "133/133 [==============================] - ETA: 0s - loss: 0.0287 - accuracy: 0.9923\n",
            "Epoch 32: val_accuracy did not improve from 0.92781\n",
            "133/133 [==============================] - 135s 1s/step - loss: 0.0287 - accuracy: 0.9923 - val_loss: 0.3361 - val_accuracy: 0.9161\n",
            "Epoch 33/1000\n",
            "133/133 [==============================] - ETA: 0s - loss: 0.0191 - accuracy: 0.9962\n",
            "Epoch 33: val_accuracy did not improve from 0.92781\n",
            "133/133 [==============================] - 135s 1s/step - loss: 0.0191 - accuracy: 0.9962 - val_loss: 0.3985 - val_accuracy: 0.9140\n",
            "Epoch 34/1000\n",
            "133/133 [==============================] - ETA: 0s - loss: 0.0228 - accuracy: 0.9941Restoring model weights from the end of the best epoch: 14.\n",
            "\n",
            "Epoch 34: val_accuracy did not improve from 0.92781\n",
            "133/133 [==============================] - 136s 1s/step - loss: 0.0228 - accuracy: 0.9941 - val_loss: 0.3876 - val_accuracy: 0.9193\n",
            "Epoch 34: early stopping\n"
          ]
        }
      ]
    },
    {
      "cell_type": "code",
      "source": [
        "# np.save('/content/drive/MyDrive/팀 프로젝트/흉부_xray/Ch02_x_train_augmented.npy',x_train_augmented)\n",
        "# np.save('/content/drive/MyDrive/팀 프로젝트/흉부_xray/Ch02_y_train_augmented.npy',y_train_augmented)\n"
      ],
      "metadata": {
        "id": "IQkFQhObQwfF"
      },
      "execution_count": 15,
      "outputs": []
    },
    {
      "cell_type": "code",
      "source": [
        "import matplotlib.pyplot as plt\n",
        "\n",
        "plt.plot(history.history['accuracy'], label = 'train_accuracy')\n",
        "plt.plot(history.history['val_accuracy'], label = 'val_accuracy')\n",
        "plt.legend()"
      ],
      "metadata": {
        "id": "zPolOyMku2L7",
        "colab": {
          "base_uri": "https://localhost:8080/",
          "height": 282
        },
        "outputId": "31593b11-9d86-410e-80ca-5997f66cce0c"
      },
      "execution_count": 16,
      "outputs": [
        {
          "output_type": "execute_result",
          "data": {
            "text/plain": [
              "<matplotlib.legend.Legend at 0x7fba11a147f0>"
            ]
          },
          "metadata": {},
          "execution_count": 16
        },
        {
          "output_type": "display_data",
          "data": {
            "text/plain": [
              "<Figure size 432x288 with 1 Axes>"
            ],
            "image/png": "[encoded data removed]"
          },
          "metadata": {
            "needs_background": "light"
          }
        }
      ]
    },
    {
      "cell_type": "code",
      "source": [
        "plt.plot(history.history['loss'], label = 'train_loss')\n",
        "plt.plot(history.history['val_loss'], label = 'val_loss')\n",
        "plt.legend()"
      ],
      "metadata": {
        "id": "Asl42mLku4wr"
      },
      "execution_count": null,
      "outputs": []
    },
    {
      "cell_type": "code",
      "source": [],
      "metadata": {
        "id": "uf6C5o2g3SY9"
      },
      "execution_count": 17,
      "outputs": []
    }
  ]
}