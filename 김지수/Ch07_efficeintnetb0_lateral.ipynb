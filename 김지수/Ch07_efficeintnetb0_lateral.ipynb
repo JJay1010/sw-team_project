{
  "cells": [
    {
      "cell_type": "code",
      "execution_count": 1,
      "metadata": {
        "id": "iJJF_uOf2OjH"
      },
      "outputs": [],
      "source": [
        "import glob\n",
        "import tensorflow as tf\n",
        "import numpy as np\n",
        "import matplotlib.pyplot as plt\n",
        "import cv2\n",
        "from sklearn.model_selection import train_test_split\n",
        "import imgaug.augmenters as iaa\n",
        "from tqdm import tqdm\n",
        "from PIL import Image"
      ]
    },
    {
      "cell_type": "code",
      "execution_count": 2,
      "metadata": {
        "id": "MSssgy1KjGdl"
      },
      "outputs": [],
      "source": [
        "x_data = np.load('Ch07_x_lateral.npy')\n",
        "y_data = np.load('Ch07_y_lateral.npy')"
      ]
    },
    {
      "cell_type": "code",
      "execution_count": 3,
      "metadata": {
        "id": "VaZWkVkMDiBT"
      },
      "outputs": [],
      "source": [
        "x_train, x_temp, y_train, y_temp = train_test_split(x_data, y_data, test_size=0.2, stratify = y_data)\n",
        "x_test, x_valid, y_test, y_valid = train_test_split(x_temp, y_temp, test_size =0.5, stratify = y_temp)\n",
        "del x_data\n",
        "del y_data\n",
        "del x_temp\n",
        "del y_temp"
      ]
    },
    {
      "cell_type": "code",
      "execution_count": 4,
      "metadata": {
        "colab": {
          "base_uri": "https://localhost:8080/"
        },
        "id": "DGWDfbMVFHsr",
        "outputId": "baa1d08f-97a8-44d1-b69f-49c00c170c9c"
      },
      "outputs": [
        {
          "data": {
            "text/plain": [
              "(5082, 0.5387642660369933, 0.5385826771653544)"
            ]
          },
          "execution_count": 4,
          "metadata": {},
          "output_type": "execute_result"
        }
      ],
      "source": [
        "x_train.shape[0], np.count_nonzero(y_train)/y_train.shape[0], np.count_nonzero(y_test)/y_test.shape[0]"
      ]
    },
    {
      "cell_type": "code",
      "execution_count": 5,
      "metadata": {
        "colab": {
          "base_uri": "https://localhost:8080/"
        },
        "id": "q-5BlbLF1Tm8",
        "outputId": "499e0f2c-eec6-4ec4-bfcc-198d4fa24714"
      },
      "outputs": [
        {
          "data": {
            "text/plain": [
              "0.46123573396300666"
            ]
          },
          "execution_count": 5,
          "metadata": {},
          "output_type": "execute_result"
        }
      ],
      "source": [
        "1 - (np.count_nonzero(y_train) / y_train.shape[0])"
      ]
    },
    {
      "cell_type": "code",
      "execution_count": 6,
      "metadata": {
        "colab": {
          "base_uri": "https://localhost:8080/"
        },
        "id": "xl5TE2YVmgCY",
        "outputId": "8f31f1c7-d170-4c51-fdbd-de85aecca3ec"
      },
      "outputs": [
        {
          "name": "stdout",
          "output_type": "stream",
          "text": [
            "Model: \"sequential\"\n",
            "_________________________________________________________________\n",
            "Layer (type)                 Output Shape              Param #   \n",
            "=================================================================\n",
            "efficientnetb0 (Functional)  (None, 1280)              4049571   \n",
            "_________________________________________________________________\n",
            "dense (Dense)                (None, 2)                 2562      \n",
            "=================================================================\n",
            "Total params: 4,052,133\n",
            "Trainable params: 4,010,110\n",
            "Non-trainable params: 42,023\n",
            "_________________________________________________________________\n"
          ]
        }
      ],
      "source": [
        "model = tf.keras.Sequential()\n",
        "\n",
        "model.add(tf.keras.applications.EfficientNetB0(include_top=False,\n",
        "                                             weights='imagenet',\n",
        "                                             input_shape=(224,224,3),\n",
        "                                             pooling='max',\n",
        "                                             classes=2,\n",
        "                                             classifier_activation='softmax'))\n",
        "\n",
        "model.add(tf.keras.layers.Dense(2, activation='softmax'))\n",
        "\n",
        "model.summary()"
      ]
    },
    {
      "cell_type": "code",
      "execution_count": 7,
      "metadata": {
        "id": "O0ZXcjC-n1BV"
      },
      "outputs": [],
      "source": [
        "saved_model = 'Ch07_lateral_EfficientNet_B0_test1.h5'\n",
        "# es = tf.keras.callbacks.EarlyStopping(monitor='val_loss', mode='min', verbose=1, patience=50,restore_best_weights=True)\n",
        "mc = tf.keras.callbacks.ModelCheckpoint(saved_model, monitor='val_accuracy', mode='max', verbose=1, save_best_only=True)"
      ]
    },
    {
      "cell_type": "code",
      "execution_count": 8,
      "metadata": {
        "id": "cvcOaQh6RQZ5"
      },
      "outputs": [],
      "source": [
        "from keras.callbacks import EarlyStopping, ReduceLROnPlateau\n",
        "\n",
        "early_stopping = EarlyStopping(monitor='val_loss', patience=20, verbose=0, mode='min')\n",
        "learning_rate_reduction = ReduceLROnPlateau(monitor='val_loss', patience=2, verbose=1, factor=0.5, min_lr=0.00001)\n",
        "\n",
        "model.compile(optimizer=tf.keras.optimizers.Adam(learning_rate=0.001),\n",
        "               \n",
        "               loss='sparse_categorical_crossentropy',\n",
        "               metrics=['accuracy'])\n"
      ]
    },
    {
      "cell_type": "code",
      "execution_count": 9,
      "metadata": {
        "colab": {
          "base_uri": "https://localhost:8080/"
        },
        "id": "1b8FVVaynSZH",
        "outputId": "a5fa157f-2d9f-4cc5-ecaa-8b9060ec9e6b"
      },
      "outputs": [
        {
          "name": "stdout",
          "output_type": "stream",
          "text": [
            "Epoch 1/100\n",
            "318/318 [==============================] - 71s 186ms/step - loss: 0.4370 - accuracy: 0.9107 - val_loss: 4.6801 - val_accuracy: 0.9323\n",
            "\n",
            "Epoch 00001: val_accuracy improved from -inf to 0.93228, saving model to Ch07_lateral_EfficientNet_B0_test1.h5\n"
          ]
        },
        {
          "name": "stderr",
          "output_type": "stream",
          "text": [
            "c:\\Users\\Chaddol\\anaconda3\\envs\\chaddol\\lib\\site-packages\\keras\\utils\\generic_utils.py:494: CustomMaskWarning: Custom mask layers require a config and must override get_config. When loading, the custom mask layer must be passed to the custom_objects argument.\n",
            "  warnings.warn('Custom mask layers require a config and must override '\n"
          ]
        },
        {
          "name": "stdout",
          "output_type": "stream",
          "text": [
            "Epoch 2/100\n",
            "318/318 [==============================] - 56s 175ms/step - loss: 0.2648 - accuracy: 0.9335 - val_loss: 148.1942 - val_accuracy: 0.6378\n",
            "\n",
            "Epoch 00002: val_accuracy did not improve from 0.93228\n",
            "Epoch 3/100\n",
            "318/318 [==============================] - 57s 178ms/step - loss: 0.2392 - accuracy: 0.9463 - val_loss: 0.3323 - val_accuracy: 0.9213\n",
            "\n",
            "Epoch 00003: val_accuracy did not improve from 0.93228\n",
            "Epoch 4/100\n",
            "318/318 [==============================] - 63s 197ms/step - loss: 0.1924 - accuracy: 0.9463 - val_loss: 0.1618 - val_accuracy: 0.9260\n",
            "\n",
            "Epoch 00004: val_accuracy did not improve from 0.93228\n",
            "Epoch 5/100\n",
            "318/318 [==============================] - 65s 205ms/step - loss: 0.1230 - accuracy: 0.9561 - val_loss: 0.2069 - val_accuracy: 0.9480\n",
            "\n",
            "Epoch 00005: val_accuracy improved from 0.93228 to 0.94803, saving model to Ch07_lateral_EfficientNet_B0_test1.h5\n",
            "Epoch 6/100\n",
            "318/318 [==============================] - 67s 210ms/step - loss: 0.1263 - accuracy: 0.9624 - val_loss: 0.1793 - val_accuracy: 0.9433\n",
            "\n",
            "Epoch 00006: ReduceLROnPlateau reducing learning rate to 0.0005000000237487257.\n",
            "\n",
            "Epoch 00006: val_accuracy did not improve from 0.94803\n",
            "Epoch 7/100\n",
            "318/318 [==============================] - 64s 203ms/step - loss: 0.1029 - accuracy: 0.9699 - val_loss: 0.1566 - val_accuracy: 0.9480\n",
            "\n",
            "Epoch 00007: val_accuracy did not improve from 0.94803\n",
            "Epoch 8/100\n",
            "318/318 [==============================] - 62s 195ms/step - loss: 0.0737 - accuracy: 0.9736 - val_loss: 0.1843 - val_accuracy: 0.9480\n",
            "\n",
            "Epoch 00008: val_accuracy did not improve from 0.94803\n",
            "Epoch 9/100\n",
            "318/318 [==============================] - 58s 181ms/step - loss: 0.0602 - accuracy: 0.9784 - val_loss: 0.1872 - val_accuracy: 0.9417\n",
            "\n",
            "Epoch 00009: ReduceLROnPlateau reducing learning rate to 0.0002500000118743628.\n",
            "\n",
            "Epoch 00009: val_accuracy did not improve from 0.94803\n",
            "Epoch 10/100\n",
            "318/318 [==============================] - 62s 195ms/step - loss: 0.0468 - accuracy: 0.9811 - val_loss: 0.2170 - val_accuracy: 0.9575\n",
            "\n",
            "Epoch 00010: val_accuracy improved from 0.94803 to 0.95748, saving model to Ch07_lateral_EfficientNet_B0_test1.h5\n",
            "Epoch 11/100\n",
            "318/318 [==============================] - 64s 201ms/step - loss: 0.0433 - accuracy: 0.9835 - val_loss: 0.2100 - val_accuracy: 0.9512\n",
            "\n",
            "Epoch 00011: ReduceLROnPlateau reducing learning rate to 0.0001250000059371814.\n",
            "\n",
            "Epoch 00011: val_accuracy did not improve from 0.95748\n",
            "Epoch 12/100\n",
            "318/318 [==============================] - 66s 207ms/step - loss: 0.0419 - accuracy: 0.9841 - val_loss: 0.2232 - val_accuracy: 0.9402\n",
            "\n",
            "Epoch 00012: val_accuracy did not improve from 0.95748\n",
            "Epoch 13/100\n",
            "318/318 [==============================] - 66s 207ms/step - loss: 0.0349 - accuracy: 0.9839 - val_loss: 0.2601 - val_accuracy: 0.9480\n",
            "\n",
            "Epoch 00013: ReduceLROnPlateau reducing learning rate to 6.25000029685907e-05.\n",
            "\n",
            "Epoch 00013: val_accuracy did not improve from 0.95748\n",
            "Epoch 14/100\n",
            "318/318 [==============================] - 65s 205ms/step - loss: 0.0318 - accuracy: 0.9866 - val_loss: 0.2428 - val_accuracy: 0.9465\n",
            "\n",
            "Epoch 00014: val_accuracy did not improve from 0.95748\n",
            "Epoch 15/100\n",
            "318/318 [==============================] - 68s 212ms/step - loss: 0.0308 - accuracy: 0.9862 - val_loss: 0.2450 - val_accuracy: 0.9480\n",
            "\n",
            "Epoch 00015: ReduceLROnPlateau reducing learning rate to 3.125000148429535e-05.\n",
            "\n",
            "Epoch 00015: val_accuracy did not improve from 0.95748\n",
            "Epoch 16/100\n",
            "318/318 [==============================] - 61s 193ms/step - loss: 0.0290 - accuracy: 0.9878 - val_loss: 0.2504 - val_accuracy: 0.9496\n",
            "\n",
            "Epoch 00016: val_accuracy did not improve from 0.95748\n",
            "Epoch 17/100\n",
            "318/318 [==============================] - 62s 195ms/step - loss: 0.0273 - accuracy: 0.9872 - val_loss: 0.2581 - val_accuracy: 0.9465\n",
            "\n",
            "Epoch 00017: ReduceLROnPlateau reducing learning rate to 1.5625000742147677e-05.\n",
            "\n",
            "Epoch 00017: val_accuracy did not improve from 0.95748\n",
            "Epoch 18/100\n",
            "318/318 [==============================] - 62s 195ms/step - loss: 0.0288 - accuracy: 0.9888 - val_loss: 0.2572 - val_accuracy: 0.9465\n",
            "\n",
            "Epoch 00018: val_accuracy did not improve from 0.95748\n",
            "Epoch 19/100\n",
            "318/318 [==============================] - 62s 195ms/step - loss: 0.0247 - accuracy: 0.9872 - val_loss: 0.2642 - val_accuracy: 0.9496\n",
            "\n",
            "Epoch 00019: ReduceLROnPlateau reducing learning rate to 1e-05.\n",
            "\n",
            "Epoch 00019: val_accuracy did not improve from 0.95748\n",
            "Epoch 20/100\n",
            "318/318 [==============================] - 62s 195ms/step - loss: 0.0276 - accuracy: 0.9866 - val_loss: 0.2612 - val_accuracy: 0.9465\n",
            "\n",
            "Epoch 00020: val_accuracy did not improve from 0.95748\n",
            "Epoch 21/100\n",
            "318/318 [==============================] - 62s 195ms/step - loss: 0.0257 - accuracy: 0.9876 - val_loss: 0.2623 - val_accuracy: 0.9480\n",
            "\n",
            "Epoch 00021: val_accuracy did not improve from 0.95748\n",
            "Epoch 22/100\n",
            "318/318 [==============================] - 61s 191ms/step - loss: 0.0242 - accuracy: 0.9868 - val_loss: 0.2634 - val_accuracy: 0.9480\n",
            "\n",
            "Epoch 00022: val_accuracy did not improve from 0.95748\n",
            "Epoch 23/100\n",
            "318/318 [==============================] - 61s 193ms/step - loss: 0.0234 - accuracy: 0.9878 - val_loss: 0.2713 - val_accuracy: 0.9496\n",
            "\n",
            "Epoch 00023: val_accuracy did not improve from 0.95748\n",
            "Epoch 24/100\n",
            "318/318 [==============================] - 66s 206ms/step - loss: 0.0231 - accuracy: 0.9876 - val_loss: 0.2734 - val_accuracy: 0.9480\n",
            "\n",
            "Epoch 00024: val_accuracy did not improve from 0.95748\n",
            "Epoch 25/100\n",
            "318/318 [==============================] - 63s 198ms/step - loss: 0.0241 - accuracy: 0.9878 - val_loss: 0.2739 - val_accuracy: 0.9496\n",
            "\n",
            "Epoch 00025: val_accuracy did not improve from 0.95748\n",
            "Epoch 26/100\n",
            "318/318 [==============================] - 69s 218ms/step - loss: 0.0241 - accuracy: 0.9866 - val_loss: 0.2719 - val_accuracy: 0.9496\n",
            "\n",
            "Epoch 00026: val_accuracy did not improve from 0.95748\n",
            "Epoch 27/100\n",
            "318/318 [==============================] - 68s 214ms/step - loss: 0.0242 - accuracy: 0.9874 - val_loss: 0.2798 - val_accuracy: 0.9465\n",
            "\n",
            "Epoch 00027: val_accuracy did not improve from 0.95748\n"
          ]
        }
      ],
      "source": [
        "history = model.fit(x_train, y_train,\n",
        "          epochs=100,\n",
        "          validation_data=(x_test, y_test),\n",
        "          shuffle=True,\n",
        "        #   steps_per_epoch=len(train_generator),\n",
        "        #   validation_steps=len(test_generator),\n",
        "          callbacks=[early_stopping, learning_rate_reduction, mc],\n",
        "          batch_size = 16\n",
        "          )\n"
      ]
    },
    {
      "cell_type": "code",
      "execution_count": 10,
      "metadata": {
        "colab": {
          "base_uri": "https://localhost:8080/",
          "height": 350
        },
        "id": "5sv7EDuXoY38",
        "outputId": "c8e943df-9236-4db6-aef9-b3af0f0355e0"
      },
      "outputs": [
        {
          "data": {
            "image/png": "[encoded data removed]",
            "text/plain": [
              "<Figure size 1200x500 with 2 Axes>"
            ]
          },
          "metadata": {},
          "output_type": "display_data"
        }
      ],
      "source": [
        "import matplotlib.pyplot as plt\n",
        "\n",
        "loss = history.history['loss']\n",
        "epochs = range(1, len(loss)+1)\n",
        "\n",
        "plt.figure(figsize=(12, 5))\n",
        "plt.subplot(1, 2, 1)\n",
        "plt.title('Loss')\n",
        "plt.plot(epochs, history.history['loss'], 'b', label='train_loss')\n",
        "plt.plot(epochs, history.history['val_loss'], 'g', label='val_loss')\n",
        "plt.ylim([0,1.0])\n",
        "plt.grid(True)\n",
        "plt.xlabel('Epoch')\n",
        "plt.ylabel('Loss')\n",
        "plt.legend(loc='best')\n",
        "\n",
        "plt.subplot(1, 2, 2)\n",
        "plt.title('Accuray')\n",
        "plt.plot(epochs, history.history['accuracy'], 'b', label='train_accuracy')\n",
        "plt.plot(epochs, history.history['val_accuracy'], 'g', label='val_accuracy')\n",
        "plt.ylim([0.7,1])\n",
        "plt.grid(True)\n",
        "plt.ylabel('Accuracy')\n",
        "plt.legend(loc='best')\n",
        "plt.show()"
      ]
    },
    {
      "cell_type": "code",
      "execution_count": 11,
      "metadata": {
        "id": "ysUqCtzjN3tF"
      },
      "outputs": [],
      "source": [
        "# x_valid = np.load('/content/drive/MyDrive/팀 프로젝트/흉부_xray/128/Ch06_x_valid.npy')\n",
        "# y_valid = np.load('/content/drive/MyDrive/팀 프로젝트/흉부_xray/128/Ch06_y_valid.npy')"
      ]
    },
    {
      "cell_type": "code",
      "execution_count": 12,
      "metadata": {
        "colab": {
          "base_uri": "https://localhost:8080/"
        },
        "id": "5lr47oDGV3NC",
        "outputId": "34330a59-c076-4181-c6f3-fd3ab6e9b529"
      },
      "outputs": [
        {
          "name": "stdout",
          "output_type": "stream",
          "text": [
            "20/20 [==============================] - 4s 131ms/step - loss: 0.1694 - accuracy: 0.9575\n"
          ]
        },
        {
          "data": {
            "text/plain": [
              "[0.1693630963563919, 0.9575471878051758]"
            ]
          },
          "execution_count": 12,
          "metadata": {},
          "output_type": "execute_result"
        }
      ],
      "source": [
        "model.evaluate(x_valid, y_valid)"
      ]
    },
    {
      "cell_type": "code",
      "execution_count": 13,
      "metadata": {
        "id": "kZlYrSdFPWV4"
      },
      "outputs": [],
      "source": [
        "y_1 = []\n",
        "y_0 = []\n",
        "x_0 = []\n",
        "x_1 = []\n",
        "for idx, i in enumerate(y_valid):\n",
        "  if i == 1:\n",
        "    y_1.append(i)\n",
        "    x_1.append(x_valid[idx])\n",
        "  else:\n",
        "    y_0.append(i)\n",
        "    x_0.append(x_valid[idx])\n"
      ]
    },
    {
      "cell_type": "code",
      "execution_count": 14,
      "metadata": {
        "colab": {
          "base_uri": "https://localhost:8080/"
        },
        "id": "7ZLReurTPeX0",
        "outputId": "dd23f62b-5731-4427-f236-d2508c515eb7"
      },
      "outputs": [
        {
          "name": "stdout",
          "output_type": "stream",
          "text": [
            "10/10 [==============================] - 2s 172ms/step - loss: 0.2763 - accuracy: 0.9317\n"
          ]
        },
        {
          "data": {
            "text/plain": [
              "[0.2763144373893738, 0.9317406415939331]"
            ]
          },
          "execution_count": 14,
          "metadata": {},
          "output_type": "execute_result"
        }
      ],
      "source": [
        "model.evaluate(np.array(x_0),np.array(y_0))"
      ]
    },
    {
      "cell_type": "code",
      "execution_count": 15,
      "metadata": {
        "colab": {
          "base_uri": "https://localhost:8080/"
        },
        "id": "vbhXJSABQLem",
        "outputId": "1a134ae0-d9b2-431a-df87-33a508404d1d"
      },
      "outputs": [
        {
          "name": "stdout",
          "output_type": "stream",
          "text": [
            "11/11 [==============================] - 2s 177ms/step - loss: 0.0780 - accuracy: 0.9796\n"
          ]
        },
        {
          "data": {
            "text/plain": [
              "[0.07800231873989105, 0.9795918464660645]"
            ]
          },
          "execution_count": 15,
          "metadata": {},
          "output_type": "execute_result"
        }
      ],
      "source": [
        "model.evaluate(np.array(x_1),np.array(y_1))\n"
      ]
    },
    {
      "cell_type": "code",
      "execution_count": 16,
      "metadata": {
        "colab": {
          "base_uri": "https://localhost:8080/"
        },
        "id": "3sEL_SX7CMF0",
        "outputId": "f5a29cd8-8b5e-4404-f592-5a24e8942245"
      },
      "outputs": [],
      "source": [
        "y_out = np.argmax(model.predict(x_valid),axis=-1)\n"
      ]
    },
    {
      "cell_type": "code",
      "execution_count": 17,
      "metadata": {
        "colab": {
          "base_uri": "https://localhost:8080/"
        },
        "id": "CFuFFS27EDZ9",
        "outputId": "835e19e7-d126-444b-c0e1-11f0b79f10ad"
      },
      "outputs": [
        {
          "data": {
            "text/plain": [
              "array([1, 1, 1, 0, 1, 1, 0, 1, 1, 1, 0, 0, 0, 1, 1, 0, 0, 0, 0, 0, 1, 1,\n",
              "       0, 0, 0, 1, 0, 1, 0, 1, 0, 0, 1, 0, 0, 0, 1, 1, 1, 0, 0, 0, 0, 1,\n",
              "       1, 1, 0, 1, 0, 0, 0, 0, 0, 1, 1, 1, 0, 1, 0, 0, 0, 1, 0, 0, 0, 0,\n",
              "       1, 1, 0, 1, 1, 0, 0, 1, 1, 1, 0, 1, 1, 1, 0, 1, 0, 1, 1, 0, 0, 1,\n",
              "       0, 1, 0, 0, 0, 0, 1, 1, 0, 1, 1, 0, 1, 1, 1, 1, 1, 0, 1, 1, 1, 1,\n",
              "       0, 1, 0, 1, 0, 1, 1, 1, 1, 0, 0, 1, 0, 0, 1, 0, 1, 0, 0, 1, 1, 1,\n",
              "       0, 0, 1, 1, 1, 0, 0, 0, 1, 0, 1, 0, 1, 1, 1, 0, 1, 0, 0, 1, 1, 0,\n",
              "       0, 1, 0, 0, 1, 0, 0, 1, 1, 1, 0, 0, 1, 0, 0, 1, 1, 1, 0, 0, 0, 0,\n",
              "       0, 0, 0, 1, 1, 1, 1, 1, 1, 0, 1, 0, 1, 1, 0, 1, 0, 1, 0, 1, 1, 1,\n",
              "       1, 1, 1, 1, 0, 1, 0, 0, 1, 0, 1, 0, 1, 1, 0, 0, 0, 0, 1, 0, 1, 1,\n",
              "       1, 1, 0, 1, 0, 1, 1, 1, 1, 1, 1, 1, 1, 0, 0, 0, 1, 1, 1, 1, 0, 1,\n",
              "       0, 1, 0, 1, 0, 1, 1, 1, 0, 1, 0, 1, 1, 0, 0, 0, 0, 0, 1, 0, 0, 1,\n",
              "       1, 0, 1, 0, 1, 0, 0, 1, 0, 1, 1, 0, 1, 1, 0, 1, 1, 1, 1, 1, 1, 1,\n",
              "       1, 0, 1, 0, 0, 1, 0, 0, 0, 1, 0, 1, 1, 1, 1, 1, 0, 0, 1, 1, 0, 0,\n",
              "       1, 0, 1, 0, 1, 1, 1, 0, 0, 0, 1, 0, 0, 0, 0, 1, 0, 1, 0, 1, 0, 1,\n",
              "       1, 1, 1, 1, 1, 0, 1, 0, 0, 1, 0, 1, 1, 1, 1, 0, 0, 1, 1, 0, 0, 0,\n",
              "       0, 1, 1, 1, 0, 1, 1, 1, 1, 1, 0, 1, 1, 0, 1, 0, 0, 0, 1, 1, 0, 0,\n",
              "       0, 1, 0, 1, 0, 1, 1, 0, 0, 1, 1, 1, 1, 1, 0, 0, 0, 0, 1, 0, 1, 0,\n",
              "       1, 0, 1, 1, 1, 0, 0, 1, 1, 0, 1, 0, 1, 0, 1, 1, 1, 1, 0, 0, 0, 1,\n",
              "       1, 0, 1, 1, 1, 0, 0, 0, 1, 0, 0, 0, 1, 0, 0, 0, 0, 1, 1, 1, 0, 0,\n",
              "       0, 1, 1, 1, 1, 1, 1, 1, 1, 0, 0, 1, 0, 1, 1, 1, 1, 0, 1, 0, 1, 1,\n",
              "       0, 1, 1, 1, 1, 1, 1, 1, 1, 1, 1, 1, 1, 1, 0, 1, 1, 0, 1, 0, 0, 0,\n",
              "       1, 1, 1, 1, 0, 1, 0, 0, 1, 0, 0, 1, 0, 0, 0, 1, 0, 1, 0, 1, 1, 0,\n",
              "       1, 0, 1, 1, 1, 0, 1, 0, 0, 0, 1, 1, 1, 0, 1, 1, 0, 0, 0, 1, 0, 0,\n",
              "       1, 1, 1, 1, 1, 1, 0, 1, 1, 1, 0, 0, 1, 1, 0, 1, 0, 1, 1, 0, 0, 1,\n",
              "       1, 0, 1, 1, 1, 1, 1, 0, 1, 1, 0, 1, 1, 0, 1, 1, 1, 1, 0, 0, 0, 1,\n",
              "       0, 0, 0, 1, 0, 0, 1, 0, 1, 0, 0, 0, 1, 0, 1, 1, 1, 1, 1, 1, 1, 0,\n",
              "       0, 0, 1, 0, 1, 1, 1, 0, 0, 1, 1, 1, 1, 1, 0, 1, 1, 0, 1, 0, 0, 1,\n",
              "       1, 1, 0, 0, 1, 0, 1, 1, 1, 1, 1, 0, 1, 1, 0, 1, 1, 1, 0, 0],\n",
              "      dtype=int64)"
            ]
          },
          "execution_count": 17,
          "metadata": {},
          "output_type": "execute_result"
        }
      ],
      "source": [
        "y_out"
      ]
    },
    {
      "cell_type": "code",
      "execution_count": 18,
      "metadata": {
        "id": "iaE9ybUlMRbj"
      },
      "outputs": [],
      "source": [
        "x_0, y_0 = np.array(x_0),np.array(y_0)\n",
        "x_1, y_1 = np.array(x_1),np.array(y_1)"
      ]
    },
    {
      "cell_type": "code",
      "execution_count": 19,
      "metadata": {
        "colab": {
          "base_uri": "https://localhost:8080/",
          "height": 446
        },
        "id": "Tt8jZiDDANs_",
        "outputId": "c77abdbf-3b2a-43ca-e261-526559ea251c"
      },
      "outputs": [
        {
          "data": {
            "text/plain": [
              "<function matplotlib.pyplot.show(close=None, block=None)>"
            ]
          },
          "execution_count": 19,
          "metadata": {},
          "output_type": "execute_result"
        },
        {
          "data": {
            "image/png": "[encoded data removed]",
            "text/plain": [
              "<Figure size 1200x700 with 2 Axes>"
            ]
          },
          "metadata": {},
          "output_type": "display_data"
        }
      ],
      "source": [
        "from sklearn.metrics import confusion_matrix\n",
        "import seaborn as sns\n",
        "\n",
        "# x_0은 label == 0인 데이터, x_1은 label == 1인 데이터만 모은 것\n",
        "cf_matrix = confusion_matrix(y_valid, y_out) / np.array([x_0.shape[0], x_1.shape[0]]).reshape(-1,1)\n",
        "\n",
        "plt.figure(figsize = (12,7))\n",
        "sns.heatmap(cf_matrix, annot=True)\n",
        "plt.show"
      ]
    },
    {
      "cell_type": "code",
      "execution_count": null,
      "metadata": {
        "id": "a4riOFSbC9jv"
      },
      "outputs": [],
      "source": []
    },
    {
      "cell_type": "code",
      "execution_count": null,
      "metadata": {
        "id": "H8mKvZZQEUgZ"
      },
      "outputs": [],
      "source": []
    }
  ],
  "metadata": {
    "accelerator": "GPU",
    "colab": {
      "provenance": []
    },
    "gpuClass": "standard",
    "kernelspec": {
      "display_name": "chaddol",
      "language": "python",
      "name": "python3"
    },
    "language_info": {
      "codemirror_mode": {
        "name": "ipython",
        "version": 3
      },
      "file_extension": ".py",
      "mimetype": "text/x-python",
      "name": "python",
      "nbconvert_exporter": "python",
      "pygments_lexer": "ipython3",
      "version": "3.9.15"
    },
    "vscode": {
      "interpreter": {
        "hash": "a687caacb10a844a55fefd3b5f8dd537474e79b4cd9a59a4e226ce1d72456a88"
      }
    }
  },
  "nbformat": 4,
  "nbformat_minor": 0
}
