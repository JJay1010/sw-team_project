{
  "nbformat": 4,
  "nbformat_minor": 0,
  "metadata": {
    "colab": {
      "provenance": [],
      "machine_shape": "hm",
      "include_colab_link": true
    },
    "kernelspec": {
      "name": "python3",
      "display_name": "Python 3"
    },
    "language_info": {
      "name": "python"
    },
    "accelerator": "GPU",
    "gpuClass": "standard"
  },
  "cells": [
    {
      "cell_type": "markdown",
      "metadata": {
        "id": "view-in-github",
        "colab_type": "text"
      },
      "source": [
        "<a href=\"https://colab.research.google.com/github/JJay1010/sw-team_project/blob/main/%EA%B9%80%EC%A7%80%EC%88%98/Chest_Ch01_ResNet152_freeze.ipynb\" target=\"_parent\"><img src=\"https://colab.research.google.com/assets/colab-badge.svg\" alt=\"Open In Colab\"/></a>"
      ]
    },
    {
      "cell_type": "code",
      "source": [
        "from google.colab import drive\n",
        "drive.mount('/content/drive')"
      ],
      "metadata": {
        "colab": {
          "base_uri": "https://localhost:8080/"
        },
        "id": "hs9c32dow4ik",
        "outputId": "3aec1a5d-4bde-4624-cbca-62fd43738f1a"
      },
      "execution_count": null,
      "outputs": [
        {
          "output_type": "stream",
          "name": "stdout",
          "text": [
            "Drive already mounted at /content/drive; to attempt to forcibly remount, call drive.mount(\"/content/drive\", force_remount=True).\n"
          ]
        }
      ]
    },
    {
      "cell_type": "code",
      "source": [
        "import numpy as np\n",
        "\n",
        "x_train = np.load('/content/drive/MyDrive/팀 프로젝트/흉부_xray/Ch01_x_train_augmented.npy')\n",
        "y_train = np.load('/content/drive/MyDrive/팀 프로젝트/흉부_xray/Ch01_y_train_augmented.npy')\n",
        "x_data = np.load('/content/drive/MyDrive/팀 프로젝트/흉부_xray/Ch01_x.npy')\n",
        "y_data = np.load('/content/drive/MyDrive/팀 프로젝트/흉부_xray/Ch01_y.npy')"
      ],
      "metadata": {
        "id": "S9NDiV-Qu-Ks"
      },
      "execution_count": null,
      "outputs": []
    },
    {
      "cell_type": "code",
      "source": [
        "ratio = 1 - np.count_nonzero(y_data)/y_data.shape[0]\n",
        "print(ratio)"
      ],
      "metadata": {
        "id": "ns28UGAhhKEp",
        "colab": {
          "base_uri": "https://localhost:8080/"
        },
        "outputId": "0bc11cf1-3ed4-4c94-8b4d-135e7c6d0300"
      },
      "execution_count": null,
      "outputs": [
        {
          "output_type": "stream",
          "name": "stdout",
          "text": [
            "0.4751992193852659\n"
          ]
        }
      ]
    },
    {
      "cell_type": "code",
      "source": [
        "# train/test 8:2 나누기\n",
        "\n",
        "from sklearn.model_selection import train_test_split\n",
        "\n",
        "_, x_test,_, y_test = train_test_split(x_data, y_data, test_size = 0.1, random_state=123)\n",
        "# x_test, x_valid, y_test, y_valid = train_test_split(x_temp, y_temp, test_size = 0.5, random_state=42)\n",
        "del x_data\n",
        "del y_data"
      ],
      "metadata": {
        "id": "36cI59QSu_5m"
      },
      "execution_count": null,
      "outputs": []
    },
    {
      "cell_type": "code",
      "source": [
        "# import imgaug.augmenters as iaa\n",
        "# seq = iaa.Sequential([\n",
        "#     iaa.Fliplr(0.5), # horizontally flip 50% of the images\n",
        "#     iaa.Affine(rotate=(-45, 45)), # rotate images between -45 and 45 degrees\n",
        "#     iaa.AdditiveGaussianNoise(scale=(0, 0.05*255)), # add gaussian noise with a scale between 0 and 0.05 times the maximum pixel value\n",
        "#     iaa.SaltAndPepper(0.05) # add 5% of salt and pepper noise\n",
        "# ])\n",
        "# x_train_aug = seq.augment_images(x_train)\n",
        "# x_train_augmented = np.concatenate((x_train, x_train_aug))\n",
        "# y_train_augmented = np.concatenate((y_train, y_train))"
      ],
      "metadata": {
        "id": "UcFeOJ99DFYL"
      },
      "execution_count": null,
      "outputs": []
    },
    {
      "cell_type": "code",
      "source": [
        "import tensorflow as tf\n",
        "\n",
        "saved_model = '/content/drive/MyDrive/팀 프로젝트/흉부_xray/Ch01_ResNet152_aug_freeze.h5'\n",
        "es = tf.keras.callbacks.EarlyStopping(monitor='val_loss', mode='min', verbose=1, patience=20,restore_best_weights=True)\n",
        "mc = tf.keras.callbacks.ModelCheckpoint(saved_model, monitor='val_accuracy', mode='max', verbose=1, save_best_only=True)"
      ],
      "metadata": {
        "id": "z9_YlBnn015g"
      },
      "execution_count": null,
      "outputs": []
    },
    {
      "cell_type": "code",
      "source": [
        "\n",
        "\n",
        "# Load the ResNet50 model without the top layers (include_top=False)\n",
        "model = tf.keras.applications.ResNet152(weights='imagenet', include_top=False, input_shape=(224,224,3))\n",
        "\n",
        "# Freeze the layers of the ResNet50 model\n",
        "for layer in model.layers:\n",
        "    layer.trainable = False\n",
        "\n",
        "# Add the new top layers to the ResNet50 model\n",
        "x = model.output\n",
        "x = tf.keras.layers.GlobalAveragePooling2D()(x)\n",
        "x = tf.keras.layers.Dense(1024, activation='relu')(x)\n",
        "x = tf.keras.layers.Dense(512, activation='relu')(x)\n",
        "predictions = tf.keras.layers.Dense(1, activation='sigmoid')(x)\n",
        "\n",
        "# Build the final model\n",
        "final_model = tf.keras.Model(inputs=model.input, outputs=predictions)\n",
        "\n",
        "# Compile the model\n",
        "custom_adam = tf.keras.optimizers.Adam(learning_rate=0.0001)\n",
        "\n",
        "#fine tuning fit \n",
        "# metric, loss 를 binary에 맞게 바꿔주자.\n",
        "final_model.compile(optimizer=custom_adam, loss='binary_crossentropy', metrics=['accuracy'])\n",
        "\n",
        "# Train the model\n",
        "history = final_model.fit(x_train, y_train, validation_data = (x_test, y_test), callbacks=[es, mc], epochs = 1000, batch_size = 128)\n"
      ],
      "metadata": {
        "colab": {
          "base_uri": "https://localhost:8080/"
        },
        "id": "7CGojOHOUMkb",
        "outputId": "fed379ac-feb4-4f62-f107-b74ea3d9362e"
      },
      "execution_count": null,
      "outputs": [
        {
          "output_type": "stream",
          "name": "stdout",
          "text": [
            "Epoch 1/1000\n",
            "87/87 [==============================] - ETA: 0s - loss: 0.6294 - accuracy: 0.6421\n",
            "Epoch 1: val_accuracy improved from -inf to 0.73984, saving model to /content/drive/MyDrive/팀 프로젝트/흉부_xray/Ch01_ResNet152_aug_freeze.h5\n",
            "87/87 [==============================] - 99s 1s/step - loss: 0.6294 - accuracy: 0.6421 - val_loss: 0.5174 - val_accuracy: 0.7398\n",
            "Epoch 2/1000\n",
            "87/87 [==============================] - ETA: 0s - loss: 0.5316 - accuracy: 0.7238\n",
            "Epoch 2: val_accuracy improved from 0.73984 to 0.78374, saving model to /content/drive/MyDrive/팀 프로젝트/흉부_xray/Ch01_ResNet152_aug_freeze.h5\n",
            "87/87 [==============================] - 83s 961ms/step - loss: 0.5316 - accuracy: 0.7238 - val_loss: 0.4756 - val_accuracy: 0.7837\n",
            "Epoch 3/1000\n",
            "87/87 [==============================] - ETA: 0s - loss: 0.5028 - accuracy: 0.7445\n",
            "Epoch 3: val_accuracy did not improve from 0.78374\n",
            "87/87 [==============================] - 80s 924ms/step - loss: 0.5028 - accuracy: 0.7445 - val_loss: 0.4599 - val_accuracy: 0.7724\n",
            "Epoch 4/1000\n",
            "87/87 [==============================] - ETA: 0s - loss: 0.4674 - accuracy: 0.7737\n",
            "Epoch 4: val_accuracy did not improve from 0.78374\n",
            "87/87 [==============================] - 80s 924ms/step - loss: 0.4674 - accuracy: 0.7737 - val_loss: 0.4494 - val_accuracy: 0.7837\n",
            "Epoch 5/1000\n",
            "87/87 [==============================] - ETA: 0s - loss: 0.4528 - accuracy: 0.7827\n",
            "Epoch 5: val_accuracy did not improve from 0.78374\n",
            "87/87 [==============================] - 80s 917ms/step - loss: 0.4528 - accuracy: 0.7827 - val_loss: 0.4552 - val_accuracy: 0.7740\n",
            "Epoch 6/1000\n",
            "87/87 [==============================] - ETA: 0s - loss: 0.4264 - accuracy: 0.7989\n",
            "Epoch 6: val_accuracy did not improve from 0.78374\n",
            "87/87 [==============================] - 80s 920ms/step - loss: 0.4264 - accuracy: 0.7989 - val_loss: 0.4476 - val_accuracy: 0.7789\n",
            "Epoch 7/1000\n",
            "87/87 [==============================] - ETA: 0s - loss: 0.4034 - accuracy: 0.8155\n",
            "Epoch 7: val_accuracy did not improve from 0.78374\n",
            "87/87 [==============================] - 80s 917ms/step - loss: 0.4034 - accuracy: 0.8155 - val_loss: 0.4545 - val_accuracy: 0.7805\n",
            "Epoch 8/1000\n",
            "87/87 [==============================] - ETA: 0s - loss: 0.3824 - accuracy: 0.8254\n",
            "Epoch 8: val_accuracy improved from 0.78374 to 0.78537, saving model to /content/drive/MyDrive/팀 프로젝트/흉부_xray/Ch01_ResNet152_aug_freeze.h5\n",
            "87/87 [==============================] - 83s 952ms/step - loss: 0.3824 - accuracy: 0.8254 - val_loss: 0.4584 - val_accuracy: 0.7854\n",
            "Epoch 9/1000\n",
            "87/87 [==============================] - ETA: 0s - loss: 0.3670 - accuracy: 0.8379\n",
            "Epoch 9: val_accuracy improved from 0.78537 to 0.79024, saving model to /content/drive/MyDrive/팀 프로젝트/흉부_xray/Ch01_ResNet152_aug_freeze.h5\n",
            "87/87 [==============================] - 83s 958ms/step - loss: 0.3670 - accuracy: 0.8379 - val_loss: 0.4347 - val_accuracy: 0.7902\n",
            "Epoch 10/1000\n",
            "87/87 [==============================] - ETA: 0s - loss: 0.3393 - accuracy: 0.8493\n",
            "Epoch 10: val_accuracy improved from 0.79024 to 0.79837, saving model to /content/drive/MyDrive/팀 프로젝트/흉부_xray/Ch01_ResNet152_aug_freeze.h5\n",
            "87/87 [==============================] - 83s 956ms/step - loss: 0.3393 - accuracy: 0.8493 - val_loss: 0.4386 - val_accuracy: 0.7984\n",
            "Epoch 11/1000\n",
            "87/87 [==============================] - ETA: 0s - loss: 0.3216 - accuracy: 0.8611\n",
            "Epoch 11: val_accuracy did not improve from 0.79837\n",
            "87/87 [==============================] - 80s 922ms/step - loss: 0.3216 - accuracy: 0.8611 - val_loss: 0.4275 - val_accuracy: 0.7854\n",
            "Epoch 12/1000\n",
            "87/87 [==============================] - ETA: 0s - loss: 0.3045 - accuracy: 0.8717\n",
            "Epoch 12: val_accuracy improved from 0.79837 to 0.81789, saving model to /content/drive/MyDrive/팀 프로젝트/흉부_xray/Ch01_ResNet152_aug_freeze.h5\n",
            "87/87 [==============================] - 83s 957ms/step - loss: 0.3045 - accuracy: 0.8717 - val_loss: 0.4231 - val_accuracy: 0.8179\n",
            "Epoch 13/1000\n",
            "87/87 [==============================] - ETA: 0s - loss: 0.2792 - accuracy: 0.8861\n",
            "Epoch 13: val_accuracy did not improve from 0.81789\n",
            "87/87 [==============================] - 80s 919ms/step - loss: 0.2792 - accuracy: 0.8861 - val_loss: 0.4348 - val_accuracy: 0.7967\n",
            "Epoch 14/1000\n",
            "87/87 [==============================] - ETA: 0s - loss: 0.2709 - accuracy: 0.8889\n",
            "Epoch 14: val_accuracy did not improve from 0.81789\n",
            "87/87 [==============================] - 80s 915ms/step - loss: 0.2709 - accuracy: 0.8889 - val_loss: 0.4508 - val_accuracy: 0.7886\n",
            "Epoch 15/1000\n",
            "87/87 [==============================] - ETA: 0s - loss: 0.2527 - accuracy: 0.8970\n",
            "Epoch 15: val_accuracy did not improve from 0.81789\n",
            "87/87 [==============================] - 80s 918ms/step - loss: 0.2527 - accuracy: 0.8970 - val_loss: 0.4322 - val_accuracy: 0.8016\n",
            "Epoch 16/1000\n",
            "87/87 [==============================] - ETA: 0s - loss: 0.2205 - accuracy: 0.9167\n",
            "Epoch 16: val_accuracy did not improve from 0.81789\n",
            "87/87 [==============================] - 80s 919ms/step - loss: 0.2205 - accuracy: 0.9167 - val_loss: 0.4414 - val_accuracy: 0.8163\n",
            "Epoch 17/1000\n",
            "87/87 [==============================] - ETA: 0s - loss: 0.2065 - accuracy: 0.9254\n",
            "Epoch 17: val_accuracy did not improve from 0.81789\n",
            "87/87 [==============================] - 80s 919ms/step - loss: 0.2065 - accuracy: 0.9254 - val_loss: 0.7491 - val_accuracy: 0.7366\n",
            "Epoch 18/1000\n",
            "87/87 [==============================] - ETA: 0s - loss: 0.2075 - accuracy: 0.9182\n",
            "Epoch 18: val_accuracy did not improve from 0.81789\n",
            "87/87 [==============================] - 80s 920ms/step - loss: 0.2075 - accuracy: 0.9182 - val_loss: 0.5366 - val_accuracy: 0.7756\n",
            "Epoch 19/1000\n",
            "87/87 [==============================] - ETA: 0s - loss: 0.1782 - accuracy: 0.9359\n",
            "Epoch 19: val_accuracy did not improve from 0.81789\n",
            "87/87 [==============================] - 80s 919ms/step - loss: 0.1782 - accuracy: 0.9359 - val_loss: 0.5026 - val_accuracy: 0.7902\n",
            "Epoch 20/1000\n",
            "87/87 [==============================] - ETA: 0s - loss: 0.1690 - accuracy: 0.9408\n",
            "Epoch 20: val_accuracy did not improve from 0.81789\n",
            "87/87 [==============================] - 80s 919ms/step - loss: 0.1690 - accuracy: 0.9408 - val_loss: 0.4998 - val_accuracy: 0.8146\n",
            "Epoch 21/1000\n",
            "87/87 [==============================] - ETA: 0s - loss: 0.1519 - accuracy: 0.9485\n",
            "Epoch 21: val_accuracy did not improve from 0.81789\n",
            "87/87 [==============================] - 80s 920ms/step - loss: 0.1519 - accuracy: 0.9485 - val_loss: 0.5338 - val_accuracy: 0.7919\n",
            "Epoch 22/1000\n",
            "87/87 [==============================] - ETA: 0s - loss: 0.1390 - accuracy: 0.9543\n",
            "Epoch 22: val_accuracy did not improve from 0.81789\n",
            "87/87 [==============================] - 80s 919ms/step - loss: 0.1390 - accuracy: 0.9543 - val_loss: 0.5790 - val_accuracy: 0.8065\n",
            "Epoch 23/1000\n",
            "87/87 [==============================] - ETA: 0s - loss: 0.1261 - accuracy: 0.9583\n",
            "Epoch 23: val_accuracy did not improve from 0.81789\n",
            "87/87 [==============================] - 80s 919ms/step - loss: 0.1261 - accuracy: 0.9583 - val_loss: 0.6654 - val_accuracy: 0.7919\n",
            "Epoch 24/1000\n",
            "87/87 [==============================] - ETA: 0s - loss: 0.1277 - accuracy: 0.9552\n",
            "Epoch 24: val_accuracy did not improve from 0.81789\n",
            "87/87 [==============================] - 80s 919ms/step - loss: 0.1277 - accuracy: 0.9552 - val_loss: 0.5525 - val_accuracy: 0.8098\n",
            "Epoch 25/1000\n",
            "87/87 [==============================] - ETA: 0s - loss: 0.1080 - accuracy: 0.9649\n",
            "Epoch 25: val_accuracy did not improve from 0.81789\n",
            "87/87 [==============================] - 80s 919ms/step - loss: 0.1080 - accuracy: 0.9649 - val_loss: 0.5920 - val_accuracy: 0.7984\n",
            "Epoch 26/1000\n",
            "87/87 [==============================] - ETA: 0s - loss: 0.0933 - accuracy: 0.9737\n",
            "Epoch 26: val_accuracy did not improve from 0.81789\n",
            "87/87 [==============================] - 80s 919ms/step - loss: 0.0933 - accuracy: 0.9737 - val_loss: 0.6464 - val_accuracy: 0.8065\n",
            "Epoch 27/1000\n",
            "87/87 [==============================] - ETA: 0s - loss: 0.0977 - accuracy: 0.9696\n",
            "Epoch 27: val_accuracy did not improve from 0.81789\n",
            "87/87 [==============================] - 80s 919ms/step - loss: 0.0977 - accuracy: 0.9696 - val_loss: 0.6312 - val_accuracy: 0.8065\n",
            "Epoch 28/1000\n",
            "87/87 [==============================] - ETA: 0s - loss: 0.0812 - accuracy: 0.9770\n",
            "Epoch 28: val_accuracy did not improve from 0.81789\n",
            "87/87 [==============================] - 80s 919ms/step - loss: 0.0812 - accuracy: 0.9770 - val_loss: 0.6043 - val_accuracy: 0.8033\n",
            "Epoch 29/1000\n",
            "87/87 [==============================] - ETA: 0s - loss: 0.0816 - accuracy: 0.9771\n",
            "Epoch 29: val_accuracy did not improve from 0.81789\n",
            "87/87 [==============================] - 80s 919ms/step - loss: 0.0816 - accuracy: 0.9771 - val_loss: 0.6282 - val_accuracy: 0.8081\n",
            "Epoch 30/1000\n",
            "87/87 [==============================] - ETA: 0s - loss: 0.0774 - accuracy: 0.9774\n",
            "Epoch 30: val_accuracy did not improve from 0.81789\n",
            "87/87 [==============================] - 80s 920ms/step - loss: 0.0774 - accuracy: 0.9774 - val_loss: 0.6623 - val_accuracy: 0.7951\n",
            "Epoch 31/1000\n",
            "87/87 [==============================] - ETA: 0s - loss: 0.0741 - accuracy: 0.9782\n",
            "Epoch 31: val_accuracy did not improve from 0.81789\n",
            "87/87 [==============================] - 80s 920ms/step - loss: 0.0741 - accuracy: 0.9782 - val_loss: 0.7332 - val_accuracy: 0.7805\n",
            "Epoch 32/1000\n",
            "87/87 [==============================] - ETA: 0s - loss: 0.0635 - accuracy: 0.9841Restoring model weights from the end of the best epoch: 12.\n",
            "\n",
            "Epoch 32: val_accuracy did not improve from 0.81789\n",
            "87/87 [==============================] - 80s 923ms/step - loss: 0.0635 - accuracy: 0.9841 - val_loss: 0.6479 - val_accuracy: 0.8098\n",
            "Epoch 32: early stopping\n"
          ]
        }
      ]
    },
    {
      "cell_type": "code",
      "source": [
        "# np.save('/content/drive/MyDrive/팀 프로젝트/흉부_xray/Ch01_x_train_augmented.npy',x_train_augmented)\n",
        "# np.save('/content/drive/MyDrive/팀 프로젝트/흉부_xray/Ch01_y_train_augmented.npy',y_train_augmented)\n"
      ],
      "metadata": {
        "id": "IQkFQhObQwfF"
      },
      "execution_count": null,
      "outputs": []
    },
    {
      "cell_type": "code",
      "source": [
        "import matplotlib.pyplot as plt\n",
        "\n",
        "plt.plot(history.history['accuracy'], label = 'train_accuracy')\n",
        "plt.plot(history.history['val_accuracy'], label = 'val_accuracy')\n",
        "plt.legend()"
      ],
      "metadata": {
        "id": "zPolOyMku2L7",
        "colab": {
          "base_uri": "https://localhost:8080/",
          "height": 287
        },
        "outputId": "af8ee961-625f-4206-be4a-21a99eebb2d6"
      },
      "execution_count": null,
      "outputs": [
        {
          "output_type": "execute_result",
          "data": {
            "text/plain": [
              "<matplotlib.legend.Legend at 0x7fe4bada5370>"
            ]
          },
          "metadata": {},
          "execution_count": 9
        },
        {
          "output_type": "display_data",
          "data": {
            "text/plain": [
              "<Figure size 432x288 with 1 Axes>"
            ],
            "image/png": "[encoded data removed]"
          },
          "metadata": {
            "needs_background": "light"
          }
        }
      ]
    },
    {
      "cell_type": "code",
      "source": [
        "plt.plot(history.history['loss'], label = 'train_loss')\n",
        "plt.plot(history.history['val_loss'], label = 'val_loss')\n",
        "plt.legend()"
      ],
      "metadata": {
        "id": "Asl42mLku4wr",
        "colab": {
          "base_uri": "https://localhost:8080/",
          "height": 283
        },
        "outputId": "157a1c13-0e86-4a52-ef48-dead7bf4db98"
      },
      "execution_count": null,
      "outputs": [
        {
          "output_type": "execute_result",
          "data": {
            "text/plain": [
              "<matplotlib.legend.Legend at 0x7fe4bac8eaf0>"
            ]
          },
          "metadata": {},
          "execution_count": 10
        },
        {
          "output_type": "display_data",
          "data": {
            "text/plain": [
              "<Figure size 432x288 with 1 Axes>"
            ],
            "image/png": "[encoded data removed]"
          },
          "metadata": {
            "needs_background": "light"
          }
        }
      ]
    },
    {
      "cell_type": "code",
      "source": [],
      "metadata": {
        "id": "uf6C5o2g3SY9"
      },
      "execution_count": null,
      "outputs": []
    }
  ]
}