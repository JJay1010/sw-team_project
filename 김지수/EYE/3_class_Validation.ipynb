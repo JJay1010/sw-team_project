{
 "cells": [
  {
   "cell_type": "code",
   "execution_count": 1,
   "metadata": {},
   "outputs": [],
   "source": [
    "import tensorflow as tf\n",
    "import numpy as np\n",
    "import cv2\n",
    "import glob"
   ]
  },
  {
   "cell_type": "code",
   "execution_count": 2,
   "metadata": {},
   "outputs": [],
   "source": [
    "gpus = tf.config.list_physical_devices('GPU')\n",
    "if gpus:\n",
    "  try:\n",
    "    tf.config.experimental.set_memory_growth(gpus[0], True)\n",
    "  except RuntimeError as e:\n",
    "    # 프로그램 시작시에 메모리 증가가 설정되어야만 합니다\n",
    "    print(e)"
   ]
  },
  {
   "cell_type": "code",
   "execution_count": 3,
   "metadata": {},
   "outputs": [],
   "source": [
    "model = tf.keras.models.load_model('궤양성각막질환_DenseNet.h5')"
   ]
  },
  {
   "cell_type": "code",
   "execution_count": 4,
   "metadata": {},
   "outputs": [],
   "source": [
    "mother_dir = '2.Validation\\라벨링데이터\\개\\안구\\일반\\궤양성각막질환'\n",
    "label_dict = {'무': 0, '유': 1}\n",
    "data_0 = glob.glob(mother_dir + '/무/*.png')\n",
    "data_1 = glob.glob(mother_dir + '/상/*.jpg')\n",
    "data_2 = glob.glob(mother_dir + '/하/*.jpg')"
   ]
  },
  {
   "cell_type": "code",
   "execution_count": 5,
   "metadata": {},
   "outputs": [],
   "source": [
    "from random import sample\n",
    "n_sample = 100\n",
    "zero = sample(data_0, n_sample)\n",
    "one = sample(data_1, n_sample)\n",
    "two = sample(data_2, n_sample)\n",
    "# three = sample(data_3, n_sample)\n",
    "valid = zero + one + two #+ three"
   ]
  },
  {
   "cell_type": "code",
   "execution_count": 6,
   "metadata": {},
   "outputs": [],
   "source": [
    "from PIL import Image\n",
    "x_valid = []\n",
    "y_valid = [0] * n_sample + [1] * n_sample  + [2] * n_sample #+ [3] * n_sample\n",
    "for i in valid:\n",
    "    img = Image.open(i)\n",
    "    img = img.convert('RGB')\n",
    "    img = img.resize((224,224))\n",
    "    img = np.array(img)\n",
    "    x_valid.append(img)\n",
    "    \n",
    "x_valid = np.array(x_valid)\n",
    "y_valid = np.array(y_valid)"
   ]
  },
  {
   "cell_type": "code",
   "execution_count": 7,
   "metadata": {},
   "outputs": [
    {
     "name": "stdout",
     "output_type": "stream",
     "text": [
      "10/10 [==============================] - 5s 102ms/step - loss: 0.8477 - accuracy: 0.8267\n"
     ]
    },
    {
     "data": {
      "text/plain": [
       "[0.847726583480835, 0.8266666531562805]"
      ]
     },
     "execution_count": 7,
     "metadata": {},
     "output_type": "execute_result"
    }
   ],
   "source": [
    "model.evaluate(x_valid,y_valid)"
   ]
  },
  {
   "cell_type": "code",
   "execution_count": 8,
   "metadata": {},
   "outputs": [],
   "source": [
    "y_predict = np.argmax(model.predict(x_valid), axis = -1)"
   ]
  },
  {
   "cell_type": "code",
   "execution_count": 9,
   "metadata": {},
   "outputs": [
    {
     "data": {
      "text/plain": [
       "<function matplotlib.pyplot.show(close=None, block=None)>"
      ]
     },
     "execution_count": 9,
     "metadata": {},
     "output_type": "execute_result"
    },
    {
     "data": {
      "image/png": "[encoded data removed]",
      "text/plain": [
       "<Figure size 1200x700 with 2 Axes>"
      ]
     },
     "metadata": {},
     "output_type": "display_data"
    }
   ],
   "source": [
    "from sklearn.metrics import confusion_matrix\n",
    "import seaborn as sns\n",
    "import matplotlib.pyplot as plt\n",
    "# x_0은 label == 0인 데이터, x_1은 label == 1인 데이터만 모은 것\n",
    "cf_matrix = confusion_matrix(y_valid, y_predict) / np.array([n_sample]).reshape(-1,1)\n",
    "\n",
    "plt.figure(figsize = (12,7))\n",
    "sns.heatmap(cf_matrix, annot=True)\n",
    "plt.xlabel('predict')\n",
    "plt.ylabel('real')\n",
    "plt.show"
   ]
  },
  {
   "cell_type": "code",
   "execution_count": null,
   "metadata": {},
   "outputs": [],
   "source": []
  }
 ],
 "metadata": {
  "kernelspec": {
   "display_name": "chaddol",
   "language": "python",
   "name": "python3"
  },
  "language_info": {
   "codemirror_mode": {
    "name": "ipython",
    "version": 3
   },
   "file_extension": ".py",
   "mimetype": "text/x-python",
   "name": "python",
   "nbconvert_exporter": "python",
   "pygments_lexer": "ipython3",
   "version": "3.9.15"
  },
  "orig_nbformat": 4,
  "vscode": {
   "interpreter": {
    "hash": "a687caacb10a844a55fefd3b5f8dd537474e79b4cd9a59a4e226ce1d72456a88"
   }
  }
 },
 "nbformat": 4,
 "nbformat_minor": 2
}
