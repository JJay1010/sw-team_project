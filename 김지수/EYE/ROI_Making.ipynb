{
 "cells": [
  {
   "cell_type": "code",
   "execution_count": 99,
   "metadata": {},
   "outputs": [],
   "source": [
    "import json\n",
    "import glob\n",
    "import cv2\n",
    "import os\n",
    "from tqdm import tqdm\n",
    "from PIL import ImageFile"
   ]
  },
  {
   "cell_type": "code",
   "execution_count": 33,
   "metadata": {},
   "outputs": [],
   "source": [
    "classes = ['Ch01','Ch02','Ch03','Ch04','Ch05','Ch06']"
   ]
  },
  {
   "cell_type": "code",
   "execution_count": 100,
   "metadata": {},
   "outputs": [],
   "source": [
    "ImageFile.LOAD_TRUNCATED_IMAGES = True"
   ]
  },
  {
   "cell_type": "code",
   "execution_count": 18,
   "metadata": {},
   "outputs": [
    {
     "name": "stderr",
     "output_type": "stream",
     "text": [
      "100%|██████████| 6149/6149 [00:00<00:00, 8027.32it/s]\n",
      "100%|██████████| 9412/9412 [00:01<00:00, 8083.67it/s]\n",
      "100%|██████████| 9958/9958 [00:01<00:00, 8077.66it/s]\n",
      "100%|██████████| 21835/21835 [00:02<00:00, 8380.24it/s]\n",
      "100%|██████████| 15551/15551 [00:01<00:00, 8071.48it/s]\n",
      "100%|██████████| 22542/22542 [00:02<00:00, 8111.77it/s]\n"
     ]
    }
   ],
   "source": [
    "mother_dir = 'Training/label/'\n",
    "for c in classes:\n",
    "    label_dir = mother_dir + c\n",
    "    label_json = glob.glob(label_dir + '/*.json')\n",
    "    for label in tqdm(label_json):\n",
    "        with open(label, 'r', encoding='utf-8') as j:\n",
    "            data = json.load(j)\n",
    "            status = data['metadata']['Disease']\n",
    "            init_img_dir = 'Training/raw/' + data['fileName'][:-4] + 'jpg'\n",
    "            img_dir = 'Training/raw/'+ c + '/'+ status + '/' + data['fileName'][:-4] + 'jpg'\n",
    "            try:\n",
    "                os.rename(init_img_dir, img_dir)\n",
    "            except:\n",
    "                continue\n",
    "            "
   ]
  },
  {
   "cell_type": "code",
   "execution_count": 114,
   "metadata": {},
   "outputs": [],
   "source": [
    "import numpy as np\n",
    "import matplotlib.pyplot as plt\n",
    "def padding(json_path):\n",
    "    with open(json_path, 'r', encoding='utf-8') as j:\n",
    "        data = json.load(j)\n",
    "        # 사진 경로\n",
    "        status = data['metadata']['Disease']\n",
    "        c = data['metadata']['Disease-Name']\n",
    "        img_dir = 'Training/raw/'+ c + '/'+ status + '/' + data['fileName'][:-4] + 'jpg'\n",
    "        img = Image.open(img_dir)\n",
    "        img = img.convert('RGB')\n",
    "        img_array = np.array(img)\n",
    "        w, h = img.size\n",
    "        if w == 224 and h == 224:\n",
    "            return\n",
    "\n",
    "        min_x, min_y = 1e9, 1e9\n",
    "        max_x, max_y = -1e9, -1e9\n",
    "        \n",
    "        # ROI 추출\n",
    "        points = data['annotations'][0]['points']\n",
    "        for point in points:\n",
    "            x, y = point\n",
    "            min_x = min(min_x,x)\n",
    "            min_y = min(min_y,y)\n",
    "            max_x = max(max_x,x)\n",
    "            max_y = max(max_y,y)\n",
    "        dx, dy = max_x-min_x, max_y-min_y\n",
    "        w = max(dx,dy)\n",
    "    \n",
    "\n",
    "    # Determine the size of the padding to add\n",
    "    right_pad = 4100 - w\n",
    "    bottom_pad = 4100 - h\n",
    "\n",
    "    # Create a padding array with zeros\n",
    "    pad_width = ((0, bottom_pad), (0, right_pad), (0, 0))\n",
    "    padded_img_array = np.pad(img_array, pad_width, mode='constant', constant_values=0)\n",
    "\n",
    "    # Convert the padded array back to an image and save\n",
    "    # padded_img = Image.fromarray(padded_img_array)\n",
    "\n",
    "    if min_x >= 100 and min_y >= 100:    \n",
    "        cropped_img = padded_img_array[min_y-100:min_y+w+100,min_x-100:min_x+w+100]\n",
    "    else:\n",
    "        min_margin = min(min_x,min_y)\n",
    "        cropped_img = padded_img_array[min_y-min_margin:min_y+w+100,min_x-min_margin:min_x+w+100]\n",
    "\n",
    "    \n",
    "    \n",
    "    cropped_img = cv2.resize(cropped_img,(224,224))\n",
    "    cv2.imwrite(img_dir, cropped_img)\n",
    "    return\n",
    "\n"
   ]
  },
  {
   "cell_type": "code",
   "execution_count": 115,
   "metadata": {},
   "outputs": [
    {
     "name": "stdout",
     "output_type": "stream",
     "text": [
      "Ch06\n"
     ]
    },
    {
     "name": "stderr",
     "output_type": "stream",
     "text": [
      " 21%|██        | 4740/22542 [00:03<00:17, 989.68it/s] "
     ]
    },
    {
     "name": "stdout",
     "output_type": "stream",
     "text": [
      "error\n"
     ]
    },
    {
     "name": "stderr",
     "output_type": "stream",
     "text": [
      " 35%|███▍      | 7807/22542 [00:13<00:50, 289.88it/s]"
     ]
    },
    {
     "name": "stdout",
     "output_type": "stream",
     "text": [
      "error\n"
     ]
    },
    {
     "name": "stderr",
     "output_type": "stream",
     "text": [
      " 36%|███▋      | 8226/22542 [00:21<12:43, 18.75it/s] "
     ]
    }
   ],
   "source": [
    "error_array = []\n",
    "for c in classes[-1:]:\n",
    "    print(c)\n",
    "    label_dir = mother_dir + c\n",
    "    label_json = glob.glob(label_dir + '/*.json')\n",
    "    # print(label_json[:1])\n",
    "    for label in tqdm(label_json):\n",
    "        try:\n",
    "            padding(label)\n",
    "        except TypeError:\n",
    "            error_array.append(label)\n",
    "            print('error')\n",
    "            continue\n"
   ]
  },
  {
   "cell_type": "code",
   "execution_count": 55,
   "metadata": {},
   "outputs": [
    {
     "name": "stdout",
     "output_type": "stream",
     "text": [
      "Ch01\n",
      "0\n",
      "Ch02\n",
      "0\n",
      "Ch03\n",
      "4000\n",
      "Ch04\n",
      "4000\n",
      "Ch05\n",
      "3947\n",
      "Ch06\n",
      "4000\n"
     ]
    }
   ],
   "source": [
    "# 패딩을 위한 이미지 데이터 크기 최대값 (Lateral)\n",
    "from PIL import Image\n",
    "\n",
    "for c in classes:\n",
    "    print(c)\n",
    "    label_dir = mother_dir + c\n",
    "    label_json = glob.glob(label_dir + '/*.json')\n",
    "    # print(label_json[:1])\n",
    "    # min_x,min_y,max_x,max_y = 1e9,1e9,-1e9,-1e9\n",
    "    max_size = 0\n",
    "    for label in label_json:\n",
    "        with open(label, 'r', encoding='utf-8') as j:\n",
    "            data = json.load(j)\n",
    "            # 사진 경로\n",
    "            pose    = data['metadata']['Position']\n",
    "            if pose != 'Lateral':\n",
    "                status  = data['metadata']['Disease']\n",
    "                img_dir = 'Training/raw/'+ c + '/'+ status + '/' + data['fileName'][:-4] + 'jpg'\n",
    "                img = Image.open(img_dir)\n",
    "                w, h = img.size\n",
    "                max_size = max(max_size, max(w, h))\n",
    "    print(max_size)"
   ]
  },
  {
   "attachments": {},
   "cell_type": "markdown",
   "metadata": {},
   "source": [
    "모든 사진의 최대 크기를 4000이라 가정해도 무방하다. 대부분 3990정도"
   ]
  },
  {
   "cell_type": "code",
   "execution_count": null,
   "metadata": {},
   "outputs": [],
   "source": [
    "lateral_max_size = {'Ch01':3986,'Ch02':3991,'Ch03':0,'Ch04':3995,'Ch05':3983,'Ch06':3995}\n",
    "VD_max_size = {'Ch01':0,'Ch02':0,'Ch03':4000,'Ch04':4000,'Ch05':4000,'Ch06':4000}"
   ]
  },
  {
   "cell_type": "code",
   "execution_count": null,
   "metadata": {},
   "outputs": [],
   "source": []
  }
 ],
 "metadata": {
  "kernelspec": {
   "display_name": "chaddol",
   "language": "python",
   "name": "python3"
  },
  "language_info": {
   "codemirror_mode": {
    "name": "ipython",
    "version": 3
   },
   "file_extension": ".py",
   "mimetype": "text/x-python",
   "name": "python",
   "nbconvert_exporter": "python",
   "pygments_lexer": "ipython3",
   "version": "3.9.15"
  },
  "orig_nbformat": 4,
  "vscode": {
   "interpreter": {
    "hash": "a687caacb10a844a55fefd3b5f8dd537474e79b4cd9a59a4e226ce1d72456a88"
   }
  }
 },
 "nbformat": 4,
 "nbformat_minor": 2
}
