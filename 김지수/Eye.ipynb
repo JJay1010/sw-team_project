{
  "cells": [
    {
      "cell_type": "code",
      "execution_count": 1,
      "metadata": {
        "id": "iJJF_uOf2OjH"
      },
      "outputs": [],
      "source": [
        "import glob\n",
        "import tensorflow as tf\n",
        "import numpy as np\n",
        "import matplotlib.pyplot as plt\n",
        "# import cv2\n",
        "from keras.preprocessing.image import ImageDataGenerator"
      ]
    },
    {
      "cell_type": "code",
      "execution_count": 2,
      "metadata": {},
      "outputs": [
        {
          "data": {
            "text/plain": [
              "'2.6.0'"
            ]
          },
          "execution_count": 2,
          "metadata": {},
          "output_type": "execute_result"
        }
      ],
      "source": [
        "tf.__version__"
      ]
    },
    {
      "cell_type": "code",
      "execution_count": 3,
      "metadata": {},
      "outputs": [],
      "source": [
        "gpus = tf.config.list_physical_devices('GPU')\n",
        "if gpus:\n",
        "  try:\n",
        "    tf.config.experimental.set_memory_growth(gpus[0], True)\n",
        "  except RuntimeError as e:\n",
        "    # 프로그램 시작시에 메모리 증가가 설정되어야만 합니다\n",
        "    print(e)"
      ]
    },
    {
      "cell_type": "code",
      "execution_count": 4,
      "metadata": {
        "id": "QIXJ4SNMNkvo"
      },
      "outputs": [],
      "source": [
        "train_datagen = ImageDataGenerator(rotation_range=90,\n",
        "                                   width_shift_range=0.2,\n",
        "                                   height_shift_range=0.2,\n",
        "                                   shear_range=0.2,\n",
        "                                   zoom_range=0.2,\n",
        "                                   horizontal_flip=True,\n",
        "                                   fill_mode='nearest',\n",
        "                                   validation_split=0.2\n",
        "                                   )\n",
        "\n",
        "test_datagen = ImageDataGenerator(validation_split=0.2)\n",
        "\n",
        "valid_datagen = ImageDataGenerator(validation_split=0.5)"
      ]
    },
    {
      "cell_type": "code",
      "execution_count": 5,
      "metadata": {},
      "outputs": [],
      "source": [
        "disease_name = input('원하는 질병 이름을 입력하세요: ')\n",
        "animal = input('동물 종류 (개 or 고양이): ')"
      ]
    },
    {
      "cell_type": "code",
      "execution_count": 6,
      "metadata": {
        "id": "MSssgy1KjGdl"
      },
      "outputs": [],
      "source": [
        "data_dir = '1.Training/라벨링데이터/' + animal + '/안구/일반/' + disease_name"
      ]
    },
    {
      "cell_type": "code",
      "execution_count": 7,
      "metadata": {},
      "outputs": [],
      "source": [
        "input_shape = 224"
      ]
    },
    {
      "cell_type": "code",
      "execution_count": 8,
      "metadata": {
        "colab": {
          "base_uri": "https://localhost:8080/"
        },
        "id": "OD2cahEBheyr",
        "outputId": "e77ce34d-aa53-4db4-fd93-ee84548abf13"
      },
      "outputs": [
        {
          "name": "stdout",
          "output_type": "stream",
          "text": [
            "Found 22023 images belonging to 4 classes.\n",
            "Found 5504 images belonging to 4 classes.\n"
          ]
        }
      ],
      "source": [
        "train_generator = train_datagen.flow_from_directory(data_dir,\n",
        "                                                    target_size = (input_shape,input_shape),\n",
        "                                                    batch_size=32,\n",
        "                                                    class_mode='sparse',\n",
        "                                                    seed=42,\n",
        "                                                    subset='training')\n",
        "\n",
        "test_generator = test_datagen.flow_from_directory(data_dir,\n",
        "                                                  target_size=(input_shape,input_shape),\n",
        "                                                  batch_size=32,\n",
        "                                                  class_mode='sparse',\n",
        "                                                  seed=42,\n",
        "                                                  subset='validation')"
      ]
    },
    {
      "cell_type": "code",
      "execution_count": 9,
      "metadata": {},
      "outputs": [
        {
          "data": {
            "text/plain": [
              "{'무': 0, '비성숙': 1, '성숙': 2, '초기': 3}"
            ]
          },
          "execution_count": 9,
          "metadata": {},
          "output_type": "execute_result"
        }
      ],
      "source": [
        "labels = (train_generator.class_indices)\n",
        "n_classes = len(labels)\n",
        "labels"
      ]
    },
    {
      "cell_type": "code",
      "execution_count": 10,
      "metadata": {},
      "outputs": [],
      "source": [
        "model = tf.keras.models.load_model('개_백내장_DenseNet.h5')"
      ]
    },
    {
      "cell_type": "code",
      "execution_count": 10,
      "metadata": {
        "colab": {
          "base_uri": "https://localhost:8080/"
        },
        "id": "xl5TE2YVmgCY",
        "outputId": "2a926223-9942-49af-bbda-cd74d53bfa97"
      },
      "outputs": [],
      "source": [
        "from keras.applications.densenet import DenseNet121\n",
        "from keras.layers import Dense, GlobalAveragePooling2D\n",
        "from keras.models import Model\n",
        "\n",
        "# Load the pre-trained DenseNet121 model\n",
        "base_model = DenseNet121(weights='imagenet', include_top=False, input_shape=(input_shape, input_shape, 3))\n",
        "\n",
        "# Add a GlobalAveragePooling2D layer to reduce the spatial dimensions\n",
        "x = base_model.output\n",
        "x = GlobalAveragePooling2D()(x)\n",
        "\n",
        "# Add a fully connected layer with a single output for binary classification\n",
        "x = Dense(n_classes, activation='softmax')(x)\n",
        "\n",
        "# Create the final model by attaching the binary classification head to the base model\n",
        "model = Model(inputs=base_model.input, outputs=x)"
      ]
    },
    {
      "cell_type": "code",
      "execution_count": 16,
      "metadata": {
        "id": "gwPuzvL6opI_"
      },
      "outputs": [],
      "source": [
        "model.compile(optimizer=tf.keras.optimizers.Adam(learning_rate=0.00001),\n",
        "               \n",
        "               loss='sparse_categorical_crossentropy',\n",
        "               metrics=['accuracy'])\n",
        "\n",
        "saved_model = animal + '_' + disease_name + '_DenseNet_100epoch.h5'\n",
        "\n",
        "es = tf.keras.callbacks.EarlyStopping(monitor='val_loss', mode='min', verbose=1, patience=10,restore_best_weights=True)\n",
        "mc = tf.keras.callbacks.ModelCheckpoint(saved_model, monitor='val_accuracy', mode='max', verbose=1, save_best_only=True)"
      ]
    },
    {
      "cell_type": "code",
      "execution_count": 17,
      "metadata": {
        "colab": {
          "base_uri": "https://localhost:8080/"
        },
        "id": "1b8FVVaynSZH",
        "outputId": "21a7bbe9-5cf5-4838-f85c-63fe60bea4f2"
      },
      "outputs": [
        {
          "name": "stdout",
          "output_type": "stream",
          "text": [
            "Epoch 1/50\n",
            "689/689 [==============================] - 178s 247ms/step - loss: 0.1172 - accuracy: 0.9558 - val_loss: 0.2686 - val_accuracy: 0.9139\n",
            "\n",
            "Epoch 00001: val_accuracy improved from -inf to 0.91388, saving model to 개_백내장_DenseNet_100epoch.h5\n",
            "Epoch 2/50\n",
            "689/689 [==============================] - 169s 246ms/step - loss: 0.1246 - accuracy: 0.9529 - val_loss: 0.2703 - val_accuracy: 0.9139\n",
            "\n",
            "Epoch 00002: val_accuracy did not improve from 0.91388\n",
            "Epoch 3/50\n",
            "689/689 [==============================] - 169s 244ms/step - loss: 0.1232 - accuracy: 0.9544 - val_loss: 0.2678 - val_accuracy: 0.9133\n",
            "\n",
            "Epoch 00003: val_accuracy did not improve from 0.91388\n",
            "Epoch 4/50\n",
            "689/689 [==============================] - 169s 246ms/step - loss: 0.1177 - accuracy: 0.9540 - val_loss: 0.2680 - val_accuracy: 0.9137\n",
            "\n",
            "Epoch 00004: val_accuracy did not improve from 0.91388\n",
            "Epoch 5/50\n",
            "689/689 [==============================] - 169s 245ms/step - loss: 0.1178 - accuracy: 0.9552 - val_loss: 0.2688 - val_accuracy: 0.9133\n",
            "\n",
            "Epoch 00005: val_accuracy did not improve from 0.91388\n",
            "Epoch 6/50\n",
            "689/689 [==============================] - 170s 246ms/step - loss: 0.1191 - accuracy: 0.9549 - val_loss: 0.2672 - val_accuracy: 0.9141\n",
            "\n",
            "Epoch 00006: val_accuracy improved from 0.91388 to 0.91406, saving model to 개_백내장_DenseNet_100epoch.h5\n",
            "Epoch 7/50\n",
            "689/689 [==============================] - 170s 246ms/step - loss: 0.1161 - accuracy: 0.9560 - val_loss: 0.2669 - val_accuracy: 0.9141\n",
            "\n",
            "Epoch 00007: val_accuracy did not improve from 0.91406\n",
            "Epoch 8/50\n",
            "689/689 [==============================] - 169s 245ms/step - loss: 0.1177 - accuracy: 0.9569 - val_loss: 0.2685 - val_accuracy: 0.9130\n",
            "\n",
            "Epoch 00008: val_accuracy did not improve from 0.91406\n",
            "Epoch 9/50\n",
            "689/689 [==============================] - 169s 244ms/step - loss: 0.1185 - accuracy: 0.9545 - val_loss: 0.2680 - val_accuracy: 0.9148\n",
            "\n",
            "Epoch 00009: val_accuracy improved from 0.91406 to 0.91479, saving model to 개_백내장_DenseNet_100epoch.h5\n",
            "Epoch 10/50\n",
            "689/689 [==============================] - 171s 247ms/step - loss: 0.1117 - accuracy: 0.9585 - val_loss: 0.2680 - val_accuracy: 0.9148\n",
            "\n",
            "Epoch 00010: val_accuracy did not improve from 0.91479\n",
            "Epoch 11/50\n",
            "689/689 [==============================] - 170s 247ms/step - loss: 0.1122 - accuracy: 0.9575 - val_loss: 0.2673 - val_accuracy: 0.9159\n",
            "\n",
            "Epoch 00011: val_accuracy improved from 0.91479 to 0.91588, saving model to 개_백내장_DenseNet_100epoch.h5\n",
            "Epoch 12/50\n",
            "689/689 [==============================] - 174s 252ms/step - loss: 0.1161 - accuracy: 0.9566 - val_loss: 0.2663 - val_accuracy: 0.9161\n",
            "\n",
            "Epoch 00012: val_accuracy improved from 0.91588 to 0.91606, saving model to 개_백내장_DenseNet_100epoch.h5\n",
            "Epoch 13/50\n",
            "689/689 [==============================] - 168s 244ms/step - loss: 0.1124 - accuracy: 0.9580 - val_loss: 0.2677 - val_accuracy: 0.9153\n",
            "\n",
            "Epoch 00013: val_accuracy did not improve from 0.91606\n",
            "Epoch 14/50\n",
            "689/689 [==============================] - 168s 244ms/step - loss: 0.1176 - accuracy: 0.9571 - val_loss: 0.2668 - val_accuracy: 0.9146\n",
            "\n",
            "Epoch 00014: val_accuracy did not improve from 0.91606\n",
            "Epoch 15/50\n",
            "689/689 [==============================] - 168s 244ms/step - loss: 0.1125 - accuracy: 0.9591 - val_loss: 0.2659 - val_accuracy: 0.9164\n",
            "\n",
            "Epoch 00015: val_accuracy improved from 0.91606 to 0.91642, saving model to 개_백내장_DenseNet_100epoch.h5\n",
            "Epoch 16/50\n",
            "689/689 [==============================] - 170s 246ms/step - loss: 0.1126 - accuracy: 0.9566 - val_loss: 0.2672 - val_accuracy: 0.9161\n",
            "\n",
            "Epoch 00016: val_accuracy did not improve from 0.91642\n",
            "Epoch 17/50\n",
            "689/689 [==============================] - 169s 245ms/step - loss: 0.1130 - accuracy: 0.9569 - val_loss: 0.2661 - val_accuracy: 0.9157\n",
            "\n",
            "Epoch 00017: val_accuracy did not improve from 0.91642\n",
            "Epoch 18/50\n",
            "689/689 [==============================] - 169s 245ms/step - loss: 0.1119 - accuracy: 0.9571 - val_loss: 0.2663 - val_accuracy: 0.9155\n",
            "\n",
            "Epoch 00018: val_accuracy did not improve from 0.91642\n",
            "Epoch 19/50\n",
            "689/689 [==============================] - 169s 245ms/step - loss: 0.1156 - accuracy: 0.9564 - val_loss: 0.2671 - val_accuracy: 0.9164\n",
            "\n",
            "Epoch 00019: val_accuracy did not improve from 0.91642\n",
            "Epoch 20/50\n",
            "689/689 [==============================] - 169s 246ms/step - loss: 0.1110 - accuracy: 0.9578 - val_loss: 0.2672 - val_accuracy: 0.9155\n",
            "\n",
            "Epoch 00020: val_accuracy did not improve from 0.91642\n",
            "Epoch 21/50\n",
            "689/689 [==============================] - 170s 246ms/step - loss: 0.1113 - accuracy: 0.9579 - val_loss: 0.2675 - val_accuracy: 0.9170\n",
            "\n",
            "Epoch 00021: val_accuracy improved from 0.91642 to 0.91697, saving model to 개_백내장_DenseNet_100epoch.h5\n",
            "Epoch 22/50\n",
            "689/689 [==============================] - 170s 246ms/step - loss: 0.1103 - accuracy: 0.9595 - val_loss: 0.2666 - val_accuracy: 0.9172\n",
            "\n",
            "Epoch 00022: val_accuracy improved from 0.91697 to 0.91715, saving model to 개_백내장_DenseNet_100epoch.h5\n",
            "Epoch 23/50\n",
            "689/689 [==============================] - 171s 247ms/step - loss: 0.1108 - accuracy: 0.9580 - val_loss: 0.2638 - val_accuracy: 0.9173\n",
            "\n",
            "Epoch 00023: val_accuracy improved from 0.91715 to 0.91733, saving model to 개_백내장_DenseNet_100epoch.h5\n",
            "Epoch 24/50\n",
            "689/689 [==============================] - 171s 247ms/step - loss: 0.1100 - accuracy: 0.9592 - val_loss: 0.2649 - val_accuracy: 0.9168\n",
            "\n",
            "Epoch 00024: val_accuracy did not improve from 0.91733\n",
            "Epoch 25/50\n",
            "689/689 [==============================] - 171s 248ms/step - loss: 0.1088 - accuracy: 0.9587 - val_loss: 0.2655 - val_accuracy: 0.9157\n",
            "\n",
            "Epoch 00025: val_accuracy did not improve from 0.91733\n",
            "Epoch 26/50\n",
            "689/689 [==============================] - 171s 248ms/step - loss: 0.1080 - accuracy: 0.9597 - val_loss: 0.2642 - val_accuracy: 0.9168\n",
            "\n",
            "Epoch 00026: val_accuracy did not improve from 0.91733\n",
            "Epoch 27/50\n",
            "689/689 [==============================] - 169s 245ms/step - loss: 0.1075 - accuracy: 0.9595 - val_loss: 0.2655 - val_accuracy: 0.9162\n",
            "\n",
            "Epoch 00027: val_accuracy did not improve from 0.91733\n",
            "Epoch 28/50\n",
            "689/689 [==============================] - 170s 246ms/step - loss: 0.1106 - accuracy: 0.9582 - val_loss: 0.2624 - val_accuracy: 0.9181\n",
            "\n",
            "Epoch 00028: val_accuracy improved from 0.91733 to 0.91806, saving model to 개_백내장_DenseNet_100epoch.h5\n",
            "Epoch 29/50\n",
            "689/689 [==============================] - 170s 246ms/step - loss: 0.1066 - accuracy: 0.9595 - val_loss: 0.2635 - val_accuracy: 0.9173\n",
            "\n",
            "Epoch 00029: val_accuracy did not improve from 0.91806\n",
            "Epoch 30/50\n",
            "689/689 [==============================] - 169s 245ms/step - loss: 0.1070 - accuracy: 0.9601 - val_loss: 0.2626 - val_accuracy: 0.9172\n",
            "\n",
            "Epoch 00030: val_accuracy did not improve from 0.91806\n",
            "Epoch 31/50\n",
            "689/689 [==============================] - 169s 245ms/step - loss: 0.1095 - accuracy: 0.9590 - val_loss: 0.2637 - val_accuracy: 0.9161\n",
            "\n",
            "Epoch 00031: val_accuracy did not improve from 0.91806\n",
            "Epoch 32/50\n",
            "689/689 [==============================] - 172s 249ms/step - loss: 0.1075 - accuracy: 0.9587 - val_loss: 0.2644 - val_accuracy: 0.9157\n",
            "\n",
            "Epoch 00032: val_accuracy did not improve from 0.91806\n",
            "Epoch 33/50\n",
            "689/689 [==============================] - 176s 255ms/step - loss: 0.1101 - accuracy: 0.9602 - val_loss: 0.2642 - val_accuracy: 0.9175\n",
            "\n",
            "Epoch 00033: val_accuracy did not improve from 0.91806\n",
            "Epoch 34/50\n",
            "689/689 [==============================] - 171s 248ms/step - loss: 0.1021 - accuracy: 0.9609 - val_loss: 0.2644 - val_accuracy: 0.9181\n",
            "\n",
            "Epoch 00034: val_accuracy did not improve from 0.91806\n",
            "Epoch 35/50\n",
            "689/689 [==============================] - 169s 245ms/step - loss: 0.1050 - accuracy: 0.9610 - val_loss: 0.2646 - val_accuracy: 0.9190\n",
            "\n",
            "Epoch 00035: val_accuracy improved from 0.91806 to 0.91897, saving model to 개_백내장_DenseNet_100epoch.h5\n",
            "Epoch 36/50\n",
            "689/689 [==============================] - 169s 246ms/step - loss: 0.1040 - accuracy: 0.9625 - val_loss: 0.2643 - val_accuracy: 0.9190\n",
            "\n",
            "Epoch 00036: val_accuracy did not improve from 0.91897\n",
            "Epoch 37/50\n",
            "689/689 [==============================] - 169s 245ms/step - loss: 0.1060 - accuracy: 0.9599 - val_loss: 0.2635 - val_accuracy: 0.9182\n",
            "\n",
            "Epoch 00037: val_accuracy did not improve from 0.91897\n",
            "Epoch 38/50\n",
            "689/689 [==============================] - 170s 246ms/step - loss: 0.1020 - accuracy: 0.9620 - val_loss: 0.2641 - val_accuracy: 0.9191\n",
            "Restoring model weights from the end of the best epoch.\n",
            "\n",
            "Epoch 00038: val_accuracy improved from 0.91897 to 0.91915, saving model to 개_백내장_DenseNet_100epoch.h5\n",
            "Epoch 00038: early stopping\n"
          ]
        }
      ],
      "source": [
        "history = model.fit(train_generator,\n",
        "          epochs=50,\n",
        "          validation_data=test_generator,\n",
        "        #   steps_per_epoch=len(train_generator),\n",
        "        #   validation_steps=len(test_generator),\n",
        "          callbacks=[es, mc]\n",
        "          )"
      ]
    },
    {
      "cell_type": "code",
      "execution_count": 13,
      "metadata": {
        "id": "5sv7EDuXoY38"
      },
      "outputs": [
        {
          "data": {
            "image/png": "[encoded data removed]",
            "text/plain": [
              "<Figure size 1200x500 with 2 Axes>"
            ]
          },
          "metadata": {},
          "output_type": "display_data"
        }
      ],
      "source": [
        "import matplotlib.pyplot as plt\n",
        "\n",
        "loss = history.history['loss']\n",
        "epochs = range(1, len(loss)+1)\n",
        "\n",
        "plt.figure(figsize=(12, 5))\n",
        "plt.subplot(1, 2, 1)\n",
        "plt.title('Loss')\n",
        "plt.plot(epochs, history.history['loss'], 'b', label='train_loss')\n",
        "plt.plot(epochs, history.history['val_loss'], 'g', label='val_loss')\n",
        "plt.ylim([0,1.0])\n",
        "plt.grid(True)\n",
        "plt.xlabel('Epoch')\n",
        "plt.ylabel('Loss')\n",
        "plt.legend(loc='best')\n",
        "\n",
        "plt.subplot(1, 2, 2)\n",
        "plt.title('Accuray')\n",
        "plt.plot(epochs, history.history['accuracy'], 'b', label='train_accuracy')\n",
        "plt.plot(epochs, history.history['val_accuracy'], 'g', label='val_accuracy')\n",
        "plt.ylim([0.7,1])\n",
        "plt.grid(True)\n",
        "plt.ylabel('Accuracy')\n",
        "plt.legend(loc='best')\n",
        "plt.show()"
      ]
    },
    {
      "cell_type": "code",
      "execution_count": null,
      "metadata": {},
      "outputs": [],
      "source": []
    }
  ],
  "metadata": {
    "accelerator": "GPU",
    "colab": {
      "provenance": []
    },
    "gpuClass": "standard",
    "kernelspec": {
      "display_name": "chaddol",
      "language": "python",
      "name": "python3"
    },
    "language_info": {
      "codemirror_mode": {
        "name": "ipython",
        "version": 3
      },
      "file_extension": ".py",
      "mimetype": "text/x-python",
      "name": "python",
      "nbconvert_exporter": "python",
      "pygments_lexer": "ipython3",
      "version": "3.9.15"
    },
    "vscode": {
      "interpreter": {
        "hash": "a687caacb10a844a55fefd3b5f8dd537474e79b4cd9a59a4e226ce1d72456a88"
      }
    }
  },
  "nbformat": 4,
  "nbformat_minor": 0
}
