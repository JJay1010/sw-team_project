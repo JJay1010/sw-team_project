{
  "cells": [
    {
      "cell_type": "code",
      "execution_count": 2,
      "metadata": {
        "id": "iJJF_uOf2OjH"
      },
      "outputs": [],
      "source": [
        "import glob\n",
        "import tensorflow as tf\n",
        "import numpy as np\n",
        "import matplotlib.pyplot as plt\n",
        "import cv2\n",
        "from keras.preprocessing.image import ImageDataGenerator"
      ]
    },
    {
      "cell_type": "code",
      "execution_count": 3,
      "metadata": {},
      "outputs": [
        {
          "data": {
            "text/plain": [
              "'2.6.0'"
            ]
          },
          "execution_count": 3,
          "metadata": {},
          "output_type": "execute_result"
        }
      ],
      "source": [
        "tf.__version__"
      ]
    },
    {
      "cell_type": "code",
      "execution_count": 4,
      "metadata": {},
      "outputs": [],
      "source": [
        "gpus = tf.config.list_physical_devices('GPU')\n",
        "if gpus:\n",
        "  try:\n",
        "    tf.config.experimental.set_memory_growth(gpus[0], True)\n",
        "  except RuntimeError as e:\n",
        "    # 프로그램 시작시에 메모리 증가가 설정되어야만 합니다\n",
        "    print(e)"
      ]
    },
    {
      "cell_type": "code",
      "execution_count": 5,
      "metadata": {
        "id": "QIXJ4SNMNkvo"
      },
      "outputs": [],
      "source": [
        "train_datagen = ImageDataGenerator(rotation_range=90,\n",
        "                                   width_shift_range=0.2,\n",
        "                                   height_shift_range=0.2,\n",
        "                                   shear_range=0.2,\n",
        "                                   zoom_range=0.2,\n",
        "                                   horizontal_flip=True,\n",
        "                                   fill_mode='nearest'\n",
        "                                   )\n",
        "\n",
        "test_datagen = ImageDataGenerator(validation_split=0.2)\n",
        "\n",
        "valid_datagen = ImageDataGenerator(validation_split=0.5)"
      ]
    },
    {
      "cell_type": "code",
      "execution_count": null,
      "metadata": {},
      "outputs": [],
      "source": [
        "disease_name = input('원하는 질병 이름을 입력하세요: ')"
      ]
    },
    {
      "cell_type": "code",
      "execution_count": 6,
      "metadata": {
        "id": "MSssgy1KjGdl"
      },
      "outputs": [],
      "source": [
        "data_dir = '1.Training/라벨링데이터/TL1/개/안구/일반/' + disease_name"
      ]
    },
    {
      "cell_type": "code",
      "execution_count": 7,
      "metadata": {
        "colab": {
          "base_uri": "https://localhost:8080/"
        },
        "id": "OD2cahEBheyr",
        "outputId": "e77ce34d-aa53-4db4-fd93-ee84548abf13"
      },
      "outputs": [
        {
          "name": "stdout",
          "output_type": "stream",
          "text": [
            "Found 20621 images belonging to 3 classes.\n",
            "Found 4124 images belonging to 3 classes.\n"
          ]
        }
      ],
      "source": [
        "train_generator = train_datagen.flow_from_directory(data_dir,\n",
        "                                                    target_size = (224,224),\n",
        "                                                    batch_size=32,\n",
        "                                                    class_mode='sparse',\n",
        "                                                    seed=42,\n",
        "                                                    subset='training')\n",
        "\n",
        "test_generator = test_datagen.flow_from_directory(data_dir,\n",
        "                                                  target_size=(224,224),\n",
        "                                                  batch_size=32,\n",
        "                                                  class_mode='sparse',\n",
        "                                                  seed=42,\n",
        "                                                  subset='validation')"
      ]
    },
    {
      "cell_type": "code",
      "execution_count": 9,
      "metadata": {},
      "outputs": [
        {
          "data": {
            "text/plain": [
              "{'무': 0, '상': 1, '하': 2}"
            ]
          },
          "execution_count": 9,
          "metadata": {},
          "output_type": "execute_result"
        }
      ],
      "source": [
        "labels = (train_generator.class_indices)\n",
        "n_classes = len(labels)"
      ]
    },
    {
      "cell_type": "code",
      "execution_count": 10,
      "metadata": {
        "colab": {
          "base_uri": "https://localhost:8080/"
        },
        "id": "xl5TE2YVmgCY",
        "outputId": "2a926223-9942-49af-bbda-cd74d53bfa97"
      },
      "outputs": [],
      "source": [
        "from keras.applications.densenet import DenseNet121\n",
        "from keras.layers import Dense, GlobalAveragePooling2D\n",
        "from keras.models import Model\n",
        "\n",
        "# Load the pre-trained DenseNet121 model\n",
        "base_model = DenseNet121(weights='imagenet', include_top=False, input_shape=(224, 224, 3))\n",
        "\n",
        "# Add a GlobalAveragePooling2D layer to reduce the spatial dimensions\n",
        "x = base_model.output\n",
        "x = GlobalAveragePooling2D()(x)\n",
        "\n",
        "# Add a fully connected layer with a single output for binary classification\n",
        "x = Dense(n_classes, activation='softmax')(x)\n",
        "\n",
        "# Create the final model by attaching the binary classification head to the base model\n",
        "model = Model(inputs=base_model.input, outputs=x)"
      ]
    },
    {
      "cell_type": "code",
      "execution_count": 16,
      "metadata": {
        "id": "gwPuzvL6opI_"
      },
      "outputs": [],
      "source": [
        "model.compile(optimizer=tf.keras.optimizers.Adam(learning_rate=0.001),\n",
        "               \n",
        "               loss='sparse_categorical_crossentropy',\n",
        "               metrics=['accuracy'])\n",
        "\n",
        "saved_model = disease_name + '_DenseNet.h5'\n",
        "\n",
        "es = tf.keras.callbacks.EarlyStopping(monitor='val_loss', mode='min', verbose=1, patience=5,restore_best_weights=True)\n",
        "mc = tf.keras.callbacks.ModelCheckpoint(saved_model, monitor='val_accuracy', mode='max', verbose=1, save_best_only=True)"
      ]
    },
    {
      "cell_type": "code",
      "execution_count": 17,
      "metadata": {
        "colab": {
          "base_uri": "https://localhost:8080/"
        },
        "id": "1b8FVVaynSZH",
        "outputId": "21a7bbe9-5cf5-4838-f85c-63fe60bea4f2"
      },
      "outputs": [
        {
          "name": "stdout",
          "output_type": "stream",
          "text": [
            "Epoch 1/50\n",
            "645/645 [==============================] - 251s 369ms/step - loss: 0.3760 - accuracy: 0.8429 - val_loss: 5.4334 - val_accuracy: 0.5754\n",
            "\n",
            "Epoch 00001: val_accuracy improved from -inf to 0.57541, saving model to 궤양성각막질환_DenseNet.h5\n",
            "Epoch 2/50\n",
            "645/645 [==============================] - 170s 264ms/step - loss: 0.2766 - accuracy: 0.8867 - val_loss: 0.3931 - val_accuracy: 0.8358\n",
            "\n",
            "Epoch 00002: val_accuracy improved from 0.57541 to 0.83584, saving model to 궤양성각막질환_DenseNet.h5\n",
            "Epoch 3/50\n",
            "645/645 [==============================] - 165s 256ms/step - loss: 0.2443 - accuracy: 0.9022 - val_loss: 0.3281 - val_accuracy: 0.8797\n",
            "\n",
            "Epoch 00003: val_accuracy improved from 0.83584 to 0.87973, saving model to 궤양성각막질환_DenseNet.h5\n",
            "Epoch 4/50\n",
            "157/645 [======>.......................] - ETA: 1:58 - loss: 0.2168 - accuracy: 0.9141"
          ]
        }
      ],
      "source": [
        "history = model.fit(train_generator,\n",
        "          epochs=50,\n",
        "          validation_data=test_generator,\n",
        "        #   steps_per_epoch=len(train_generator),\n",
        "        #   validation_steps=len(test_generator),\n",
        "          callbacks=[es, mc]\n",
        "          )"
      ]
    },
    {
      "cell_type": "code",
      "execution_count": null,
      "metadata": {
        "id": "5sv7EDuXoY38"
      },
      "outputs": [],
      "source": [
        "import matplotlib.pyplot as plt\n",
        "\n",
        "loss = history.history['loss']\n",
        "epochs = range(1, len(loss)+1)\n",
        "\n",
        "plt.figure(figsize=(12, 5))\n",
        "plt.subplot(1, 2, 1)\n",
        "plt.title('Loss')\n",
        "plt.plot(epochs, history.history['loss'], 'b', label='train_loss')\n",
        "plt.plot(epochs, history.history['val_loss'], 'g', label='val_loss')\n",
        "plt.ylim([0,1.0])\n",
        "plt.grid(True)\n",
        "plt.xlabel('Epoch')\n",
        "plt.ylabel('Loss')\n",
        "plt.legend(loc='best')\n",
        "\n",
        "plt.subplot(1, 2, 2)\n",
        "plt.title('Accuray')\n",
        "plt.plot(epochs, history.history['accuracy'], 'b', label='train_accuracy')\n",
        "plt.plot(epochs, history.history['val_accuracy'], 'g', label='val_accuracy')\n",
        "plt.ylim([0.7,1])\n",
        "plt.grid(True)\n",
        "plt.ylabel('Accuracy')\n",
        "plt.legend(loc='best')\n",
        "plt.show()"
      ]
    },
    {
      "cell_type": "code",
      "execution_count": null,
      "metadata": {
        "id": "q-5BlbLF1Tm8"
      },
      "outputs": [],
      "source": []
    }
  ],
  "metadata": {
    "accelerator": "GPU",
    "colab": {
      "provenance": []
    },
    "gpuClass": "standard",
    "kernelspec": {
      "display_name": "chaddol",
      "language": "python",
      "name": "python3"
    },
    "language_info": {
      "codemirror_mode": {
        "name": "ipython",
        "version": 3
      },
      "file_extension": ".py",
      "mimetype": "text/x-python",
      "name": "python",
      "nbconvert_exporter": "python",
      "pygments_lexer": "ipython3",
      "version": "3.9.15"
    },
    "vscode": {
      "interpreter": {
        "hash": "a687caacb10a844a55fefd3b5f8dd537474e79b4cd9a59a4e226ce1d72456a88"
      }
    }
  },
  "nbformat": 4,
  "nbformat_minor": 0
}
