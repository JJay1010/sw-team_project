{
 "cells": [
  {
   "cell_type": "code",
   "execution_count": 1,
   "metadata": {},
   "outputs": [],
   "source": [
    "import glob \n",
    "import os\n",
    "from PIL import Image\n",
    "import matplotlib.pyplot as plt\n",
    "from PIL import ImageFile\n",
    "import numpy as np\n",
    "import json\n",
    "%matplotlib inline\n",
    "from tqdm import tqdm"
   ]
  },
  {
   "cell_type": "code",
   "execution_count": 2,
   "metadata": {},
   "outputs": [],
   "source": [
    "ImageFile.LOAD_TRUNCATED_IMAGES = True"
   ]
  },
  {
   "cell_type": "code",
   "execution_count": 3,
   "metadata": {},
   "outputs": [],
   "source": [
    "# di_class = ['Ab01','Ab02','Ab03','Ab04','Ab05','Ab06','Ab07','Ab08','Ab09','Ab10']\n",
    "di_class = ['Ab01','Ab02','Ab05','Ab07','Ab08']"
   ]
  },
  {
   "cell_type": "code",
   "execution_count": 4,
   "metadata": {},
   "outputs": [],
   "source": [
    "img_dir_path = 'C:/Users/ejkan/Desktop/abdnominal_data/validation/dog/img'\n"
   ]
  },
  {
   "cell_type": "code",
   "execution_count": 5,
   "metadata": {},
   "outputs": [],
   "source": [
    "json_dir_path = \"C:/Users/ejkan/Desktop/abdnominal_data/validation/dog/label\"\n",
    "json_name_list = os.listdir(json_dir_path)"
   ]
  },
  {
   "cell_type": "code",
   "execution_count": 6,
   "metadata": {},
   "outputs": [
    {
     "name": "stdout",
     "output_type": "stream",
     "text": [
      "30295\n"
     ]
    }
   ],
   "source": [
    "print(len(json_name_list))"
   ]
  },
  {
   "cell_type": "code",
   "execution_count": 7,
   "metadata": {},
   "outputs": [
    {
     "name": "stdout",
     "output_type": "stream",
     "text": [
      "['D_60_20120612_CM_0028_NOR_Ab07_20211221_0730.json', 'D_60_20120612_CM_0028_NOR_Ab08_20211120_0093.json', 'D_60_20120612_CM_0028_NOR_Ab09_20211221_0085.json', 'D_60_20120612_CM_0032_ABN_Ab09_20211217_1119.json', 'D_60_20120612_CM_0032_NOR_Ab08_20211228_0725.json', 'D_60_20120612_CM_0032_NOR_Ab09_20211224_3450.json', 'D_60_20120612_CM_0032_NOR_Ab09_20211224_3451.json', 'D_60_20120612_IF_0020_ABN_Ab10_20210124_0148.json', 'D_60_20120612_IF_0020_NOR_Ab01_20210124_0001.json', 'D_60_20120612_IF_0020_NOR_Ab01_20210127_0001.json']\n"
     ]
    }
   ],
   "source": [
    "print(json_name_list[:10])"
   ]
  },
  {
   "cell_type": "code",
   "execution_count": 8,
   "metadata": {},
   "outputs": [],
   "source": [
    "def padding(img_path):\n",
    "    img = Image.open(img_path)\n",
    "    img = img.convert('RGB')\n",
    "    w, h = img.size\n",
    "    img = np.array(img)\n",
    "    \n",
    "    margin = [np.abs(w - h) // 2 , np.abs(w - h) // 2]\n",
    "    if w > h:\n",
    "        margin_list = [margin, [0,0]]\n",
    "    else:\n",
    "        margin_list = [[0,0], margin]\n",
    "        \n",
    "    if len(img.shape) == 3:\n",
    "        margin_list.append([0,0])\n",
    "        \n",
    "    output = np.pad(img, margin_list, mode='constant')\n",
    "    img = Image.fromarray(output)\n",
    "    img = img.resize((224, 224))\n",
    "    img = np.array(img)\n",
    "    return img"
   ]
  },
  {
   "cell_type": "code",
   "execution_count": 9,
   "metadata": {},
   "outputs": [],
   "source": [
    "def status_to_int(status):\n",
    "    if status == 'NOR': #정상\n",
    "        int_status = 0\n",
    "    else:\n",
    "        int_status = 1\n",
    "    return int_status"
   ]
  },
  {
   "cell_type": "code",
   "execution_count": 10,
   "metadata": {},
   "outputs": [],
   "source": [
    "def json_name_to_img_path(json_name):\n",
    "    img_name = json_name.split('.')[0] +'.jpg'\n",
    "    img_path = img_dir_path + '/'+ img_name\n",
    "    return img_path"
   ]
  },
  {
   "cell_type": "code",
   "execution_count": 11,
   "metadata": {},
   "outputs": [
    {
     "name": "stderr",
     "output_type": "stream",
     "text": [
      "100%|██████████| 30295/30295 [04:45<00:00, 106.05it/s]\n",
      "100%|██████████| 30295/30295 [03:22<00:00, 149.90it/s]\n",
      "100%|██████████| 30295/30295 [02:18<00:00, 218.18it/s]\n",
      "100%|██████████| 30295/30295 [05:56<00:00, 84.88it/s] \n",
      "100%|██████████| 30295/30295 [03:31<00:00, 143.47it/s]\n"
     ]
    }
   ],
   "source": [
    "dir_path = \"C:/Users/ejkan/Desktop/data_224_dog_val\"\n",
    "\n",
    "for di in di_class:\n",
    "    x_data, y_data = [], []\n",
    "    for json_name in tqdm(json_name_list):\n",
    "        if json_name.split('_')[6] == di:\n",
    "            json_path = json_dir_path + '/'+ json_name\n",
    "            with open(json_path, 'r', encoding='utf-8') as f:\n",
    "                data = json.load(f)\n",
    "                if data[\"metadata\"]['Position'] == \"VD\":\n",
    "                    continue\n",
    "                status = data[\"metadata\"]['Disease']\n",
    "                int_status = status_to_int(status)\n",
    "                y_data.append(int_status)\n",
    "            img_path = json_name_to_img_path(json_name)\n",
    "            img = padding(img_path)\n",
    "            x_data.append(img)\n",
    "    x_data = np.array(x_data)\n",
    "    y_data = np.array(y_data)\n",
    "\n",
    "    np.save(dir_path +'/'+di+'_x_data_lateral.npy', x_data)\n",
    "    np.save(dir_path +'/'+di+'_y_data_lateral.npy', y_data)\n",
    "    "
   ]
  }
 ],
 "metadata": {
  "kernelspec": {
   "display_name": "Python 3",
   "language": "python",
   "name": "python3"
  },
  "language_info": {
   "codemirror_mode": {
    "name": "ipython",
    "version": 3
   },
   "file_extension": ".py",
   "mimetype": "text/x-python",
   "name": "python",
   "nbconvert_exporter": "python",
   "pygments_lexer": "ipython3",
   "version": "3.10.8"
  },
  "orig_nbformat": 4,
  "vscode": {
   "interpreter": {
    "hash": "c59c67a941c3944d4dd88569b66326e1083e7e3ff9f2bd5f689644d220ee9ddd"
   }
  }
 },
 "nbformat": 4,
 "nbformat_minor": 2
}
