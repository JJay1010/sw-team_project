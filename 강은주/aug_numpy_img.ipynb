{
 "cells": [
  {
   "cell_type": "code",
   "execution_count": null,
   "metadata": {},
   "outputs": [],
   "source": [
    "import numpy as np\n",
    "import imgaug.augmenters as iaa\n",
    "from tqdm import tqdm\n"
   ]
  },
  {
   "cell_type": "code",
   "execution_count": null,
   "metadata": {},
   "outputs": [],
   "source": [
    "x_data = np.load('/content/drive/MyDrive/팀 프로젝트/흉부_xray/224/lateral/Ch06_x_lateral.npy')\n",
    "y_data = np.load('/content/drive/MyDrive/팀 프로젝트/흉부_xray/224/lateral/Ch06_y_lateral.npy')"
   ]
  },
  {
   "cell_type": "code",
   "execution_count": null,
   "metadata": {},
   "outputs": [],
   "source": [
    "# train, test split"
   ]
  },
  {
   "cell_type": "code",
   "execution_count": null,
   "metadata": {},
   "outputs": [],
   "source": [
    "seq = iaa.Sequential([\n",
    "    iaa.Affine(rotate=(-10, 10)), # rotate images between -45 and 45 degrees\n",
    "    iaa.AdditiveGaussianNoise(scale=(0, 0.05*255)), # add gaussian noise with a scale between 0 and 0.05 times the maximum pixel value\n",
    "    iaa.SaltAndPepper(0.005), # add 5% of salt and pepper noise\n",
    "    iaa.PerspectiveTransform(scale=(0.01, 0.1)), # add perspective transform with a scale between 0.01 and 0.1\n",
    "    iaa.Multiply((0.8, 1.2))\n",
    "])"
   ]
  },
  {
   "cell_type": "code",
   "execution_count": null,
   "metadata": {},
   "outputs": [],
   "source": [
    "x_temp, y_temp = [], []\n",
    "for idx, img in enumerate(x):\n",
    "  for _ in range(5):\n",
    "    x_aug = seq.augment_image(img)\n",
    "    x_temp.append(x_aug)\n",
    "    y_temp.append(y[idx])\n",
    "\n",
    "x_temp, y_temp = np.array(x_temp), np.array(y_temp)\n",
    "x = np.concatenate((x,x_temp))\n",
    "y = np.concatenate((y,y_temp))\n",
    "x.shape, y.shape"
   ]
  }
 ],
 "metadata": {
  "kernelspec": {
   "display_name": "Python 3",
   "language": "python",
   "name": "python3"
  },
  "language_info": {
   "name": "python",
   "version": "3.10.8"
  },
  "orig_nbformat": 4,
  "vscode": {
   "interpreter": {
    "hash": "c59c67a941c3944d4dd88569b66326e1083e7e3ff9f2bd5f689644d220ee9ddd"
   }
  }
 },
 "nbformat": 4,
 "nbformat_minor": 2
}
